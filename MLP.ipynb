{
 "cells": [
  {
   "cell_type": "code",
   "execution_count": 42,
   "metadata": {},
   "outputs": [],
   "source": [
    "#配置环境\n",
    "from sklearn.neural_network import MLPClassifier\n",
    "import numpy as np\n",
    "import matplotlib.pyplot as plt"
   ]
  },
  {
   "cell_type": "code",
   "execution_count": 4,
   "metadata": {},
   "outputs": [],
   "source": [
    "#准备样本\n",
    "def loadDataSet(fileName,fromLine,toLine,avoidFrom=0,avoidTo=0,ifPreprocess=False,ifNormalize=False):\n",
    "    dataMat=[]\n",
    "    labelMat=[]\n",
    "    inFile=open(fileName)\n",
    "    inFile.readline()\n",
    "    lineNumber=0\n",
    "    for line in inFile.readlines():\n",
    "        if(avoidFrom!=avoidTo):\n",
    "            if((lineNumber<=toLine and lineNumber>=fromLine) and (lineNumber<avoidFrom or lineNumber>avoidTo)):\n",
    "                tempMat=[]\n",
    "                lineArr=line.split(',')\n",
    "                labelMat.append(float(lineArr[1]))\n",
    "                for element in lineArr[2:]:\n",
    "                    tempMat.append(float(element))\n",
    "                dataMat.append(tempMat)\n",
    "                lineNumber+=1\n",
    "            elif(lineNumber>toLine):\n",
    "                break\n",
    "            else:\n",
    "                lineNumber+=1\n",
    "                continue\n",
    "        else:\n",
    "            if(lineNumber<=toLine and lineNumber>=fromLine):\n",
    "                tempMat=[]\n",
    "                lineArr=line.split(',')\n",
    "                labelMat.append(float(lineArr[1]))\n",
    "                for element in lineArr[2:]:\n",
    "                    tempMat.append(float(element))\n",
    "                dataMat.append(tempMat)\n",
    "                lineNumber+=1\n",
    "            elif(lineNumber<toLine):\n",
    "                lineNumber+=1\n",
    "                continue\n",
    "            else:\n",
    "                break\n",
    "    if(ifPreprocess):\n",
    "        dataMat=preprocessing.scale(dataMat)\n",
    "    if(ifNormalize):\n",
    "        normalizer = preprocessing.Normalizer().fit(dataMat)\n",
    "        dataMat=normalizer.transform(dataMat)\n",
    "    return dataMat,labelMat"
   ]
  },
  {
   "cell_type": "code",
   "execution_count": 29,
   "metadata": {},
   "outputs": [],
   "source": [
    "#选择不同样本做测试集合的结果，使用logistic做激活函数\n",
    "def validation():\n",
    "    Testsize=50\n",
    "    testRange=list(range(0,250,Testsize))\n",
    "    for begin in testRange:\n",
    "            print(\"\\nThe range of test data is [%d,%d]:\"%(begin,begin+Testsize))\n",
    "            X,y=loadDataSet(\"mostRelated5Features.csv\",0,249,begin,begin+Testsize)\n",
    "            Xtest,ytest=loadDataSet(\"mostRelated5Features.csv\",begin,begin+Testsize)\n",
    "            clf_MLP_log=MLPClassifier(hidden_layer_sizes=[1],activation='logistic',solver='sgd',random_state=3,max_iter=10000)#use the  rbf kernel function\n",
    "            clf_MLP_log.fit(X,y)\n",
    "            score_log=clf_MLP_log.score(Xtest,ytest)\n",
    "            print(\"score_rbf:%f\"%score_log)"
   ]
  },
  {
   "cell_type": "code",
   "execution_count": 30,
   "metadata": {},
   "outputs": [
    {
     "name": "stdout",
     "output_type": "stream",
     "text": [
      "\n",
      "The range of test data is [0,50]:\n",
      "score_rbf:0.803922\n",
      "\n",
      "The range of test data is [50,100]:\n",
      "score_rbf:0.666667\n",
      "\n",
      "The range of test data is [100,150]:\n",
      "score_rbf:0.588235\n",
      "\n",
      "The range of test data is [150,200]:\n",
      "score_rbf:0.588235\n",
      "\n",
      "The range of test data is [200,250]:\n",
      "score_rbf:0.560000\n"
     ]
    }
   ],
   "source": [
    "validation()"
   ]
  },
  {
   "cell_type": "code",
   "execution_count": 31,
   "metadata": {},
   "outputs": [],
   "source": [
    "#选择第二段做测试集,测试不同激活函数的影响,隐藏层使用1层\n",
    "def activate():\n",
    "    begin=50\n",
    "    Testsize=50\n",
    "    print(\"\\nThe range of test data is [%d,%d]:\"%(begin,begin+Testsize))\n",
    "    X,y=loadDataSet(\"mostRelated5Features.csv\",0,249,begin,begin+Testsize)\n",
    "    Xtest,ytest=loadDataSet(\"mostRelated5Features.csv\",begin,begin+Testsize)\n",
    "    #clf_MLP_log=MLPClassifier(hidden_layer_sizes=[1],activation='logistic',solver='sgd',random_state=3)#use the  rbf kernel function\n",
    "    clf_identity=MLPClassifier(hidden_layer_sizes=[1],activation='identity',solver='sgd',random_state=3,max_iter=10000)\n",
    "    clf_identity.fit(X,y)\n",
    "    score_identity=clf_identity.score(Xtest,ytest)\n",
    "    print(\"score_identity:%f\"%score_identity)\n",
    "    clf_tanh=MLPClassifier(hidden_layer_sizes=[1],activation='tanh',solver='sgd',random_state=3,max_iter=10000)\n",
    "    clf_tanh.fit(X,y)\n",
    "    score_tanh=clf_tanh.score(Xtest,ytest)\n",
    "    print(\"score_tanh:%f\"%score_tanh)\n",
    "    clf_relu=MLPClassifier(hidden_layer_sizes=[1],activation='relu',solver='sgd',random_state=3,max_iter=10000)\n",
    "    clf_relu.fit(X,y)\n",
    "    score_relu=clf_relu.score(Xtest,ytest)\n",
    "    print(\"score_relu:%f\"%score_relu)"
   ]
  },
  {
   "cell_type": "code",
   "execution_count": 32,
   "metadata": {},
   "outputs": [
    {
     "name": "stdout",
     "output_type": "stream",
     "text": [
      "\n",
      "The range of test data is [50,100]:\n",
      "score_identity:0.784314\n",
      "score_tanh:0.647059\n",
      "score_relu:0.764706\n"
     ]
    }
   ],
   "source": [
    "activate()"
   ]
  },
  {
   "cell_type": "code",
   "execution_count": 33,
   "metadata": {},
   "outputs": [
    {
     "name": "stdout",
     "output_type": "stream",
     "text": [
      "\n",
      "The range of test data is [50,100]:\n",
      "score_indentity:0.745098\n",
      "score_tanh:0.745098\n",
      "score_relu:0.725490\n"
     ]
    }
   ],
   "source": [
    "#change the solver and retry\n",
    "#use adam this time\n",
    "begin=50\n",
    "Testsize=50\n",
    "print(\"\\nThe range of test data is [%d,%d]:\"%(begin,begin+Testsize))\n",
    "X,y=loadDataSet(\"mostRelated5Features.csv\",0,249,begin,begin+Testsize)\n",
    "Xtest,ytest=loadDataSet(\"mostRelated5Features.csv\",begin,begin+Testsize)\n",
    "#clf_MLP_log=MLPClassifier(hidden_layer_sizes=[1],activation='logistic',solver='sgd',random_state=3)#use the  rbf kernel function\n",
    "clf_identity=MLPClassifier(hidden_layer_sizes=[1],activation='identity',solver='adam',random_state=3,max_iter=10000)\n",
    "clf_identity.fit(X,y)\n",
    "score_identity=clf_identity.score(Xtest,ytest)\n",
    "print(\"score_indentity:%f\"%score_identity)\n",
    "clf_tanh=MLPClassifier(hidden_layer_sizes=[1],activation='tanh',solver='adam',random_state=3,max_iter=10000)\n",
    "clf_tanh.fit(X,y)\n",
    "score_tanh=clf_tanh.score(Xtest,ytest)\n",
    "print(\"score_tanh:%f\"%score_tanh)\n",
    "clf_relu=MLPClassifier(hidden_layer_sizes=[1],activation='relu',solver='adam',random_state=3,max_iter=10000)\n",
    "clf_relu.fit(X,y)\n",
    "score_relu=clf_relu.score(Xtest,ytest)\n",
    "print(\"score_relu:%f\"%score_relu)"
   ]
  },
  {
   "cell_type": "markdown",
   "metadata": {},
   "source": [
    "choose solver this time:"
   ]
  },
  {
   "cell_type": "code",
   "execution_count": 48,
   "metadata": {},
   "outputs": [],
   "source": [
    "testRange=list(range(0,250,50))\n",
    "Testsize=50\n",
    "lbfgsScoreList=[]\n",
    "for begin in testRange:\n",
    "    #print(\"\\nThe range of test data is [%d,%d]:\"%(begin,begin+Testsize))\n",
    "    X,y=loadDataSet(\"mostRelated5Features.csv\",0,249,begin,begin+Testsize)\n",
    "    Xtest,ytest=loadDataSet(\"mostRelated5Features.csv\",begin,begin+Testsize)\n",
    "    clf_identity=MLPClassifier(hidden_layer_sizes=[1],activation='tanh',solver='lbfgs',random_state=3,max_iter=10000)\n",
    "    clf_identity.fit(X,y)\n",
    "    score_identity=clf_identity.score(Xtest,ytest)\n",
    "    lbfgsScoreList.append(score_identity)\n",
    "sgdScoreList=[]\n",
    "for begin in testRange:\n",
    "    #print(\"\\nThe range of test data is [%d,%d]:\"%(begin,begin+Testsize))\n",
    "    X,y=loadDataSet(\"mostRelated5Features.csv\",0,249,begin,begin+Testsize)\n",
    "    Xtest,ytest=loadDataSet(\"mostRelated5Features.csv\",begin,begin+Testsize)\n",
    "    clf_tanh=MLPClassifier(hidden_layer_sizes=[1],activation='tanh',solver='sgd',random_state=3,max_iter=10000)\n",
    "    clf_tanh.fit(X,y)\n",
    "    score_tanh=clf_tanh.score(Xtest,ytest)\n",
    "    sgdScoreList.append(score_tanh)\n",
    "adamScoreList=[]\n",
    "for begin in testRange:\n",
    "    #print(\"\\nThe range of test data is [%d,%d]:\"%(begin,begin+Testsize))\n",
    "    X,y=loadDataSet(\"mostRelated5Features.csv\",0,249,begin,begin+Testsize)\n",
    "    Xtest,ytest=loadDataSet(\"mostRelated5Features.csv\",begin,begin+Testsize)\n",
    "    clf_relu=MLPClassifier(hidden_layer_sizes=[1],activation='tanh',solver='adam',random_state=3,max_iter=10000)\n",
    "    clf_relu.fit(X,y)\n",
    "    score_relu=clf_relu.score(Xtest,ytest)\n",
    "    adamScoreList.append(score_relu)"
   ]
  },
  {
   "cell_type": "code",
   "execution_count": 49,
   "metadata": {},
   "outputs": [
    {
     "data": {
      "text/plain": [
       "<matplotlib.legend.Legend at 0x7ff20d2e0550>"
      ]
     },
     "execution_count": 49,
     "metadata": {},
     "output_type": "execute_result"
    },
    {
     "data": {
      "image/png": "[encoded data removed]",
      "text/plain": [
       "<Figure size 432x288 with 1 Axes>"
      ]
     },
     "metadata": {
      "needs_background": "light"
     },
     "output_type": "display_data"
    }
   ],
   "source": [
    "%matplotlib inline\n",
    "plt.xlabel('testRange')\n",
    "plt.ylabel('Score')\n",
    "plt.plot(testRange,lbfgsScoreList,color='green',label='lbfgs')\n",
    "plt.plot(testRange,sgdScoreList,color='blue',label='sgd')\n",
    "plt.plot(testRange,adamScoreList,color='red',label='adam')\n",
    "plt.legend() "
   ]
  },
  {
   "cell_type": "markdown",
   "metadata": {},
   "source": [
    "so we defintely use lbfgs"
   ]
  },
  {
   "cell_type": "code",
   "execution_count": 34,
   "metadata": {},
   "outputs": [
    {
     "name": "stdout",
     "output_type": "stream",
     "text": [
      "\n",
      "The range of test data is [50,100]:\n",
      "score_identity:0.764706\n",
      "score_tanh:0.764706\n",
      "score_relu:0.745098\n"
     ]
    }
   ],
   "source": [
    "#use lbfgs this time\n",
    "begin=50\n",
    "Testsize=50\n",
    "print(\"\\nThe range of test data is [%d,%d]:\"%(begin,begin+Testsize))\n",
    "X,y=loadDataSet(\"mostRelated5Features.csv\",0,249,begin,begin+Testsize)\n",
    "Xtest,ytest=loadDataSet(\"mostRelated5Features.csv\",begin,begin+Testsize)\n",
    "#clf_MLP_log=MLPClassifier(hidden_layer_sizes=[1],activation='logistic',solver='sgd',random_state=3)#use the  rbf kernel function\n",
    "clf_identity=MLPClassifier(hidden_layer_sizes=[1],activation='identity',solver='lbfgs',random_state=3,max_iter=10000)\n",
    "clf_identity.fit(X,y)\n",
    "score_identity=clf_identity.score(Xtest,ytest)\n",
    "print(\"score_identity:%f\"%score_identity)\n",
    "clf_tanh=MLPClassifier(hidden_layer_sizes=[1],activation='tanh',solver='lbfgs',random_state=3,max_iter=10000)\n",
    "clf_tanh.fit(X,y)\n",
    "score_tanh=clf_tanh.score(Xtest,ytest)\n",
    "print(\"score_tanh:%f\"%score_tanh)\n",
    "clf_relu=MLPClassifier(hidden_layer_sizes=[1],activation='relu',solver='lbfgs',random_state=3,max_iter=10000)\n",
    "clf_relu.fit(X,y)\n",
    "score_relu=clf_relu.score(Xtest,ytest)\n",
    "print(\"score_relu:%f\"%score_relu)"
   ]
  },
  {
   "cell_type": "code",
   "execution_count": 40,
   "metadata": {},
   "outputs": [],
   "source": [
    "testRange=list(range(0,250,50))\n",
    "Testsize=50\n",
    "identityScoreList=[]\n",
    "for begin in testRange:\n",
    "    #print(\"\\nThe range of test data is [%d,%d]:\"%(begin,begin+Testsize))\n",
    "    X,y=loadDataSet(\"mostRelated5Features.csv\",0,249,begin,begin+Testsize)\n",
    "    Xtest,ytest=loadDataSet(\"mostRelated5Features.csv\",begin,begin+Testsize)\n",
    "    clf_identity=MLPClassifier(hidden_layer_sizes=[1],activation='identity',solver='lbfgs',random_state=3,max_iter=10000)\n",
    "    clf_identity.fit(X,y)\n",
    "    score_identity=clf_identity.score(Xtest,ytest)\n",
    "    identityScoreList.append(score_identity)\n",
    "tanhScoreList=[]\n",
    "for begin in testRange:\n",
    "    #print(\"\\nThe range of test data is [%d,%d]:\"%(begin,begin+Testsize))\n",
    "    X,y=loadDataSet(\"mostRelated5Features.csv\",0,249,begin,begin+Testsize)\n",
    "    Xtest,ytest=loadDataSet(\"mostRelated5Features.csv\",begin,begin+Testsize)\n",
    "    clf_tanh=MLPClassifier(hidden_layer_sizes=[1],activation='tanh',solver='lbfgs',random_state=3,max_iter=10000)\n",
    "    clf_tanh.fit(X,y)\n",
    "    score_tanh=clf_tanh.score(Xtest,ytest)\n",
    "    tanhScoreList.append(score_tanh)\n",
    "reluScoreList=[]\n",
    "for begin in testRange:\n",
    "    #print(\"\\nThe range of test data is [%d,%d]:\"%(begin,begin+Testsize))\n",
    "    X,y=loadDataSet(\"mostRelated5Features.csv\",0,249,begin,begin+Testsize)\n",
    "    Xtest,ytest=loadDataSet(\"mostRelated5Features.csv\",begin,begin+Testsize)\n",
    "    clf_relu=MLPClassifier(hidden_layer_sizes=[1],activation='relu',solver='lbfgs',random_state=3,max_iter=10000)\n",
    "    clf_relu.fit(X,y)\n",
    "    score_relu=clf_relu.score(Xtest,ytest)\n",
    "    reluScoreList.append(score_relu)"
   ]
  },
  {
   "cell_type": "code",
   "execution_count": 46,
   "metadata": {},
   "outputs": [
    {
     "data": {
      "text/plain": [
       "<matplotlib.legend.Legend at 0x7ff20d13ba10>"
      ]
     },
     "execution_count": 46,
     "metadata": {},
     "output_type": "execute_result"
    },
    {
     "data": {
      "image/png": "[encoded data removed]",
      "text/plain": [
       "<Figure size 432x288 with 1 Axes>"
      ]
     },
     "metadata": {
      "needs_background": "light"
     },
     "output_type": "display_data"
    }
   ],
   "source": [
    "%matplotlib inline\n",
    "plt.xlabel('testRange')\n",
    "plt.ylabel('Score')\n",
    "plt.plot(testRange,identityScoreList,color='green',label='identity')\n",
    "plt.plot(testRange,tanhScoreList,color='blue',label='tanh')\n",
    "plt.plot(testRange,reluScoreList,color='red',label='relu')\n",
    "plt.legend() "
   ]
  },
  {
   "cell_type": "markdown",
   "metadata": {},
   "source": [
    "so we decide to use lbfgs this time:\n",
    "\n",
    "test hidden_layer-size this time:"
   ]
  },
  {
   "cell_type": "code",
   "execution_count": 100,
   "metadata": {},
   "outputs": [],
   "source": [
    "#use tanh activation this time\n",
    "#use lbfg solver this time\n",
    "#test the accuracy when hidden_layer_size changed\n",
    "#each layer has 10 nodes\n",
    "testRange=list(range(0,250,50))\n",
    "Testsize=50\n",
    "oneLayerScoreList=[]\n",
    "for begin in testRange:\n",
    "    #print(\"\\nThe range of test data is [%d,%d]:\"%(begin,begin+Testsize))\n",
    "    X,y=loadDataSet(\"mostRelated5Features.csv\",0,249,begin,begin+Testsize)\n",
    "    Xtest,ytest=loadDataSet(\"mostRelated5Features.csv\",begin,begin+Testsize)\n",
    "    clf_tanh=MLPClassifier(activation='tanh',solver='lbfgs',random_state=3,max_iter=10000,hidden_layer_sizes=(10))\n",
    "    clf_tanh.fit(X,y)\n",
    "    score_tanh=clf_tanh.score(Xtest,ytest)\n",
    "    oneLayerScoreList.append(score_tanh)\n",
    "twoLayerScoreList=[]\n",
    "for begin in testRange:\n",
    "    #print(\"\\nThe range of test data is [%d,%d]:\"%(begin,begin+Testsize))\n",
    "    X,y=loadDataSet(\"mostRelated5Features.csv\",0,249,begin,begin+Testsize)\n",
    "    Xtest,ytest=loadDataSet(\"mostRelated5Features.csv\",begin,begin+Testsize)\n",
    "    clf_tanh=MLPClassifier(activation='tanh',solver='lbfgs',random_state=3,max_iter=10000,hidden_layer_sizes=(10,10))\n",
    "    clf_tanh.fit(X,y)\n",
    "    score_tanh=clf_tanh.score(Xtest,ytest)\n",
    "    twoLayerScoreList.append(score_tanh)\n",
    "threeLayerScoreList=[]\n",
    "for begin in testRange:\n",
    "    #print(\"\\nThe range of test data is [%d,%d]:\"%(begin,begin+Testsize))\n",
    "    X,y=loadDataSet(\"mostRelated5Features.csv\",0,249,begin,begin+Testsize)\n",
    "    Xtest,ytest=loadDataSet(\"mostRelated5Features.csv\",begin,begin+Testsize)\n",
    "    clf_tanh=MLPClassifier(activation='tanh',solver='lbfgs',random_state=3,max_iter=10000,hidden_layer_sizes=(10,10,10))\n",
    "    clf_tanh.fit(X,y)\n",
    "    score_tanh=clf_tanh.score(Xtest,ytest)\n",
    "    threeLayerScoreList.append(score_tanh)\n",
    "fourLayerScoreList=[]\n",
    "for begin in testRange:\n",
    "    #print(\"\\nThe range of test data is [%d,%d]:\"%(begin,begin+Testsize))\n",
    "    X,y=loadDataSet(\"mostRelated5Features.csv\",0,249,begin,begin+Testsize)\n",
    "    Xtest,ytest=loadDataSet(\"mostRelated5Features.csv\",begin,begin+Testsize)\n",
    "    clf_tanh=MLPClassifier(activation='tanh',solver='lbfgs',random_state=3,max_iter=10000,hidden_layer_sizes=(10,10,10,10))\n",
    "    clf_tanh.fit(X,y)\n",
    "    score_tanh=clf_tanh.score(Xtest,ytest)\n",
    "    fourLayerScoreList.append(score_tanh)\n",
    "oneLayer_20nodesScoreList=[]\n",
    "for begin in testRange:\n",
    "    #print(\"\\nThe range of test data is [%d,%d]:\"%(begin,begin+Testsize))\n",
    "    X,y=loadDataSet(\"mostRelated5Features.csv\",0,249,begin,begin+Testsize)\n",
    "    Xtest,ytest=loadDataSet(\"mostRelated5Features.csv\",begin,begin+Testsize)\n",
    "    clf_tanh=MLPClassifier(activation='tanh',solver='lbfgs',random_state=3,max_iter=10000,hidden_layer_sizes=(10))\n",
    "    clf_tanh.fit(X,y)\n",
    "    score_tanh=clf_tanh.score(Xtest,ytest)\n",
    "    oneLayer_20nodesScoreList.append(score_tanh)"
   ]
  },
  {
   "cell_type": "code",
   "execution_count": 101,
   "metadata": {},
   "outputs": [
    {
     "data": {
      "text/plain": [
       "<matplotlib.legend.Legend at 0x7ff1fc6877d0>"
      ]
     },
     "execution_count": 101,
     "metadata": {},
     "output_type": "execute_result"
    },
    {
     "data": {
      "image/png": "[encoded data removed]",
      "text/plain": [
       "<Figure size 432x288 with 1 Axes>"
      ]
     },
     "metadata": {
      "needs_background": "light"
     },
     "output_type": "display_data"
    }
   ],
   "source": [
    "%matplotlib inline\n",
    "plt.xlabel('testRange')\n",
    "plt.ylabel('Score')\n",
    "plt.plot(testRange,oneLayerScoreList,color='green',label='oneLayer')\n",
    "plt.plot(testRange,twoLayerScoreList,color='blue',label='twoLayer')\n",
    "plt.plot(testRange,threeLayerScoreList,color='red',label='threeLayer')\n",
    "plt.plot(testRange,fourLayerScoreList,color='grey',label='fourLayer')\n",
    "plt.plot(testRange,oneLayer_20nodesScoreList,color='yellow',label='oneLayer-10nodes')\n",
    "plt.legend() "
   ]
  },
  {
   "cell_type": "code",
   "execution_count": 86,
   "metadata": {},
   "outputs": [],
   "source": [
    "def writeTestData(fileName,y):\n",
    "    file=open(fileName,'w')\n",
    "    index=250\n",
    "    file.write(\"id,target\\n\")\n",
    "    for i in y:\n",
    "        file.write(\"%d,%d\\n\"%(index,i))\n",
    "        index+=1\n",
    "    file.close()\n",
    "def loadTestData(fileName):\n",
    "    dataMat=[]\n",
    "    inFile=open(fileName)\n",
    "    inFile.readline()\n",
    "    for line in inFile.readlines():\n",
    "        tempMat=[]\n",
    "        lineArr=line.split(',')\n",
    "        for element in lineArr[1:]:\n",
    "            tempMat.append(float(element))\n",
    "        dataMat.append(tempMat)\n",
    "    return dataMat"
   ]
  },
  {
   "cell_type": "code",
   "execution_count": 94,
   "metadata": {},
   "outputs": [
    {
     "name": "stdout",
     "output_type": "stream",
     "text": [
      "real y,predict y\n",
      "1.0 , 1.0\n",
      "0.0 , 0.0\n",
      "1.0 , 0.0\n",
      "1.0 , 1.0\n",
      "1.0 , 1.0\n",
      "0.0 , 0.0\n",
      "1.0 , 0.0\n",
      "0.0 , 1.0\n",
      "1.0 , 0.0\n",
      "0.0 , 0.0\n",
      "0.0 , 0.0\n",
      "0.0 , 1.0\n",
      "0.0 , 0.0\n",
      "1.0 , 1.0\n",
      "1.0 , 1.0\n",
      "0.0 , 1.0\n",
      "1.0 , 0.0\n",
      "1.0 , 1.0\n",
      "0.0 , 1.0\n",
      "1.0 , 0.0\n",
      "1.0 , 1.0\n",
      "1.0 , 1.0\n",
      "1.0 , 1.0\n",
      "1.0 , 1.0\n",
      "1.0 , 1.0\n",
      "0.0 , 0.0\n",
      "1.0 , 1.0\n",
      "0.0 , 0.0\n",
      "0.0 , 1.0\n",
      "1.0 , 1.0\n",
      "1.0 , 1.0\n",
      "1.0 , 1.0\n",
      "1.0 , 1.0\n",
      "0.0 , 0.0\n",
      "0.0 , 0.0\n",
      "1.0 , 1.0\n",
      "1.0 , 1.0\n",
      "1.0 , 1.0\n",
      "1.0 , 1.0\n",
      "0.0 , 0.0\n",
      "0.0 , 1.0\n",
      "1.0 , 1.0\n",
      "1.0 , 0.0\n",
      "0.0 , 1.0\n",
      "0.0 , 0.0\n",
      "0.0 , 0.0\n",
      "0.0 , 0.0\n",
      "0.0 , 0.0\n",
      "1.0 , 0.0\n",
      "0.0 , 1.0\n"
     ]
    }
   ],
   "source": [
    "#test the result\n",
    "part=5\n",
    "testSize=50\n",
    "begin=(part-1)*50\n",
    "X,y=loadDataSet(\"mostRelated5Features.csv\",0,249,begin,begin+testSize)\n",
    "Xtest,ytest=loadDataSet(\"mostRelated5Features.csv\",begin,begin+testSize)\n",
    "clf_rbf=MLPClassifier(activation='tanh',solver='lbfgs',random_state=3,max_iter=10000,hidden_layer_sizes=(10))\n",
    "clf_rbf.fit(X,y)\n",
    "ypredict=clf_rbf.predict(Xtest)\n",
    "size=np.size(ypredict)\n",
    "print(\"real y,predict y\")\n",
    "for i in range(size):\n",
    "    print(ytest[i],\",\",ypredict[i])"
   ]
  },
  {
   "cell_type": "code",
   "execution_count": 95,
   "metadata": {},
   "outputs": [],
   "source": [
    "XfinalTest=loadTestData('testSelect5features.csv')\n",
    "yfinalTest=clf_rbf.predict(XfinalTest)\n",
    "writeTestData(\"submissionMLP_part5_5features.csv\",yfinalTest)"
   ]
  },
  {
   "cell_type": "code",
   "execution_count": null,
   "metadata": {},
   "outputs": [],
   "source": []
  }
 ],
 "metadata": {
  "kernelspec": {
   "display_name": "Python 3",
   "language": "python",
   "name": "python3"
  },
  "language_info": {
   "codemirror_mode": {
    "name": "ipython",
    "version": 3
   },
   "file_extension": ".py",
   "mimetype": "text/x-python",
   "name": "python",
   "nbconvert_exporter": "python",
   "pygments_lexer": "ipython3",
   "version": "3.7.5"
  },
  "toc": {
   "base_numbering": 1,
   "nav_menu": {},
   "number_sections": true,
   "sideBar": true,
   "skip_h1_title": false,
   "title_cell": "Table of Contents",
   "title_sidebar": "Contents",
   "toc_cell": false,
   "toc_position": {},
   "toc_section_display": true,
   "toc_window_display": false
  }
 },
 "nbformat": 4,
 "nbformat_minor": 2
}

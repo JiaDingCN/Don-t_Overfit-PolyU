{
 "cells": [
  {
   "attachments": {},
   "cell_type": "markdown",
   "metadata": {},
   "source": [
    "use the attributes from correlation:choose the most related 20 features,which are:\n",
    "\n",
    "89,176,13,244,0,105,17,226,272,101,164,114,289,30,201,199,183,24,65,33"
   ]
  },
  {
   "cell_type": "code",
   "execution_count": 20,
   "metadata": {},
   "outputs": [],
   "source": [
    "#import models\n",
    "from sklearn.svm import SVC\n",
    "from sklearn import preprocessing\n",
    "import numpy as np\n",
    "import matplotlib.pyplot as plt"
   ]
  },
  {
   "cell_type": "code",
   "execution_count": 21,
   "metadata": {},
   "outputs": [],
   "source": [
    "#load data\n",
    "def loadDataSet(fileName,fromLine,toLine,avoidFrom=0,avoidTo=0,ifPreprocess=False,ifNormalize=False):\n",
    "    dataMat=[]\n",
    "    labelMat=[]\n",
    "    inFile=open(fileName)\n",
    "    inFile.readline()\n",
    "    lineNumber=0\n",
    "    for line in inFile.readlines():\n",
    "        if(avoidFrom!=avoidTo):\n",
    "            if((lineNumber<=toLine and lineNumber>=fromLine) and (lineNumber<avoidFrom or lineNumber>avoidTo)):\n",
    "                tempMat=[]\n",
    "                lineArr=line.split(',')\n",
    "                labelMat.append(float(lineArr[1]))\n",
    "                for element in lineArr[2:]:\n",
    "                    tempMat.append(float(element))\n",
    "                dataMat.append(tempMat)\n",
    "                lineNumber+=1\n",
    "            elif(lineNumber>toLine):\n",
    "                break\n",
    "            else:\n",
    "                lineNumber+=1\n",
    "                continue\n",
    "        else:\n",
    "            if(lineNumber<=toLine and lineNumber>=fromLine):\n",
    "                tempMat=[]\n",
    "                lineArr=line.split(',')\n",
    "                labelMat.append(float(lineArr[1]))\n",
    "                for element in lineArr[2:]:\n",
    "                    tempMat.append(float(element))\n",
    "                dataMat.append(tempMat)\n",
    "                lineNumber+=1\n",
    "            elif(lineNumber<toLine):\n",
    "                lineNumber+=1\n",
    "                continue\n",
    "            else:\n",
    "                break\n",
    "    if(ifPreprocess):\n",
    "        dataMat=preprocessing.scale(dataMat)\n",
    "    if(ifNormalize):\n",
    "        normalizer = preprocessing.Normalizer().fit(dataMat)\n",
    "        dataMat=normalizer.transform(dataMat)\n",
    "    return dataMat,labelMat"
   ]
  },
  {
   "cell_type": "code",
   "execution_count": 166,
   "metadata": {},
   "outputs": [],
   "source": [
    "#use linear model first\n",
    "#In the linear model,we only need to change the C,which shows the Regularization\n",
    "#set the trainTime as 20\n",
    "def linearSVM(trainTime):\n",
    "    testSize=50\n",
    "    testRange=list(range(0,250,testSize))\n",
    "    Clist=list(np.arange(0.001,1,0.1))\n",
    "    scoreList=[]\n",
    "    for thisC in Clist:\n",
    "        count=0\n",
    "        score=0\n",
    "        for i in range(trainTime):\n",
    "            for begin in testRange:\n",
    "                count+=1\n",
    "                X,y=loadDataSet(\"mostRelated5Features.csv\",0,249,begin,begin+testSize)\n",
    "                Xtest,ytest=loadDataSet(\"mostRelated5Features.csv\",begin,begin+testSize)\n",
    "                clf_linear=SVC(kernel='linear',C=thisC)\n",
    "                clf_linear.fit(X,y)\n",
    "                score+=clf_linear.score(Xtest,ytest)\n",
    "        score=score/count\n",
    "        scoreList.append(score)\n",
    "    #draw the relation between C and the accuracy\n",
    "    %matplotlib inline\n",
    "    plt.plot(Clist,scoreList)\n",
    "    plt.xlabel('C')\n",
    "    plt.ylabel('accuracy')"
   ]
  },
  {
   "cell_type": "code",
   "execution_count": 172,
   "metadata": {},
   "outputs": [
    {
     "name": "stdout",
     "output_type": "stream",
     "text": [
      "[0.7647058823529411, 0.7450980392156863, 0.7058823529411765, 0.803921568627451, 0.72]\n"
     ]
    }
   ],
   "source": [
    "testSize=50\n",
    "testRange=list(range(0,250,testSize))\n",
    "scoreList=[]\n",
    "for begin in testRange:\n",
    "    X,y=loadDataSet(\"mostRelated5Features.csv\",0,249,begin,begin+testSize)\n",
    "    Xtest,ytest=loadDataSet(\"mostRelated5Features.csv\",begin,begin+testSize)\n",
    "    clf_rbf=SVC(kernel='linear',C=0.38)\n",
    "    clf_rbf.fit(X,y)\n",
    "    score=clf_rbf.score(Xtest,ytest)\n",
    "    scoreList.append(score)\n",
    "print(scoreList)"
   ]
  },
  {
   "cell_type": "code",
   "execution_count": 177,
   "metadata": {},
   "outputs": [
    {
     "name": "stdout",
     "output_type": "stream",
     "text": [
      "real y,predict y\n",
      "1.0 , 0.0\n",
      "0.0 , 0.0\n",
      "0.0 , 0.0\n",
      "1.0 , 1.0\n",
      "0.0 , 1.0\n",
      "1.0 , 1.0\n",
      "1.0 , 1.0\n",
      "0.0 , 1.0\n",
      "0.0 , 1.0\n",
      "1.0 , 1.0\n",
      "1.0 , 1.0\n",
      "1.0 , 1.0\n",
      "1.0 , 1.0\n",
      "1.0 , 1.0\n",
      "0.0 , 0.0\n",
      "1.0 , 1.0\n",
      "1.0 , 1.0\n",
      "0.0 , 0.0\n",
      "0.0 , 0.0\n",
      "1.0 , 1.0\n",
      "0.0 , 1.0\n",
      "1.0 , 1.0\n",
      "0.0 , 1.0\n",
      "1.0 , 1.0\n",
      "0.0 , 1.0\n",
      "1.0 , 1.0\n",
      "0.0 , 1.0\n",
      "0.0 , 0.0\n",
      "0.0 , 1.0\n",
      "1.0 , 1.0\n",
      "1.0 , 1.0\n",
      "1.0 , 1.0\n",
      "1.0 , 1.0\n",
      "1.0 , 0.0\n",
      "0.0 , 1.0\n",
      "1.0 , 1.0\n",
      "0.0 , 0.0\n",
      "1.0 , 1.0\n",
      "1.0 , 1.0\n",
      "0.0 , 1.0\n",
      "1.0 , 1.0\n",
      "0.0 , 0.0\n",
      "1.0 , 1.0\n",
      "0.0 , 1.0\n",
      "1.0 , 1.0\n",
      "1.0 , 1.0\n",
      "1.0 , 1.0\n",
      "1.0 , 0.0\n",
      "0.0 , 1.0\n",
      "1.0 , 1.0\n",
      "0.0 , 0.0\n"
     ]
    }
   ],
   "source": [
    "part=3\n",
    "testSize=50\n",
    "begin=(part-1)*50\n",
    "X,y=loadDataSet(\"mostRelated5Features.csv\",0,249,begin,begin+testSize)\n",
    "Xtest,ytest=loadDataSet(\"mostRelated5Features.csv\",begin,begin+testSize)\n",
    "clf_rbf=SVC(kernel='linear',C=0.38)\n",
    "clf_rbf.fit(X,y)\n",
    "ypredict=clf_rbf.predict(Xtest)\n",
    "size=np.size(ypredict)\n",
    "print(\"real y,predict y\")\n",
    "for i in range(size):\n",
    "    print(ytest[i],\",\",ypredict[i])"
   ]
  },
  {
   "cell_type": "code",
   "execution_count": 178,
   "metadata": {},
   "outputs": [],
   "source": [
    "XfinalTest=loadTestData('testSelect5features.csv')\n",
    "yfinalTest=clf_rbf.predict(XfinalTest)\n",
    "writeTestData(\"submissionLinear_part3_5features.csv\",yfinalTest)"
   ]
  },
  {
   "cell_type": "code",
   "execution_count": 167,
   "metadata": {},
   "outputs": [
    {
     "data": {
      "image/png": "[encoded data removed]",
      "text/plain": [
       "<Figure size 432x288 with 1 Axes>"
      ]
     },
     "metadata": {
      "needs_background": "light"
     },
     "output_type": "display_data"
    }
   ],
   "source": [
    "linearSVM(1)"
   ]
  },
  {
   "cell_type": "code",
   "execution_count": 31,
   "metadata": {},
   "outputs": [
    {
     "data": {
      "image/png": "[encoded data removed]",
      "text/plain": [
       "<Figure size 432x288 with 1 Axes>"
      ]
     },
     "metadata": {
      "needs_background": "light"
     },
     "output_type": "display_data"
    }
   ],
   "source": [
    "#now we see what will happen when we train multiple times\n",
    "linearSVM(2)"
   ]
  },
  {
   "cell_type": "code",
   "execution_count": 32,
   "metadata": {},
   "outputs": [
    {
     "data": {
      "image/png": "[encoded data removed]",
      "text/plain": [
       "<Figure size 432x288 with 1 Axes>"
      ]
     },
     "metadata": {
      "needs_background": "light"
     },
     "output_type": "display_data"
    }
   ],
   "source": [
    "linearSVM(3)"
   ]
  },
  {
   "cell_type": "code",
   "execution_count": 33,
   "metadata": {},
   "outputs": [
    {
     "data": {
      "image/png": "[encoded data removed]",
      "text/plain": [
       "<Figure size 432x288 with 1 Axes>"
      ]
     },
     "metadata": {
      "needs_background": "light"
     },
     "output_type": "display_data"
    }
   ],
   "source": [
    "linearSVM(10)"
   ]
  },
  {
   "cell_type": "markdown",
   "metadata": {},
   "source": [
    "so forget it,it makes no different for linear model\n",
    "\n",
    "Then we choose poly kernel:"
   ]
  },
  {
   "cell_type": "code",
   "execution_count": 179,
   "metadata": {},
   "outputs": [],
   "source": [
    "#use poly kernel\n",
    "def polySVM(thisDegree=3,thisGamma='auto',thisCoef0=1,thisC=1,trainTime=1):\n",
    "    testSize=50\n",
    "    testRange=list(range(0,250,testSize))\n",
    "    count=0\n",
    "    score=0\n",
    "    for i in range(trainTime):\n",
    "        for begin in testRange:\n",
    "            count+=1\n",
    "            X,y=loadDataSet(\"mostRelated5Features.csv\",0,249,begin,begin+testSize)\n",
    "            Xtest,ytest=loadDataSet(\"mostRelated5Features.csv\",begin,begin+testSize)\n",
    "            clf_poly=SVC(kernel='poly',C=thisC,degree=thisDegree,coef0=thisCoef0,gamma=thisGamma)\n",
    "            clf_poly.fit(X,y)\n",
    "            score+=clf_poly.score(Xtest,ytest)\n",
    "    score=score/count\n",
    "    return score"
   ]
  },
  {
   "cell_type": "code",
   "execution_count": 180,
   "metadata": {},
   "outputs": [
    {
     "data": {
      "text/plain": [
       "Text(0, 0.5, 'Score')"
      ]
     },
     "execution_count": 180,
     "metadata": {},
     "output_type": "execute_result"
    },
    {
     "data": {
      "image/png": "[encoded data removed]",
      "text/plain": [
       "<Figure size 432x288 with 1 Axes>"
      ]
     },
     "metadata": {
      "needs_background": "light"
     },
     "output_type": "display_data"
    }
   ],
   "source": [
    "#test the accuracy when trainTime is changed\n",
    "trainTime=list(range(1,21,1))\n",
    "scoreList=[]\n",
    "for i in trainTime:\n",
    "    scoreList.append(polySVM(trainTime=i))\n",
    "%matplotlib inline\n",
    "plt.plot(trainTime,scoreList)\n",
    "plt.xlabel('TrainTime')\n",
    "plt.ylabel('Score')"
   ]
  },
  {
   "cell_type": "markdown",
   "metadata": {},
   "source": [
    "So we can see it still makes no difference for mutiple trainings\n",
    "\n",
    "Now we change the degree:"
   ]
  },
  {
   "cell_type": "code",
   "execution_count": 181,
   "metadata": {},
   "outputs": [
    {
     "data": {
      "text/plain": [
       "Text(0, 0.5, 'Score')"
      ]
     },
     "execution_count": 181,
     "metadata": {},
     "output_type": "execute_result"
    },
    {
     "data": {
      "image/png": "[encoded data removed]",
      "text/plain": [
       "<Figure size 432x288 with 1 Axes>"
      ]
     },
     "metadata": {
      "needs_background": "light"
     },
     "output_type": "display_data"
    }
   ],
   "source": [
    "#test the accuracy when degree is changed\n",
    "degree=[1,2,3,4,5,6,7,8,9,10,11]\n",
    "scoreList=[]\n",
    "for i in degree:\n",
    "    scoreList.append(polySVM(thisDegree=i))\n",
    "%matplotlib inline\n",
    "plt.plot(degree,scoreList)\n",
    "plt.xlabel('Degree')\n",
    "plt.ylabel('Score')"
   ]
  },
  {
   "cell_type": "markdown",
   "metadata": {},
   "source": [
    "now we know it's different when degree changes\n",
    "\n",
    "now we test coef0"
   ]
  },
  {
   "cell_type": "code",
   "execution_count": 187,
   "metadata": {},
   "outputs": [
    {
     "data": {
      "text/plain": [
       "Text(0, 0.5, 'Score')"
      ]
     },
     "execution_count": 187,
     "metadata": {},
     "output_type": "execute_result"
    },
    {
     "data": {
      "image/png": "[encoded data removed]",
      "text/plain": [
       "<Figure size 432x288 with 1 Axes>"
      ]
     },
     "metadata": {
      "needs_background": "light"
     },
     "output_type": "display_data"
    }
   ],
   "source": [
    "#test the accuracy when coef0 is changed\n",
    "coef0List=list(np.arange(0.01,2,0.01))\n",
    "scoreList=[]\n",
    "for i in coef0List:\n",
    "    scoreList.append(polySVM(thisCoef0=i))\n",
    "%matplotlib inline\n",
    "plt.plot(coef0List,scoreList)\n",
    "plt.xlabel('Coef0')\n",
    "plt.ylabel('Score')"
   ]
  },
  {
   "cell_type": "markdown",
   "metadata": {},
   "source": [
    "now we test C:"
   ]
  },
  {
   "cell_type": "code",
   "execution_count": 186,
   "metadata": {},
   "outputs": [
    {
     "data": {
      "text/plain": [
       "Text(0, 0.5, 'Score')"
      ]
     },
     "execution_count": 186,
     "metadata": {},
     "output_type": "execute_result"
    },
    {
     "data": {
      "image/png": "[encoded data removed]",
      "text/plain": [
       "<Figure size 432x288 with 1 Axes>"
      ]
     },
     "metadata": {
      "needs_background": "light"
     },
     "output_type": "display_data"
    }
   ],
   "source": [
    "#test the accuracy when C is changed\n",
    "cList=list(np.arange(0.01,1,0.01))\n",
    "scoreList=[]\n",
    "for i in cList:\n",
    "    scoreList.append(polySVM(thisC=i))\n",
    "%matplotlib inline\n",
    "plt.plot(cList,scoreList)\n",
    "plt.xlabel('C')\n",
    "plt.ylabel('Score')"
   ]
  },
  {
   "cell_type": "code",
   "execution_count": 190,
   "metadata": {},
   "outputs": [
    {
     "data": {
      "text/plain": [
       "Text(0, 0.5, 'Score')"
      ]
     },
     "execution_count": 190,
     "metadata": {},
     "output_type": "execute_result"
    },
    {
     "data": {
      "image/png": "[encoded data removed]",
      "text/plain": [
       "<Figure size 432x288 with 1 Axes>"
      ]
     },
     "metadata": {
      "needs_background": "light"
     },
     "output_type": "display_data"
    }
   ],
   "source": [
    "#test the accuracy when gamma is changed\n",
    "gammaList=list(np.arange(0.01,1,0.01))\n",
    "scoreList=[]\n",
    "for i in gammaList:\n",
    "    scoreList.append(polySVM(thisGamma=i))\n",
    "%matplotlib inline\n",
    "plt.plot(gammaList,scoreList)\n",
    "plt.xlabel('gamma')\n",
    "plt.ylabel('Score')"
   ]
  },
  {
   "cell_type": "code",
   "execution_count": 197,
   "metadata": {},
   "outputs": [
    {
     "name": "stdout",
     "output_type": "stream",
     "text": [
      "real y,predict y\n",
      "0.0 , 0.0\n",
      "1.0 , 1.0\n",
      "1.0 , 1.0\n",
      "0.0 , 1.0\n",
      "0.0 , 0.0\n",
      "1.0 , 1.0\n",
      "1.0 , 1.0\n",
      "0.0 , 0.0\n",
      "0.0 , 0.0\n",
      "1.0 , 1.0\n",
      "1.0 , 1.0\n",
      "0.0 , 0.0\n",
      "1.0 , 1.0\n",
      "1.0 , 1.0\n",
      "0.0 , 0.0\n",
      "1.0 , 1.0\n",
      "1.0 , 1.0\n",
      "1.0 , 1.0\n",
      "0.0 , 0.0\n",
      "0.0 , 0.0\n",
      "0.0 , 0.0\n",
      "0.0 , 0.0\n",
      "0.0 , 1.0\n",
      "1.0 , 1.0\n",
      "1.0 , 1.0\n",
      "1.0 , 1.0\n",
      "1.0 , 1.0\n",
      "0.0 , 0.0\n",
      "0.0 , 1.0\n",
      "1.0 , 0.0\n",
      "1.0 , 1.0\n",
      "0.0 , 0.0\n",
      "0.0 , 0.0\n",
      "0.0 , 1.0\n",
      "1.0 , 1.0\n",
      "1.0 , 0.0\n",
      "1.0 , 1.0\n",
      "1.0 , 1.0\n",
      "1.0 , 1.0\n",
      "0.0 , 1.0\n",
      "1.0 , 1.0\n",
      "1.0 , 1.0\n",
      "1.0 , 1.0\n",
      "0.0 , 0.0\n",
      "0.0 , 0.0\n",
      "1.0 , 1.0\n",
      "1.0 , 1.0\n",
      "1.0 , 1.0\n",
      "0.0 , 0.0\n",
      "1.0 , 1.0\n",
      "1.0 , 1.0\n"
     ]
    }
   ],
   "source": [
    "part=4\n",
    "testSize=50\n",
    "begin=(part-1)*50\n",
    "X,y=loadDataSet(\"mostRelated5Features.csv\",0,249,begin,begin+testSize)\n",
    "Xtest,ytest=loadDataSet(\"mostRelated5Features.csv\",begin,begin+testSize)\n",
    "clf_rbf=SVC(kernel='poly',degree=4,gamma=0.1,C=2,coef0=1)\n",
    "clf_rbf.fit(X,y)\n",
    "ypredict=clf_rbf.predict(Xtest)\n",
    "size=np.size(ypredict)\n",
    "print(\"real y,predict y\")\n",
    "for i in range(size):\n",
    "    print(ytest[i],\",\",ypredict[i])"
   ]
  },
  {
   "cell_type": "code",
   "execution_count": 198,
   "metadata": {},
   "outputs": [],
   "source": [
    "XfinalTest=loadTestData('testSelect5features.csv')\n",
    "yfinalTest=clf_rbf.predict(XfinalTest)\n",
    "writeTestData(\"submissionPoly_part4_5features_4degree.csv\",yfinalTest)"
   ]
  },
  {
   "cell_type": "markdown",
   "metadata": {},
   "source": [
    "test a new kernel"
   ]
  },
  {
   "cell_type": "code",
   "execution_count": 50,
   "metadata": {},
   "outputs": [],
   "source": [
    "def anyKindSVM(thisKernel='poly',thisDegree=3,thisGamma='auto',thisCoef0=1,thisC=1,trainTime=1):\n",
    "    testSize=50\n",
    "    testRange=list(range(0,250,testSize))\n",
    "    count=0\n",
    "    score=0\n",
    "    for i in range(trainTime):\n",
    "        for begin in testRange:\n",
    "            count+=1\n",
    "            X,y=loadDataSet(\"mostRelated20Features.csv\",0,249,begin,begin+testSize)\n",
    "            Xtest,ytest=loadDataSet(\"mostRelated20Features.csv\",begin,begin+testSize)\n",
    "            clf_poly=SVC(kernel=thisKernel,C=thisC,degree=thisDegree,coef0=thisCoef0,gamma=thisGamma)\n",
    "            clf_poly.fit(X,y)\n",
    "            score+=clf_poly.score(Xtest,ytest)\n",
    "    score=score/count\n",
    "    return score"
   ]
  },
  {
   "cell_type": "code",
   "execution_count": 51,
   "metadata": {},
   "outputs": [
    {
     "data": {
      "text/plain": [
       "0.7674509803921568"
      ]
     },
     "execution_count": 51,
     "metadata": {},
     "output_type": "execute_result"
    }
   ],
   "source": [
    "anyKindSVM(thisKernel='rbf')"
   ]
  },
  {
   "cell_type": "code",
   "execution_count": 52,
   "metadata": {},
   "outputs": [
    {
     "data": {
      "text/plain": [
       "0.7247058823529413"
      ]
     },
     "execution_count": 52,
     "metadata": {},
     "output_type": "execute_result"
    }
   ],
   "source": [
    "anyKindSVM(thisKernel='sigmoid')"
   ]
  },
  {
   "cell_type": "code",
   "execution_count": 54,
   "metadata": {},
   "outputs": [
    {
     "data": {
      "text/plain": [
       "0.7163921568627452"
      ]
     },
     "execution_count": 54,
     "metadata": {},
     "output_type": "execute_result"
    }
   ],
   "source": [
    "anyKindSVM(thisKernel='poly')"
   ]
  },
  {
   "cell_type": "markdown",
   "metadata": {},
   "source": [
    "it seems that rbf has the best performs,let's test it:\n",
    "\n",
    "1. test gamma"
   ]
  },
  {
   "cell_type": "code",
   "execution_count": 67,
   "metadata": {},
   "outputs": [
    {
     "data": {
      "text/plain": [
       "Text(0, 0.5, 'Score')"
      ]
     },
     "execution_count": 67,
     "metadata": {},
     "output_type": "execute_result"
    },
    {
     "data": {
      "image/png": "[encoded data removed]",
      "text/plain": [
       "<Figure size 432x288 with 1 Axes>"
      ]
     },
     "metadata": {
      "needs_background": "light"
     },
     "output_type": "display_data"
    }
   ],
   "source": [
    "#test the accuracy when gamma is changed\n",
    "gammaList=list(np.arange(0.01,0.2,0.01))\n",
    "scoreList=[]\n",
    "for i in gammaList:\n",
    "    scoreList.append(anyKindSVM(thisGamma=i,thisKernel='rbf'))\n",
    "%matplotlib inline\n",
    "plt.plot(gammaList,scoreList)\n",
    "plt.xlabel('gamma')\n",
    "plt.ylabel('Score')"
   ]
  },
  {
   "cell_type": "markdown",
   "metadata": {},
   "source": [
    "test coef0:"
   ]
  },
  {
   "cell_type": "code",
   "execution_count": 60,
   "metadata": {},
   "outputs": [
    {
     "data": {
      "text/plain": [
       "Text(0, 0.5, 'Score')"
      ]
     },
     "execution_count": 60,
     "metadata": {},
     "output_type": "execute_result"
    },
    {
     "data": {
      "image/png": "[encoded data removed]",
      "text/plain": [
       "<Figure size 432x288 with 1 Axes>"
      ]
     },
     "metadata": {
      "needs_background": "light"
     },
     "output_type": "display_data"
    }
   ],
   "source": [
    "#test the accuracy when coef0 is changed\n",
    "coef0List=list(np.arange(0.01,10,0.01))\n",
    "scoreList=[]\n",
    "for i in coef0List:\n",
    "    scoreList.append(anyKindSVM(thisKernel='rbf',thisCoef0=i))\n",
    "%matplotlib inline\n",
    "plt.plot(coef0List,scoreList)\n",
    "plt.xlabel('Coef0')\n",
    "plt.ylabel('Score')"
   ]
  },
  {
   "cell_type": "markdown",
   "metadata": {},
   "source": [
    "it seems rbf method doesn't use coef0.233333\n",
    "\n",
    "Test C:"
   ]
  },
  {
   "cell_type": "code",
   "execution_count": 66,
   "metadata": {},
   "outputs": [
    {
     "data": {
      "text/plain": [
       "Text(0, 0.5, 'Score')"
      ]
     },
     "execution_count": 66,
     "metadata": {},
     "output_type": "execute_result"
    },
    {
     "data": {
      "image/png": "[encoded data removed]",
      "text/plain": [
       "<Figure size 432x288 with 1 Axes>"
      ]
     },
     "metadata": {
      "needs_background": "light"
     },
     "output_type": "display_data"
    }
   ],
   "source": [
    "#test the accuracy when C is changed\n",
    "cList=list(np.arange(1.5,2,0.01))\n",
    "scoreList=[]\n",
    "for i in cList:\n",
    "    scoreList.append(anyKindSVM(thisKernel='rbf',thisC=i))\n",
    "%matplotlib inline\n",
    "plt.plot(cList,scoreList)\n",
    "plt.xlabel('C')\n",
    "plt.ylabel('Score')"
   ]
  },
  {
   "cell_type": "markdown",
   "metadata": {},
   "source": [
    "test the trainTime again:"
   ]
  },
  {
   "cell_type": "code",
   "execution_count": 65,
   "metadata": {},
   "outputs": [
    {
     "data": {
      "text/plain": [
       "Text(0, 0.5, 'Score')"
      ]
     },
     "execution_count": 65,
     "metadata": {},
     "output_type": "execute_result"
    },
    {
     "data": {
      "image/png": "[encoded data removed]",
      "text/plain": [
       "<Figure size 432x288 with 1 Axes>"
      ]
     },
     "metadata": {
      "needs_background": "light"
     },
     "output_type": "display_data"
    }
   ],
   "source": [
    "#test the accuracy when trainTime is changed\n",
    "trainTime=list(range(1,21,1))\n",
    "scoreList=[]\n",
    "for i in trainTime:\n",
    "    scoreList.append(anyKindSVM(trainTime=i))\n",
    "%matplotlib inline\n",
    "plt.plot(trainTime,scoreList)\n",
    "plt.xlabel('TrainTime')\n",
    "plt.ylabel('Score')"
   ]
  },
  {
   "cell_type": "markdown",
   "metadata": {},
   "source": [
    "we can pick out the best use of rbf method:"
   ]
  },
  {
   "cell_type": "code",
   "execution_count": 70,
   "metadata": {},
   "outputs": [],
   "source": [
    "def rbfSVMBestFit():\n",
    "    testSize=50\n",
    "    testRange=list(range(0,250,testSize))\n",
    "    scoreList=[]\n",
    "    for begin in testRange:\n",
    "        X,y=loadDataSet(\"mostRelated20Features.csv\",0,249,begin,begin+testSize)\n",
    "        Xtest,ytest=loadDataSet(\"mostRelated20Features.csv\",begin,begin+testSize)\n",
    "        clf_rbf=SVC(kernel='rbf',C=1.7,gamma=0.04)\n",
    "        clf_rbf.fit(X,y)\n",
    "        score=clf_rbf.score(Xtest,ytest)\n",
    "        scoreList.append(score)\n",
    "    print(scoreList)"
   ]
  },
  {
   "cell_type": "code",
   "execution_count": 71,
   "metadata": {},
   "outputs": [
    {
     "name": "stdout",
     "output_type": "stream",
     "text": [
      "[0.803921568627451, 0.7843137254901961, 0.7647058823529411, 0.803921568627451, 0.7]\n"
     ]
    }
   ],
   "source": [
    "rbfSVMBestFit()"
   ]
  },
  {
   "cell_type": "markdown",
   "metadata": {},
   "source": [
    "we want to know the predict result and the original result"
   ]
  },
  {
   "cell_type": "code",
   "execution_count": 114,
   "metadata": {},
   "outputs": [],
   "source": [
    "part=5\n",
    "testSize=50\n",
    "begin=(part-1)*50\n",
    "X,y=loadDataSet(\"mostRelated20Features.csv\",0,249,begin,begin+testSize)\n",
    "Xtest,ytest=loadDataSet(\"mostRelated20Features.csv\",begin,begin+testSize)\n",
    "clf_rbf=SVC(kernel='rbf',C=1.7,gamma=0.04)\n",
    "clf_rbf.fit(X,y)\n",
    "ypredict=clf_rbf.predict(Xtest)"
   ]
  },
  {
   "cell_type": "code",
   "execution_count": 115,
   "metadata": {},
   "outputs": [
    {
     "name": "stdout",
     "output_type": "stream",
     "text": [
      "real y,predict y\n",
      "1.0 , 1.0\n",
      "0.0 , 0.0\n",
      "1.0 , 0.0\n",
      "1.0 , 1.0\n",
      "1.0 , 1.0\n",
      "0.0 , 0.0\n",
      "1.0 , 0.0\n",
      "0.0 , 1.0\n",
      "1.0 , 1.0\n",
      "0.0 , 0.0\n",
      "0.0 , 1.0\n",
      "0.0 , 0.0\n",
      "0.0 , 0.0\n",
      "1.0 , 1.0\n",
      "1.0 , 1.0\n",
      "0.0 , 1.0\n",
      "1.0 , 1.0\n",
      "1.0 , 0.0\n",
      "0.0 , 1.0\n",
      "1.0 , 1.0\n",
      "1.0 , 1.0\n",
      "1.0 , 1.0\n",
      "1.0 , 1.0\n",
      "1.0 , 0.0\n",
      "1.0 , 1.0\n",
      "0.0 , 1.0\n",
      "1.0 , 1.0\n",
      "0.0 , 0.0\n",
      "0.0 , 1.0\n",
      "1.0 , 1.0\n",
      "1.0 , 1.0\n",
      "1.0 , 1.0\n",
      "1.0 , 1.0\n",
      "0.0 , 0.0\n",
      "0.0 , 1.0\n",
      "1.0 , 1.0\n",
      "1.0 , 1.0\n",
      "1.0 , 1.0\n",
      "1.0 , 1.0\n",
      "0.0 , 0.0\n",
      "0.0 , 0.0\n",
      "1.0 , 1.0\n",
      "1.0 , 1.0\n",
      "0.0 , 1.0\n",
      "0.0 , 1.0\n",
      "0.0 , 0.0\n",
      "0.0 , 0.0\n",
      "0.0 , 1.0\n",
      "1.0 , 1.0\n",
      "0.0 , 1.0\n"
     ]
    }
   ],
   "source": [
    "size=np.size(ypredict)\n",
    "print(\"real y,predict y\")\n",
    "for i in range(size):\n",
    "    print(ytest[i],\",\",ypredict[i])"
   ]
  },
  {
   "cell_type": "code",
   "execution_count": 116,
   "metadata": {},
   "outputs": [],
   "source": [
    "def writeTestData(fileName,y):\n",
    "    file=open(fileName,'w')\n",
    "    index=250\n",
    "    file.write(\"id,target\\n\")\n",
    "    for i in y:\n",
    "        file.write(\"%d,%d\\n\"%(index,i))\n",
    "        index+=1\n",
    "    file.close()\n",
    "def loadTestData(fileName):\n",
    "    dataMat=[]\n",
    "    inFile=open(fileName)\n",
    "    inFile.readline()\n",
    "    for line in inFile.readlines():\n",
    "        tempMat=[]\n",
    "        lineArr=line.split(',')\n",
    "        for element in lineArr[1:]:\n",
    "            tempMat.append(float(element))\n",
    "        dataMat.append(tempMat)\n",
    "    return dataMat"
   ]
  },
  {
   "cell_type": "code",
   "execution_count": 117,
   "metadata": {},
   "outputs": [],
   "source": [
    "XfinalTest=loadTestData('testSelect20features.csv')\n",
    "yfinalTest=clf_rbf.predict(XfinalTest)\n",
    "writeTestData(\"submissionSVM_part5.csv\",yfinalTest)"
   ]
  },
  {
   "cell_type": "markdown",
   "metadata": {},
   "source": [
    "we try again using just 10 features"
   ]
  },
  {
   "cell_type": "code",
   "execution_count": 118,
   "metadata": {},
   "outputs": [
    {
     "name": "stdout",
     "output_type": "stream",
     "text": [
      "[0.7843137254901961, 0.7058823529411765, 0.7254901960784313, 0.7647058823529411, 0.74]\n"
     ]
    }
   ],
   "source": [
    "testSize=50\n",
    "testRange=list(range(0,250,testSize))\n",
    "scoreList=[]\n",
    "for begin in testRange:\n",
    "    X,y=loadDataSet(\"mostRelated10Features.csv\",0,249,begin,begin+testSize)\n",
    "    Xtest,ytest=loadDataSet(\"mostRelated10Features.csv\",begin,begin+testSize)\n",
    "    clf_rbf=SVC(kernel='rbf',C=1.7,gamma=0.04)\n",
    "    clf_rbf.fit(X,y)\n",
    "    score=clf_rbf.score(Xtest,ytest)\n",
    "    scoreList.append(score)\n",
    "print(scoreList)"
   ]
  },
  {
   "cell_type": "code",
   "execution_count": 129,
   "metadata": {},
   "outputs": [],
   "source": [
    "part=1\n",
    "testSize=50\n",
    "begin=(part-1)*50\n",
    "X,y=loadDataSet(\"mostRelated10Features.csv\",0,249,begin,begin+testSize)\n",
    "Xtest,ytest=loadDataSet(\"mostRelated10Features.csv\",begin,begin+testSize)\n",
    "clf_rbf=SVC(kernel='rbf',C=1.7,gamma=0.04)\n",
    "clf_rbf.fit(X,y)\n",
    "ypredict=clf_rbf.predict(Xtest)"
   ]
  },
  {
   "cell_type": "code",
   "execution_count": 130,
   "metadata": {},
   "outputs": [
    {
     "name": "stdout",
     "output_type": "stream",
     "text": [
      "real y,predict y\n",
      "1.0 , 1.0\n",
      "0.0 , 0.0\n",
      "1.0 , 1.0\n",
      "1.0 , 1.0\n",
      "1.0 , 1.0\n",
      "1.0 , 1.0\n",
      "1.0 , 1.0\n",
      "1.0 , 0.0\n",
      "1.0 , 1.0\n",
      "1.0 , 1.0\n",
      "0.0 , 0.0\n",
      "1.0 , 1.0\n",
      "1.0 , 1.0\n",
      "0.0 , 0.0\n",
      "0.0 , 1.0\n",
      "1.0 , 1.0\n",
      "1.0 , 1.0\n",
      "0.0 , 0.0\n",
      "1.0 , 1.0\n",
      "1.0 , 1.0\n",
      "1.0 , 1.0\n",
      "1.0 , 1.0\n",
      "0.0 , 0.0\n",
      "1.0 , 0.0\n",
      "1.0 , 1.0\n",
      "1.0 , 0.0\n",
      "1.0 , 1.0\n",
      "1.0 , 1.0\n",
      "1.0 , 1.0\n",
      "1.0 , 1.0\n",
      "1.0 , 1.0\n",
      "1.0 , 1.0\n",
      "1.0 , 0.0\n",
      "1.0 , 1.0\n",
      "1.0 , 1.0\n",
      "1.0 , 1.0\n",
      "1.0 , 1.0\n",
      "1.0 , 1.0\n",
      "0.0 , 1.0\n",
      "1.0 , 0.0\n",
      "1.0 , 1.0\n",
      "1.0 , 0.0\n",
      "1.0 , 1.0\n",
      "0.0 , 1.0\n",
      "1.0 , 1.0\n",
      "1.0 , 1.0\n",
      "1.0 , 1.0\n",
      "1.0 , 1.0\n",
      "0.0 , 1.0\n",
      "0.0 , 0.0\n",
      "1.0 , 0.0\n"
     ]
    }
   ],
   "source": [
    "size=np.size(ypredict)\n",
    "print(\"real y,predict y\")\n",
    "for i in range(size):\n",
    "    print(ytest[i],\",\",ypredict[i])"
   ]
  },
  {
   "cell_type": "code",
   "execution_count": 131,
   "metadata": {},
   "outputs": [],
   "source": [
    "XfinalTest=loadTestData('testSelect10features.csv')\n",
    "yfinalTest=clf_rbf.predict(XfinalTest)\n",
    "writeTestData(\"submissionSVM_part1_10features.csv\",yfinalTest)"
   ]
  },
  {
   "cell_type": "markdown",
   "metadata": {},
   "source": [
    "use 5 features now"
   ]
  },
  {
   "cell_type": "code",
   "execution_count": 135,
   "metadata": {},
   "outputs": [
    {
     "name": "stdout",
     "output_type": "stream",
     "text": [
      "[0.7647058823529411, 0.7450980392156863, 0.7450980392156863, 0.7450980392156863, 0.72]\n"
     ]
    }
   ],
   "source": [
    "testSize=50\n",
    "testRange=list(range(0,250,testSize))\n",
    "scoreList=[]\n",
    "for begin in testRange:\n",
    "    X,y=loadDataSet(\"mostRelated5Features.csv\",0,249,begin,begin+testSize)\n",
    "    Xtest,ytest=loadDataSet(\"mostRelated5Features.csv\",begin,begin+testSize)\n",
    "    clf_rbf=SVC(kernel='rbf',C=1.7,gamma=0.04)\n",
    "    clf_rbf.fit(X,y)\n",
    "    score=clf_rbf.score(Xtest,ytest)\n",
    "    scoreList.append(score)\n",
    "print(scoreList)"
   ]
  },
  {
   "cell_type": "code",
   "execution_count": 142,
   "metadata": {},
   "outputs": [],
   "source": [
    "part=3\n",
    "testSize=50\n",
    "begin=(part-1)*50\n",
    "X,y=loadDataSet(\"mostRelated5Features.csv\",0,249,begin,begin+testSize)\n",
    "Xtest,ytest=loadDataSet(\"mostRelated5Features.csv\",begin,begin+testSize)\n",
    "clf_rbf=SVC(kernel='rbf',C=1.7,gamma=0.04)\n",
    "clf_rbf.fit(X,y)\n",
    "ypredict=clf_rbf.predict(Xtest)"
   ]
  },
  {
   "cell_type": "code",
   "execution_count": 143,
   "metadata": {},
   "outputs": [
    {
     "name": "stdout",
     "output_type": "stream",
     "text": [
      "real y,predict y\n",
      "1.0 , 0.0\n",
      "0.0 , 0.0\n",
      "0.0 , 0.0\n",
      "1.0 , 1.0\n",
      "0.0 , 1.0\n",
      "1.0 , 1.0\n",
      "1.0 , 1.0\n",
      "0.0 , 1.0\n",
      "0.0 , 1.0\n",
      "1.0 , 1.0\n",
      "1.0 , 1.0\n",
      "1.0 , 1.0\n",
      "1.0 , 1.0\n",
      "1.0 , 1.0\n",
      "0.0 , 0.0\n",
      "1.0 , 1.0\n",
      "1.0 , 1.0\n",
      "0.0 , 0.0\n",
      "0.0 , 0.0\n",
      "1.0 , 1.0\n",
      "0.0 , 0.0\n",
      "1.0 , 1.0\n",
      "0.0 , 1.0\n",
      "1.0 , 1.0\n",
      "0.0 , 1.0\n",
      "1.0 , 1.0\n",
      "0.0 , 1.0\n",
      "0.0 , 0.0\n",
      "0.0 , 1.0\n",
      "1.0 , 1.0\n",
      "1.0 , 1.0\n",
      "1.0 , 1.0\n",
      "1.0 , 1.0\n",
      "1.0 , 1.0\n",
      "0.0 , 1.0\n",
      "1.0 , 1.0\n",
      "0.0 , 0.0\n",
      "1.0 , 1.0\n",
      "1.0 , 1.0\n",
      "0.0 , 1.0\n",
      "1.0 , 1.0\n",
      "0.0 , 0.0\n",
      "1.0 , 1.0\n",
      "0.0 , 1.0\n",
      "1.0 , 1.0\n",
      "1.0 , 1.0\n",
      "1.0 , 1.0\n",
      "1.0 , 0.0\n",
      "0.0 , 1.0\n",
      "1.0 , 1.0\n",
      "0.0 , 0.0\n"
     ]
    }
   ],
   "source": [
    "size=np.size(ypredict)\n",
    "print(\"real y,predict y\")\n",
    "for i in range(size):\n",
    "    print(ytest[i],\",\",ypredict[i])"
   ]
  },
  {
   "cell_type": "code",
   "execution_count": 144,
   "metadata": {},
   "outputs": [],
   "source": [
    "XfinalTest=loadTestData('testSelect5features.csv')\n",
    "yfinalTest=clf_rbf.predict(XfinalTest)\n",
    "writeTestData(\"submissionSVM_part3_5features.csv\",yfinalTest)"
   ]
  },
  {
   "cell_type": "markdown",
   "metadata": {},
   "source": [
    "choose the Parameters for the 5 features' model"
   ]
  },
  {
   "cell_type": "code",
   "execution_count": 145,
   "metadata": {},
   "outputs": [],
   "source": [
    "def anyKindSVM_5(thisKernel='poly',thisDegree=3,thisGamma='auto',thisCoef0=1,thisC=1,trainTime=1):\n",
    "    testSize=50\n",
    "    testRange=list(range(0,250,testSize))\n",
    "    count=0\n",
    "    score=0\n",
    "    for i in range(trainTime):\n",
    "        for begin in testRange:\n",
    "            count+=1\n",
    "            X,y=loadDataSet(\"mostRelated5Features.csv\",0,249,begin,begin+testSize)\n",
    "            Xtest,ytest=loadDataSet(\"mostRelated5Features.csv\",begin,begin+testSize)\n",
    "            clf_poly=SVC(kernel=thisKernel,C=thisC,degree=thisDegree,coef0=thisCoef0,gamma=thisGamma)\n",
    "            clf_poly.fit(X,y)\n",
    "            score+=clf_poly.score(Xtest,ytest)\n",
    "    score=score/count\n",
    "    return score"
   ]
  },
  {
   "cell_type": "code",
   "execution_count": 149,
   "metadata": {},
   "outputs": [
    {
     "data": {
      "text/plain": [
       "Text(0, 0.5, 'Score')"
      ]
     },
     "execution_count": 149,
     "metadata": {},
     "output_type": "execute_result"
    },
    {
     "data": {
      "image/png": "[encoded data removed]",
      "text/plain": [
       "<Figure size 432x288 with 1 Axes>"
      ]
     },
     "metadata": {
      "needs_background": "light"
     },
     "output_type": "display_data"
    }
   ],
   "source": [
    "#test the accuracy when gamma is changed\n",
    "gammaList=list(np.arange(0.2,0.3,0.01))\n",
    "scoreList=[]\n",
    "for i in gammaList:\n",
    "    scoreList.append(anyKindSVM_5(thisGamma=i,thisKernel='rbf'))\n",
    "%matplotlib inline\n",
    "plt.plot(gammaList,scoreList)\n",
    "plt.xlabel('gamma')\n",
    "plt.ylabel('Score')"
   ]
  },
  {
   "cell_type": "code",
   "execution_count": 153,
   "metadata": {},
   "outputs": [
    {
     "data": {
      "text/plain": [
       "Text(0, 0.5, 'Score')"
      ]
     },
     "execution_count": 153,
     "metadata": {},
     "output_type": "execute_result"
    },
    {
     "data": {
      "image/png": "[encoded data removed]",
      "text/plain": [
       "<Figure size 432x288 with 1 Axes>"
      ]
     },
     "metadata": {
      "needs_background": "light"
     },
     "output_type": "display_data"
    }
   ],
   "source": [
    "#test the accuracy when C is changed\n",
    "cList=list(np.arange(1.0,1.2,0.01))\n",
    "scoreList=[]\n",
    "for i in cList:\n",
    "    scoreList.append(anyKindSVM_5(thisKernel='rbf',thisC=i))\n",
    "%matplotlib inline\n",
    "plt.plot(cList,scoreList)\n",
    "plt.xlabel('C')\n",
    "plt.ylabel('Score')"
   ]
  },
  {
   "cell_type": "code",
   "execution_count": 156,
   "metadata": {},
   "outputs": [
    {
     "name": "stdout",
     "output_type": "stream",
     "text": [
      "[0.803921568627451, 0.7647058823529411, 0.7843137254901961, 0.8431372549019608, 0.68]\n"
     ]
    }
   ],
   "source": [
    "testSize=50\n",
    "testRange=list(range(0,250,testSize))\n",
    "scoreList=[]\n",
    "for begin in testRange:\n",
    "    X,y=loadDataSet(\"mostRelated5Features.csv\",0,249,begin,begin+testSize)\n",
    "    Xtest,ytest=loadDataSet(\"mostRelated5Features.csv\",begin,begin+testSize)\n",
    "    clf_rbf=SVC(kernel='rbf',C=1.050,gamma=0.22)\n",
    "    clf_rbf.fit(X,y)\n",
    "    score=clf_rbf.score(Xtest,ytest)\n",
    "    scoreList.append(score)\n",
    "print(scoreList)"
   ]
  },
  {
   "cell_type": "code",
   "execution_count": 157,
   "metadata": {},
   "outputs": [
    {
     "name": "stdout",
     "output_type": "stream",
     "text": [
      "real y,predict y\n",
      "0.0 , 0.0\n",
      "1.0 , 1.0\n",
      "1.0 , 1.0\n",
      "0.0 , 1.0\n",
      "0.0 , 1.0\n",
      "1.0 , 1.0\n",
      "1.0 , 1.0\n",
      "0.0 , 0.0\n",
      "0.0 , 0.0\n",
      "1.0 , 1.0\n",
      "1.0 , 1.0\n",
      "0.0 , 1.0\n",
      "1.0 , 1.0\n",
      "1.0 , 1.0\n",
      "0.0 , 0.0\n",
      "1.0 , 1.0\n",
      "1.0 , 1.0\n",
      "1.0 , 1.0\n",
      "0.0 , 0.0\n",
      "0.0 , 0.0\n",
      "0.0 , 0.0\n",
      "0.0 , 0.0\n",
      "0.0 , 1.0\n",
      "1.0 , 1.0\n",
      "1.0 , 1.0\n",
      "1.0 , 1.0\n",
      "1.0 , 1.0\n",
      "0.0 , 0.0\n",
      "0.0 , 0.0\n",
      "1.0 , 0.0\n",
      "1.0 , 1.0\n",
      "0.0 , 0.0\n",
      "0.0 , 0.0\n",
      "0.0 , 1.0\n",
      "1.0 , 1.0\n",
      "1.0 , 0.0\n",
      "1.0 , 1.0\n",
      "1.0 , 1.0\n",
      "1.0 , 1.0\n",
      "0.0 , 1.0\n",
      "1.0 , 1.0\n",
      "1.0 , 1.0\n",
      "1.0 , 1.0\n",
      "0.0 , 0.0\n",
      "0.0 , 0.0\n",
      "1.0 , 1.0\n",
      "1.0 , 1.0\n",
      "1.0 , 1.0\n",
      "0.0 , 0.0\n",
      "1.0 , 1.0\n",
      "1.0 , 1.0\n"
     ]
    }
   ],
   "source": [
    "part=4\n",
    "testSize=50\n",
    "begin=(part-1)*50\n",
    "X,y=loadDataSet(\"mostRelated5Features.csv\",0,249,begin,begin+testSize)\n",
    "Xtest,ytest=loadDataSet(\"mostRelated5Features.csv\",begin,begin+testSize)\n",
    "clf_rbf=SVC(kernel='rbf',C=1.050,gamma=0.22)\n",
    "clf_rbf.fit(X,y)\n",
    "ypredict=clf_rbf.predict(Xtest)\n",
    "size=np.size(ypredict)\n",
    "print(\"real y,predict y\")\n",
    "for i in range(size):\n",
    "    print(ytest[i],\",\",ypredict[i])"
   ]
  },
  {
   "cell_type": "code",
   "execution_count": 158,
   "metadata": {},
   "outputs": [],
   "source": [
    "XfinalTest=loadTestData('testSelect5features.csv')\n",
    "yfinalTest=clf_rbf.predict(XfinalTest)\n",
    "writeTestData(\"submissionSVM_part4_5features_v2.csv\",yfinalTest)"
   ]
  },
  {
   "cell_type": "code",
   "execution_count": null,
   "metadata": {},
   "outputs": [],
   "source": []
  }
 ],
 "metadata": {
  "kernelspec": {
   "display_name": "Python 3",
   "language": "python",
   "name": "python3"
  },
  "language_info": {
   "codemirror_mode": {
    "name": "ipython",
    "version": 3
   },
   "file_extension": ".py",
   "mimetype": "text/x-python",
   "name": "python",
   "nbconvert_exporter": "python",
   "pygments_lexer": "ipython3",
   "version": "3.7.5"
  },
  "toc": {
   "base_numbering": 1,
   "nav_menu": {},
   "number_sections": true,
   "sideBar": true,
   "skip_h1_title": false,
   "title_cell": "Table of Contents",
   "title_sidebar": "Contents",
   "toc_cell": false,
   "toc_position": {},
   "toc_section_display": true,
   "toc_window_display": false
  }
 },
 "nbformat": 4,
 "nbformat_minor": 2
}

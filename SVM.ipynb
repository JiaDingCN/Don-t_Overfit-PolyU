{
 "cells": [
  {
   "cell_type": "code",
   "execution_count": 1,
   "metadata": {},
   "outputs": [
    {
     "name": "stdout",
     "output_type": "stream",
     "text": [
      "Trying gamma from 1 to 30\n",
      "############Gamma now is 1###############\n",
      "--------Without Normalize or preprocess-------\n",
      "\n",
      "The range of test data is [0,50]:\n",
      "score_rbf:0.803922\n",
      "score_linear:0.725490\n",
      "score_poly:0.803922\n",
      "\n",
      "The range of test data is [50,100]:\n",
      "score_rbf:0.666667\n",
      "score_linear:0.686275\n",
      "score_poly:0.666667\n",
      "\n",
      "The range of test data is [100,150]:\n"
     ]
    },
    {
     "name": "stderr",
     "output_type": "stream",
     "text": [
      "/home/jiading/.conda/envs/nn/lib/python3.7/site-packages/sklearn/svm/base.py:193: FutureWarning: The default value of gamma will change from 'auto' to 'scale' in version 0.22 to account better for unscaled features. Set gamma explicitly to 'auto' or 'scale' to avoid this warning.\n",
      "  \"avoid this warning.\", FutureWarning)\n",
      "/home/jiading/.conda/envs/nn/lib/python3.7/site-packages/sklearn/svm/base.py:193: FutureWarning: The default value of gamma will change from 'auto' to 'scale' in version 0.22 to account better for unscaled features. Set gamma explicitly to 'auto' or 'scale' to avoid this warning.\n",
      "  \"avoid this warning.\", FutureWarning)\n",
      "/home/jiading/.conda/envs/nn/lib/python3.7/site-packages/sklearn/svm/base.py:193: FutureWarning: The default value of gamma will change from 'auto' to 'scale' in version 0.22 to account better for unscaled features. Set gamma explicitly to 'auto' or 'scale' to avoid this warning.\n",
      "  \"avoid this warning.\", FutureWarning)\n"
     ]
    },
    {
     "name": "stdout",
     "output_type": "stream",
     "text": [
      "score_rbf:0.588235\n",
      "score_linear:0.764706\n",
      "score_poly:0.588235\n",
      "\n",
      "The range of test data is [150,200]:\n",
      "score_rbf:0.588235\n",
      "score_linear:0.666667\n",
      "score_poly:0.588235\n",
      "\n",
      "The range of test data is [200,250]:\n",
      "score_rbf:0.560000\n",
      "score_linear:0.660000\n"
     ]
    },
    {
     "name": "stderr",
     "output_type": "stream",
     "text": [
      "/home/jiading/.conda/envs/nn/lib/python3.7/site-packages/sklearn/svm/base.py:193: FutureWarning: The default value of gamma will change from 'auto' to 'scale' in version 0.22 to account better for unscaled features. Set gamma explicitly to 'auto' or 'scale' to avoid this warning.\n",
      "  \"avoid this warning.\", FutureWarning)\n",
      "/home/jiading/.conda/envs/nn/lib/python3.7/site-packages/sklearn/svm/base.py:193: FutureWarning: The default value of gamma will change from 'auto' to 'scale' in version 0.22 to account better for unscaled features. Set gamma explicitly to 'auto' or 'scale' to avoid this warning.\n",
      "  \"avoid this warning.\", FutureWarning)\n"
     ]
    },
    {
     "name": "stdout",
     "output_type": "stream",
     "text": [
      "score_poly:0.560000\n",
      "----------------Preprocess--------------------\n",
      "\n",
      "The range of test data is [0,50]:\n",
      "score_rbf:0.803922\n",
      "score_linear:0.705882\n",
      "score_poly:0.803922\n",
      "\n",
      "The range of test data is [50,100]:\n",
      "score_rbf:0.666667\n",
      "score_linear:0.705882\n",
      "score_poly:0.666667\n",
      "\n",
      "The range of test data is [100,150]:\n",
      "score_rbf:0.588235\n",
      "score_linear:0.764706\n",
      "score_poly:0.588235\n",
      "\n",
      "The range of test data is [150,200]:\n",
      "score_rbf:0.588235\n",
      "score_linear:0.666667\n",
      "score_poly:0.588235\n",
      "\n",
      "The range of test data is [200,250]:\n",
      "score_rbf:0.560000\n",
      "score_linear:0.660000\n",
      "score_poly:0.560000\n",
      "---------------Normalize-----------------------\n",
      "\n",
      "The range of test data is [0,50]:\n",
      "score_rbf:0.823529\n",
      "score_linear:0.784314\n",
      "score_poly:0.803922\n",
      "\n",
      "The range of test data is [50,100]:\n",
      "score_rbf:0.666667\n",
      "score_linear:0.745098\n"
     ]
    },
    {
     "name": "stderr",
     "output_type": "stream",
     "text": [
      "/home/jiading/.conda/envs/nn/lib/python3.7/site-packages/sklearn/svm/base.py:193: FutureWarning: The default value of gamma will change from 'auto' to 'scale' in version 0.22 to account better for unscaled features. Set gamma explicitly to 'auto' or 'scale' to avoid this warning.\n",
      "  \"avoid this warning.\", FutureWarning)\n",
      "/home/jiading/.conda/envs/nn/lib/python3.7/site-packages/sklearn/svm/base.py:193: FutureWarning: The default value of gamma will change from 'auto' to 'scale' in version 0.22 to account better for unscaled features. Set gamma explicitly to 'auto' or 'scale' to avoid this warning.\n",
      "  \"avoid this warning.\", FutureWarning)\n",
      "/home/jiading/.conda/envs/nn/lib/python3.7/site-packages/sklearn/svm/base.py:193: FutureWarning: The default value of gamma will change from 'auto' to 'scale' in version 0.22 to account better for unscaled features. Set gamma explicitly to 'auto' or 'scale' to avoid this warning.\n",
      "  \"avoid this warning.\", FutureWarning)\n"
     ]
    },
    {
     "name": "stdout",
     "output_type": "stream",
     "text": [
      "score_poly:0.666667\n",
      "\n",
      "The range of test data is [100,150]:\n",
      "score_rbf:0.607843\n",
      "score_linear:0.666667\n",
      "score_poly:0.588235\n",
      "\n",
      "The range of test data is [150,200]:\n",
      "score_rbf:0.588235\n",
      "score_linear:0.666667\n",
      "score_poly:0.588235\n",
      "\n",
      "The range of test data is [200,250]:\n"
     ]
    },
    {
     "name": "stderr",
     "output_type": "stream",
     "text": [
      "/home/jiading/.conda/envs/nn/lib/python3.7/site-packages/sklearn/svm/base.py:193: FutureWarning: The default value of gamma will change from 'auto' to 'scale' in version 0.22 to account better for unscaled features. Set gamma explicitly to 'auto' or 'scale' to avoid this warning.\n",
      "  \"avoid this warning.\", FutureWarning)\n",
      "/home/jiading/.conda/envs/nn/lib/python3.7/site-packages/sklearn/svm/base.py:193: FutureWarning: The default value of gamma will change from 'auto' to 'scale' in version 0.22 to account better for unscaled features. Set gamma explicitly to 'auto' or 'scale' to avoid this warning.\n",
      "  \"avoid this warning.\", FutureWarning)\n",
      "/home/jiading/.conda/envs/nn/lib/python3.7/site-packages/sklearn/svm/base.py:193: FutureWarning: The default value of gamma will change from 'auto' to 'scale' in version 0.22 to account better for unscaled features. Set gamma explicitly to 'auto' or 'scale' to avoid this warning.\n",
      "  \"avoid this warning.\", FutureWarning)\n"
     ]
    },
    {
     "name": "stdout",
     "output_type": "stream",
     "text": [
      "score_rbf:0.560000\n",
      "score_linear:0.580000\n",
      "score_poly:0.560000\n",
      "---------------Preprocess and Normalize-----------------------\n",
      "\n",
      "The range of test data is [0,50]:\n",
      "score_rbf:0.803922\n",
      "score_linear:0.647059\n",
      "score_poly:0.803922\n",
      "\n",
      "The range of test data is [50,100]:\n",
      "score_rbf:0.666667\n",
      "score_linear:0.647059\n",
      "score_poly:0.666667\n",
      "\n",
      "The range of test data is [100,150]:\n"
     ]
    },
    {
     "name": "stderr",
     "output_type": "stream",
     "text": [
      "/home/jiading/.conda/envs/nn/lib/python3.7/site-packages/sklearn/svm/base.py:193: FutureWarning: The default value of gamma will change from 'auto' to 'scale' in version 0.22 to account better for unscaled features. Set gamma explicitly to 'auto' or 'scale' to avoid this warning.\n",
      "  \"avoid this warning.\", FutureWarning)\n",
      "/home/jiading/.conda/envs/nn/lib/python3.7/site-packages/sklearn/svm/base.py:193: FutureWarning: The default value of gamma will change from 'auto' to 'scale' in version 0.22 to account better for unscaled features. Set gamma explicitly to 'auto' or 'scale' to avoid this warning.\n",
      "  \"avoid this warning.\", FutureWarning)\n",
      "/home/jiading/.conda/envs/nn/lib/python3.7/site-packages/sklearn/svm/base.py:193: FutureWarning: The default value of gamma will change from 'auto' to 'scale' in version 0.22 to account better for unscaled features. Set gamma explicitly to 'auto' or 'scale' to avoid this warning.\n",
      "  \"avoid this warning.\", FutureWarning)\n"
     ]
    },
    {
     "name": "stdout",
     "output_type": "stream",
     "text": [
      "score_rbf:0.588235\n",
      "score_linear:0.725490\n",
      "score_poly:0.588235\n",
      "\n",
      "The range of test data is [150,200]:\n",
      "score_rbf:0.588235\n",
      "score_linear:0.627451\n",
      "score_poly:0.588235\n",
      "\n",
      "The range of test data is [200,250]:\n",
      "score_rbf:0.560000\n",
      "score_linear:0.700000\n",
      "score_poly:0.560000\n",
      "############Gamma now is 2###############\n",
      "--------Without Normalize or preprocess-------\n",
      "\n",
      "The range of test data is [0,50]:\n"
     ]
    },
    {
     "name": "stderr",
     "output_type": "stream",
     "text": [
      "/home/jiading/.conda/envs/nn/lib/python3.7/site-packages/sklearn/svm/base.py:193: FutureWarning: The default value of gamma will change from 'auto' to 'scale' in version 0.22 to account better for unscaled features. Set gamma explicitly to 'auto' or 'scale' to avoid this warning.\n",
      "  \"avoid this warning.\", FutureWarning)\n",
      "/home/jiading/.conda/envs/nn/lib/python3.7/site-packages/sklearn/svm/base.py:193: FutureWarning: The default value of gamma will change from 'auto' to 'scale' in version 0.22 to account better for unscaled features. Set gamma explicitly to 'auto' or 'scale' to avoid this warning.\n",
      "  \"avoid this warning.\", FutureWarning)\n",
      "/home/jiading/.conda/envs/nn/lib/python3.7/site-packages/sklearn/svm/base.py:193: FutureWarning: The default value of gamma will change from 'auto' to 'scale' in version 0.22 to account better for unscaled features. Set gamma explicitly to 'auto' or 'scale' to avoid this warning.\n",
      "  \"avoid this warning.\", FutureWarning)\n"
     ]
    },
    {
     "name": "stdout",
     "output_type": "stream",
     "text": [
      "score_rbf:0.803922\n",
      "score_linear:0.725490\n",
      "score_poly:0.803922\n",
      "\n",
      "The range of test data is [50,100]:\n",
      "score_rbf:0.666667\n",
      "score_linear:0.686275\n",
      "score_poly:0.666667\n",
      "\n",
      "The range of test data is [100,150]:\n",
      "score_rbf:0.588235\n",
      "score_linear:0.764706\n",
      "score_poly:0.588235\n",
      "\n",
      "The range of test data is [150,200]:\n",
      "score_rbf:0.588235\n",
      "score_linear:0.666667\n",
      "score_poly:0.588235\n",
      "\n",
      "The range of test data is [200,250]:\n",
      "score_rbf:0.560000\n",
      "score_linear:0.660000\n"
     ]
    },
    {
     "name": "stderr",
     "output_type": "stream",
     "text": [
      "/home/jiading/.conda/envs/nn/lib/python3.7/site-packages/sklearn/svm/base.py:193: FutureWarning: The default value of gamma will change from 'auto' to 'scale' in version 0.22 to account better for unscaled features. Set gamma explicitly to 'auto' or 'scale' to avoid this warning.\n",
      "  \"avoid this warning.\", FutureWarning)\n",
      "/home/jiading/.conda/envs/nn/lib/python3.7/site-packages/sklearn/svm/base.py:193: FutureWarning: The default value of gamma will change from 'auto' to 'scale' in version 0.22 to account better for unscaled features. Set gamma explicitly to 'auto' or 'scale' to avoid this warning.\n",
      "  \"avoid this warning.\", FutureWarning)\n",
      "/home/jiading/.conda/envs/nn/lib/python3.7/site-packages/sklearn/svm/base.py:193: FutureWarning: The default value of gamma will change from 'auto' to 'scale' in version 0.22 to account better for unscaled features. Set gamma explicitly to 'auto' or 'scale' to avoid this warning.\n",
      "  \"avoid this warning.\", FutureWarning)\n"
     ]
    },
    {
     "name": "stdout",
     "output_type": "stream",
     "text": [
      "score_poly:0.560000\n",
      "----------------Preprocess--------------------\n",
      "\n",
      "The range of test data is [0,50]:\n",
      "score_rbf:0.803922\n",
      "score_linear:0.705882\n",
      "score_poly:0.803922\n",
      "\n",
      "The range of test data is [50,100]:\n",
      "score_rbf:0.666667\n",
      "score_linear:0.705882\n",
      "score_poly:0.666667\n",
      "\n",
      "The range of test data is [100,150]:\n",
      "score_rbf:0.588235\n",
      "score_linear:0.764706\n",
      "score_poly:0.588235\n",
      "\n",
      "The range of test data is [150,200]:\n",
      "score_rbf:0.588235\n",
      "score_linear:0.666667\n",
      "score_poly:0.588235\n",
      "\n",
      "The range of test data is [200,250]:\n",
      "score_rbf:0.560000\n",
      "score_linear:0.660000\n",
      "score_poly:0.560000\n",
      "---------------Normalize-----------------------\n",
      "\n",
      "The range of test data is [0,50]:\n",
      "score_rbf:0.803922\n",
      "score_linear:0.784314\n",
      "score_poly:0.803922\n",
      "\n",
      "The range of test data is [50,100]:\n",
      "score_rbf:0.666667\n",
      "score_linear:0.745098\n",
      "score_poly:0.666667\n",
      "\n",
      "The range of test data is [100,150]:\n"
     ]
    },
    {
     "name": "stderr",
     "output_type": "stream",
     "text": [
      "/home/jiading/.conda/envs/nn/lib/python3.7/site-packages/sklearn/svm/base.py:193: FutureWarning: The default value of gamma will change from 'auto' to 'scale' in version 0.22 to account better for unscaled features. Set gamma explicitly to 'auto' or 'scale' to avoid this warning.\n",
      "  \"avoid this warning.\", FutureWarning)\n",
      "/home/jiading/.conda/envs/nn/lib/python3.7/site-packages/sklearn/svm/base.py:193: FutureWarning: The default value of gamma will change from 'auto' to 'scale' in version 0.22 to account better for unscaled features. Set gamma explicitly to 'auto' or 'scale' to avoid this warning.\n",
      "  \"avoid this warning.\", FutureWarning)\n",
      "/home/jiading/.conda/envs/nn/lib/python3.7/site-packages/sklearn/svm/base.py:193: FutureWarning: The default value of gamma will change from 'auto' to 'scale' in version 0.22 to account better for unscaled features. Set gamma explicitly to 'auto' or 'scale' to avoid this warning.\n",
      "  \"avoid this warning.\", FutureWarning)\n"
     ]
    },
    {
     "name": "stdout",
     "output_type": "stream",
     "text": [
      "score_rbf:0.588235\n",
      "score_linear:0.666667\n",
      "score_poly:0.588235\n",
      "\n",
      "The range of test data is [150,200]:\n",
      "score_rbf:0.588235\n",
      "score_linear:0.666667\n",
      "score_poly:0.588235\n",
      "\n",
      "The range of test data is [200,250]:\n",
      "score_rbf:0.560000\n",
      "score_linear:0.580000\n",
      "score_poly:0.560000\n",
      "---------------Preprocess and Normalize-----------------------\n",
      "\n",
      "The range of test data is [0,50]:\n"
     ]
    },
    {
     "name": "stderr",
     "output_type": "stream",
     "text": [
      "/home/jiading/.conda/envs/nn/lib/python3.7/site-packages/sklearn/svm/base.py:193: FutureWarning: The default value of gamma will change from 'auto' to 'scale' in version 0.22 to account better for unscaled features. Set gamma explicitly to 'auto' or 'scale' to avoid this warning.\n",
      "  \"avoid this warning.\", FutureWarning)\n",
      "/home/jiading/.conda/envs/nn/lib/python3.7/site-packages/sklearn/svm/base.py:193: FutureWarning: The default value of gamma will change from 'auto' to 'scale' in version 0.22 to account better for unscaled features. Set gamma explicitly to 'auto' or 'scale' to avoid this warning.\n",
      "  \"avoid this warning.\", FutureWarning)\n",
      "/home/jiading/.conda/envs/nn/lib/python3.7/site-packages/sklearn/svm/base.py:193: FutureWarning: The default value of gamma will change from 'auto' to 'scale' in version 0.22 to account better for unscaled features. Set gamma explicitly to 'auto' or 'scale' to avoid this warning.\n",
      "  \"avoid this warning.\", FutureWarning)\n"
     ]
    },
    {
     "name": "stdout",
     "output_type": "stream",
     "text": [
      "score_rbf:0.803922\n",
      "score_linear:0.647059\n",
      "score_poly:0.803922\n",
      "\n",
      "The range of test data is [50,100]:\n",
      "score_rbf:0.666667\n",
      "score_linear:0.647059\n",
      "score_poly:0.666667\n",
      "\n",
      "The range of test data is [100,150]:\n",
      "score_rbf:0.588235\n",
      "score_linear:0.725490\n"
     ]
    },
    {
     "name": "stderr",
     "output_type": "stream",
     "text": [
      "/home/jiading/.conda/envs/nn/lib/python3.7/site-packages/sklearn/svm/base.py:193: FutureWarning: The default value of gamma will change from 'auto' to 'scale' in version 0.22 to account better for unscaled features. Set gamma explicitly to 'auto' or 'scale' to avoid this warning.\n",
      "  \"avoid this warning.\", FutureWarning)\n",
      "/home/jiading/.conda/envs/nn/lib/python3.7/site-packages/sklearn/svm/base.py:193: FutureWarning: The default value of gamma will change from 'auto' to 'scale' in version 0.22 to account better for unscaled features. Set gamma explicitly to 'auto' or 'scale' to avoid this warning.\n",
      "  \"avoid this warning.\", FutureWarning)\n",
      "/home/jiading/.conda/envs/nn/lib/python3.7/site-packages/sklearn/svm/base.py:193: FutureWarning: The default value of gamma will change from 'auto' to 'scale' in version 0.22 to account better for unscaled features. Set gamma explicitly to 'auto' or 'scale' to avoid this warning.\n",
      "  \"avoid this warning.\", FutureWarning)\n"
     ]
    },
    {
     "name": "stdout",
     "output_type": "stream",
     "text": [
      "score_poly:0.588235\n",
      "\n",
      "The range of test data is [150,200]:\n",
      "score_rbf:0.588235\n",
      "score_linear:0.627451\n",
      "score_poly:0.588235\n",
      "\n",
      "The range of test data is [200,250]:\n",
      "score_rbf:0.560000\n",
      "score_linear:0.700000\n",
      "score_poly:0.560000\n",
      "############Gamma now is 3###############\n",
      "--------Without Normalize or preprocess-------\n",
      "\n",
      "The range of test data is [0,50]:\n"
     ]
    },
    {
     "name": "stderr",
     "output_type": "stream",
     "text": [
      "/home/jiading/.conda/envs/nn/lib/python3.7/site-packages/sklearn/svm/base.py:193: FutureWarning: The default value of gamma will change from 'auto' to 'scale' in version 0.22 to account better for unscaled features. Set gamma explicitly to 'auto' or 'scale' to avoid this warning.\n",
      "  \"avoid this warning.\", FutureWarning)\n",
      "/home/jiading/.conda/envs/nn/lib/python3.7/site-packages/sklearn/svm/base.py:193: FutureWarning: The default value of gamma will change from 'auto' to 'scale' in version 0.22 to account better for unscaled features. Set gamma explicitly to 'auto' or 'scale' to avoid this warning.\n",
      "  \"avoid this warning.\", FutureWarning)\n",
      "/home/jiading/.conda/envs/nn/lib/python3.7/site-packages/sklearn/svm/base.py:193: FutureWarning: The default value of gamma will change from 'auto' to 'scale' in version 0.22 to account better for unscaled features. Set gamma explicitly to 'auto' or 'scale' to avoid this warning.\n",
      "  \"avoid this warning.\", FutureWarning)\n"
     ]
    },
    {
     "name": "stdout",
     "output_type": "stream",
     "text": [
      "score_rbf:0.803922\n",
      "score_linear:0.725490\n",
      "score_poly:0.803922\n",
      "\n",
      "The range of test data is [50,100]:\n",
      "score_rbf:0.666667\n",
      "score_linear:0.686275\n",
      "score_poly:0.666667\n",
      "\n",
      "The range of test data is [100,150]:\n",
      "score_rbf:0.588235\n",
      "score_linear:0.764706\n",
      "score_poly:0.588235\n",
      "\n",
      "The range of test data is [150,200]:\n",
      "score_rbf:0.588235\n",
      "score_linear:0.666667\n",
      "score_poly:0.588235\n",
      "\n",
      "The range of test data is [200,250]:\n",
      "score_rbf:0.560000\n",
      "score_linear:0.660000\n"
     ]
    },
    {
     "name": "stderr",
     "output_type": "stream",
     "text": [
      "/home/jiading/.conda/envs/nn/lib/python3.7/site-packages/sklearn/svm/base.py:193: FutureWarning: The default value of gamma will change from 'auto' to 'scale' in version 0.22 to account better for unscaled features. Set gamma explicitly to 'auto' or 'scale' to avoid this warning.\n",
      "  \"avoid this warning.\", FutureWarning)\n",
      "/home/jiading/.conda/envs/nn/lib/python3.7/site-packages/sklearn/svm/base.py:193: FutureWarning: The default value of gamma will change from 'auto' to 'scale' in version 0.22 to account better for unscaled features. Set gamma explicitly to 'auto' or 'scale' to avoid this warning.\n",
      "  \"avoid this warning.\", FutureWarning)\n",
      "/home/jiading/.conda/envs/nn/lib/python3.7/site-packages/sklearn/svm/base.py:193: FutureWarning: The default value of gamma will change from 'auto' to 'scale' in version 0.22 to account better for unscaled features. Set gamma explicitly to 'auto' or 'scale' to avoid this warning.\n",
      "  \"avoid this warning.\", FutureWarning)\n"
     ]
    },
    {
     "name": "stdout",
     "output_type": "stream",
     "text": [
      "score_poly:0.560000\n",
      "----------------Preprocess--------------------\n",
      "\n",
      "The range of test data is [0,50]:\n",
      "score_rbf:0.803922\n",
      "score_linear:0.705882\n",
      "score_poly:0.803922\n",
      "\n",
      "The range of test data is [50,100]:\n",
      "score_rbf:0.666667\n",
      "score_linear:0.705882\n",
      "score_poly:0.666667\n",
      "\n",
      "The range of test data is [100,150]:\n",
      "score_rbf:0.588235\n",
      "score_linear:0.764706\n",
      "score_poly:0.588235\n",
      "\n",
      "The range of test data is [150,200]:\n",
      "score_rbf:0.588235\n",
      "score_linear:0.666667\n",
      "score_poly:0.588235\n",
      "\n",
      "The range of test data is [200,250]:\n",
      "score_rbf:0.560000\n",
      "score_linear:0.660000\n",
      "score_poly:0.560000\n",
      "---------------Normalize-----------------------\n",
      "\n",
      "The range of test data is [0,50]:\n",
      "score_rbf:0.803922\n",
      "score_linear:0.784314\n",
      "score_poly:0.803922\n",
      "\n",
      "The range of test data is [50,100]:\n",
      "score_rbf:0.666667\n",
      "score_linear:0.745098\n",
      "score_poly:0.666667\n",
      "\n",
      "The range of test data is [100,150]:\n"
     ]
    },
    {
     "name": "stderr",
     "output_type": "stream",
     "text": [
      "/home/jiading/.conda/envs/nn/lib/python3.7/site-packages/sklearn/svm/base.py:193: FutureWarning: The default value of gamma will change from 'auto' to 'scale' in version 0.22 to account better for unscaled features. Set gamma explicitly to 'auto' or 'scale' to avoid this warning.\n",
      "  \"avoid this warning.\", FutureWarning)\n",
      "/home/jiading/.conda/envs/nn/lib/python3.7/site-packages/sklearn/svm/base.py:193: FutureWarning: The default value of gamma will change from 'auto' to 'scale' in version 0.22 to account better for unscaled features. Set gamma explicitly to 'auto' or 'scale' to avoid this warning.\n",
      "  \"avoid this warning.\", FutureWarning)\n",
      "/home/jiading/.conda/envs/nn/lib/python3.7/site-packages/sklearn/svm/base.py:193: FutureWarning: The default value of gamma will change from 'auto' to 'scale' in version 0.22 to account better for unscaled features. Set gamma explicitly to 'auto' or 'scale' to avoid this warning.\n",
      "  \"avoid this warning.\", FutureWarning)\n"
     ]
    },
    {
     "name": "stdout",
     "output_type": "stream",
     "text": [
      "score_rbf:0.588235\n",
      "score_linear:0.666667\n",
      "score_poly:0.588235\n",
      "\n",
      "The range of test data is [150,200]:\n",
      "score_rbf:0.588235\n",
      "score_linear:0.666667\n",
      "score_poly:0.588235\n",
      "\n",
      "The range of test data is [200,250]:\n",
      "score_rbf:0.560000\n",
      "score_linear:0.580000\n"
     ]
    },
    {
     "name": "stderr",
     "output_type": "stream",
     "text": [
      "/home/jiading/.conda/envs/nn/lib/python3.7/site-packages/sklearn/svm/base.py:193: FutureWarning: The default value of gamma will change from 'auto' to 'scale' in version 0.22 to account better for unscaled features. Set gamma explicitly to 'auto' or 'scale' to avoid this warning.\n",
      "  \"avoid this warning.\", FutureWarning)\n",
      "/home/jiading/.conda/envs/nn/lib/python3.7/site-packages/sklearn/svm/base.py:193: FutureWarning: The default value of gamma will change from 'auto' to 'scale' in version 0.22 to account better for unscaled features. Set gamma explicitly to 'auto' or 'scale' to avoid this warning.\n",
      "  \"avoid this warning.\", FutureWarning)\n",
      "/home/jiading/.conda/envs/nn/lib/python3.7/site-packages/sklearn/svm/base.py:193: FutureWarning: The default value of gamma will change from 'auto' to 'scale' in version 0.22 to account better for unscaled features. Set gamma explicitly to 'auto' or 'scale' to avoid this warning.\n",
      "  \"avoid this warning.\", FutureWarning)\n"
     ]
    },
    {
     "name": "stdout",
     "output_type": "stream",
     "text": [
      "score_poly:0.560000\n",
      "---------------Preprocess and Normalize-----------------------\n",
      "\n",
      "The range of test data is [0,50]:\n",
      "score_rbf:0.803922\n",
      "score_linear:0.647059\n",
      "score_poly:0.803922\n",
      "\n",
      "The range of test data is [50,100]:\n",
      "score_rbf:0.666667\n",
      "score_linear:0.647059\n",
      "score_poly:0.666667\n",
      "\n",
      "The range of test data is [100,150]:\n"
     ]
    },
    {
     "name": "stderr",
     "output_type": "stream",
     "text": [
      "/home/jiading/.conda/envs/nn/lib/python3.7/site-packages/sklearn/svm/base.py:193: FutureWarning: The default value of gamma will change from 'auto' to 'scale' in version 0.22 to account better for unscaled features. Set gamma explicitly to 'auto' or 'scale' to avoid this warning.\n",
      "  \"avoid this warning.\", FutureWarning)\n",
      "/home/jiading/.conda/envs/nn/lib/python3.7/site-packages/sklearn/svm/base.py:193: FutureWarning: The default value of gamma will change from 'auto' to 'scale' in version 0.22 to account better for unscaled features. Set gamma explicitly to 'auto' or 'scale' to avoid this warning.\n",
      "  \"avoid this warning.\", FutureWarning)\n",
      "/home/jiading/.conda/envs/nn/lib/python3.7/site-packages/sklearn/svm/base.py:193: FutureWarning: The default value of gamma will change from 'auto' to 'scale' in version 0.22 to account better for unscaled features. Set gamma explicitly to 'auto' or 'scale' to avoid this warning.\n",
      "  \"avoid this warning.\", FutureWarning)\n"
     ]
    },
    {
     "name": "stdout",
     "output_type": "stream",
     "text": [
      "score_rbf:0.588235\n",
      "score_linear:0.725490\n",
      "score_poly:0.588235\n",
      "\n",
      "The range of test data is [150,200]:\n",
      "score_rbf:0.588235\n",
      "score_linear:0.627451\n",
      "score_poly:0.588235\n",
      "\n",
      "The range of test data is [200,250]:\n",
      "score_rbf:0.560000\n",
      "score_linear:0.700000\n",
      "score_poly:0.560000\n",
      "############Gamma now is 4###############\n",
      "--------Without Normalize or preprocess-------\n",
      "\n",
      "The range of test data is [0,50]:\n"
     ]
    },
    {
     "name": "stderr",
     "output_type": "stream",
     "text": [
      "/home/jiading/.conda/envs/nn/lib/python3.7/site-packages/sklearn/svm/base.py:193: FutureWarning: The default value of gamma will change from 'auto' to 'scale' in version 0.22 to account better for unscaled features. Set gamma explicitly to 'auto' or 'scale' to avoid this warning.\n",
      "  \"avoid this warning.\", FutureWarning)\n",
      "/home/jiading/.conda/envs/nn/lib/python3.7/site-packages/sklearn/svm/base.py:193: FutureWarning: The default value of gamma will change from 'auto' to 'scale' in version 0.22 to account better for unscaled features. Set gamma explicitly to 'auto' or 'scale' to avoid this warning.\n",
      "  \"avoid this warning.\", FutureWarning)\n",
      "/home/jiading/.conda/envs/nn/lib/python3.7/site-packages/sklearn/svm/base.py:193: FutureWarning: The default value of gamma will change from 'auto' to 'scale' in version 0.22 to account better for unscaled features. Set gamma explicitly to 'auto' or 'scale' to avoid this warning.\n",
      "  \"avoid this warning.\", FutureWarning)\n"
     ]
    },
    {
     "name": "stdout",
     "output_type": "stream",
     "text": [
      "score_rbf:0.803922\n",
      "score_linear:0.725490\n",
      "score_poly:0.803922\n",
      "\n",
      "The range of test data is [50,100]:\n",
      "score_rbf:0.666667\n",
      "score_linear:0.686275\n",
      "score_poly:0.666667\n",
      "\n",
      "The range of test data is [100,150]:\n",
      "score_rbf:0.588235\n",
      "score_linear:0.764706\n"
     ]
    },
    {
     "name": "stderr",
     "output_type": "stream",
     "text": [
      "/home/jiading/.conda/envs/nn/lib/python3.7/site-packages/sklearn/svm/base.py:193: FutureWarning: The default value of gamma will change from 'auto' to 'scale' in version 0.22 to account better for unscaled features. Set gamma explicitly to 'auto' or 'scale' to avoid this warning.\n",
      "  \"avoid this warning.\", FutureWarning)\n",
      "/home/jiading/.conda/envs/nn/lib/python3.7/site-packages/sklearn/svm/base.py:193: FutureWarning: The default value of gamma will change from 'auto' to 'scale' in version 0.22 to account better for unscaled features. Set gamma explicitly to 'auto' or 'scale' to avoid this warning.\n",
      "  \"avoid this warning.\", FutureWarning)\n",
      "/home/jiading/.conda/envs/nn/lib/python3.7/site-packages/sklearn/svm/base.py:193: FutureWarning: The default value of gamma will change from 'auto' to 'scale' in version 0.22 to account better for unscaled features. Set gamma explicitly to 'auto' or 'scale' to avoid this warning.\n",
      "  \"avoid this warning.\", FutureWarning)\n"
     ]
    },
    {
     "name": "stdout",
     "output_type": "stream",
     "text": [
      "score_poly:0.588235\n",
      "\n",
      "The range of test data is [150,200]:\n",
      "score_rbf:0.588235\n",
      "score_linear:0.666667\n",
      "score_poly:0.588235\n",
      "\n",
      "The range of test data is [200,250]:\n",
      "score_rbf:0.560000\n",
      "score_linear:0.660000\n",
      "score_poly:0.560000\n",
      "----------------Preprocess--------------------\n",
      "\n",
      "The range of test data is [0,50]:\n",
      "score_rbf:0.803922\n",
      "score_linear:0.705882\n",
      "score_poly:0.803922\n",
      "\n",
      "The range of test data is [50,100]:\n",
      "score_rbf:0.666667\n",
      "score_linear:0.705882\n",
      "score_poly:0.666667\n",
      "\n",
      "The range of test data is [100,150]:\n",
      "score_rbf:0.588235\n",
      "score_linear:0.764706\n",
      "score_poly:0.588235\n",
      "\n",
      "The range of test data is [150,200]:\n",
      "score_rbf:0.588235\n",
      "score_linear:0.666667\n",
      "score_poly:0.588235\n",
      "\n",
      "The range of test data is [200,250]:\n",
      "score_rbf:0.560000\n",
      "score_linear:0.660000\n",
      "score_poly:0.560000\n",
      "---------------Normalize-----------------------\n",
      "\n",
      "The range of test data is [0,50]:\n",
      "score_rbf:0.803922\n",
      "score_linear:0.784314\n",
      "score_poly:0.803922\n",
      "\n",
      "The range of test data is [50,100]:\n",
      "score_rbf:0.666667\n",
      "score_linear:0.745098\n",
      "score_poly:0.666667\n",
      "\n",
      "The range of test data is [100,150]:\n",
      "score_rbf:0.588235\n",
      "score_linear:0.666667\n",
      "score_poly:0.588235\n",
      "\n",
      "The range of test data is [150,200]:\n"
     ]
    },
    {
     "name": "stderr",
     "output_type": "stream",
     "text": [
      "/home/jiading/.conda/envs/nn/lib/python3.7/site-packages/sklearn/svm/base.py:193: FutureWarning: The default value of gamma will change from 'auto' to 'scale' in version 0.22 to account better for unscaled features. Set gamma explicitly to 'auto' or 'scale' to avoid this warning.\n",
      "  \"avoid this warning.\", FutureWarning)\n",
      "/home/jiading/.conda/envs/nn/lib/python3.7/site-packages/sklearn/svm/base.py:193: FutureWarning: The default value of gamma will change from 'auto' to 'scale' in version 0.22 to account better for unscaled features. Set gamma explicitly to 'auto' or 'scale' to avoid this warning.\n",
      "  \"avoid this warning.\", FutureWarning)\n",
      "/home/jiading/.conda/envs/nn/lib/python3.7/site-packages/sklearn/svm/base.py:193: FutureWarning: The default value of gamma will change from 'auto' to 'scale' in version 0.22 to account better for unscaled features. Set gamma explicitly to 'auto' or 'scale' to avoid this warning.\n",
      "  \"avoid this warning.\", FutureWarning)\n"
     ]
    },
    {
     "name": "stdout",
     "output_type": "stream",
     "text": [
      "score_rbf:0.588235\n",
      "score_linear:0.666667\n",
      "score_poly:0.588235\n",
      "\n",
      "The range of test data is [200,250]:\n",
      "score_rbf:0.560000\n",
      "score_linear:0.580000\n",
      "score_poly:0.560000\n",
      "---------------Preprocess and Normalize-----------------------\n",
      "\n",
      "The range of test data is [0,50]:\n",
      "score_rbf:0.803922\n",
      "score_linear:0.647059\n",
      "score_poly:0.803922\n",
      "\n",
      "The range of test data is [50,100]:\n"
     ]
    },
    {
     "name": "stderr",
     "output_type": "stream",
     "text": [
      "/home/jiading/.conda/envs/nn/lib/python3.7/site-packages/sklearn/svm/base.py:193: FutureWarning: The default value of gamma will change from 'auto' to 'scale' in version 0.22 to account better for unscaled features. Set gamma explicitly to 'auto' or 'scale' to avoid this warning.\n",
      "  \"avoid this warning.\", FutureWarning)\n",
      "/home/jiading/.conda/envs/nn/lib/python3.7/site-packages/sklearn/svm/base.py:193: FutureWarning: The default value of gamma will change from 'auto' to 'scale' in version 0.22 to account better for unscaled features. Set gamma explicitly to 'auto' or 'scale' to avoid this warning.\n",
      "  \"avoid this warning.\", FutureWarning)\n",
      "/home/jiading/.conda/envs/nn/lib/python3.7/site-packages/sklearn/svm/base.py:193: FutureWarning: The default value of gamma will change from 'auto' to 'scale' in version 0.22 to account better for unscaled features. Set gamma explicitly to 'auto' or 'scale' to avoid this warning.\n",
      "  \"avoid this warning.\", FutureWarning)\n"
     ]
    },
    {
     "name": "stdout",
     "output_type": "stream",
     "text": [
      "score_rbf:0.666667\n",
      "score_linear:0.647059\n",
      "score_poly:0.666667\n",
      "\n",
      "The range of test data is [100,150]:\n",
      "score_rbf:0.588235\n",
      "score_linear:0.725490\n",
      "score_poly:0.588235\n",
      "\n",
      "The range of test data is [150,200]:\n",
      "score_rbf:0.588235\n",
      "score_linear:0.627451\n",
      "score_poly:0.588235\n",
      "\n",
      "The range of test data is [200,250]:\n"
     ]
    },
    {
     "name": "stderr",
     "output_type": "stream",
     "text": [
      "/home/jiading/.conda/envs/nn/lib/python3.7/site-packages/sklearn/svm/base.py:193: FutureWarning: The default value of gamma will change from 'auto' to 'scale' in version 0.22 to account better for unscaled features. Set gamma explicitly to 'auto' or 'scale' to avoid this warning.\n",
      "  \"avoid this warning.\", FutureWarning)\n",
      "/home/jiading/.conda/envs/nn/lib/python3.7/site-packages/sklearn/svm/base.py:193: FutureWarning: The default value of gamma will change from 'auto' to 'scale' in version 0.22 to account better for unscaled features. Set gamma explicitly to 'auto' or 'scale' to avoid this warning.\n",
      "  \"avoid this warning.\", FutureWarning)\n",
      "/home/jiading/.conda/envs/nn/lib/python3.7/site-packages/sklearn/svm/base.py:193: FutureWarning: The default value of gamma will change from 'auto' to 'scale' in version 0.22 to account better for unscaled features. Set gamma explicitly to 'auto' or 'scale' to avoid this warning.\n",
      "  \"avoid this warning.\", FutureWarning)\n"
     ]
    },
    {
     "name": "stdout",
     "output_type": "stream",
     "text": [
      "score_rbf:0.560000\n",
      "score_linear:0.700000\n",
      "score_poly:0.560000\n",
      "############Gamma now is 5###############\n",
      "--------Without Normalize or preprocess-------\n",
      "\n",
      "The range of test data is [0,50]:\n",
      "score_rbf:0.803922\n",
      "score_linear:0.725490\n",
      "score_poly:0.803922\n",
      "\n",
      "The range of test data is [50,100]:\n",
      "score_rbf:0.666667\n",
      "score_linear:0.686275\n"
     ]
    },
    {
     "name": "stderr",
     "output_type": "stream",
     "text": [
      "/home/jiading/.conda/envs/nn/lib/python3.7/site-packages/sklearn/svm/base.py:193: FutureWarning: The default value of gamma will change from 'auto' to 'scale' in version 0.22 to account better for unscaled features. Set gamma explicitly to 'auto' or 'scale' to avoid this warning.\n",
      "  \"avoid this warning.\", FutureWarning)\n",
      "/home/jiading/.conda/envs/nn/lib/python3.7/site-packages/sklearn/svm/base.py:193: FutureWarning: The default value of gamma will change from 'auto' to 'scale' in version 0.22 to account better for unscaled features. Set gamma explicitly to 'auto' or 'scale' to avoid this warning.\n",
      "  \"avoid this warning.\", FutureWarning)\n",
      "/home/jiading/.conda/envs/nn/lib/python3.7/site-packages/sklearn/svm/base.py:193: FutureWarning: The default value of gamma will change from 'auto' to 'scale' in version 0.22 to account better for unscaled features. Set gamma explicitly to 'auto' or 'scale' to avoid this warning.\n",
      "  \"avoid this warning.\", FutureWarning)\n"
     ]
    },
    {
     "name": "stdout",
     "output_type": "stream",
     "text": [
      "score_poly:0.666667\n",
      "\n",
      "The range of test data is [100,150]:\n",
      "score_rbf:0.588235\n",
      "score_linear:0.764706\n",
      "score_poly:0.588235\n",
      "\n",
      "The range of test data is [150,200]:\n",
      "score_rbf:0.588235\n",
      "score_linear:0.666667\n",
      "score_poly:0.588235\n",
      "\n",
      "The range of test data is [200,250]:\n"
     ]
    },
    {
     "name": "stderr",
     "output_type": "stream",
     "text": [
      "/home/jiading/.conda/envs/nn/lib/python3.7/site-packages/sklearn/svm/base.py:193: FutureWarning: The default value of gamma will change from 'auto' to 'scale' in version 0.22 to account better for unscaled features. Set gamma explicitly to 'auto' or 'scale' to avoid this warning.\n",
      "  \"avoid this warning.\", FutureWarning)\n",
      "/home/jiading/.conda/envs/nn/lib/python3.7/site-packages/sklearn/svm/base.py:193: FutureWarning: The default value of gamma will change from 'auto' to 'scale' in version 0.22 to account better for unscaled features. Set gamma explicitly to 'auto' or 'scale' to avoid this warning.\n",
      "  \"avoid this warning.\", FutureWarning)\n",
      "/home/jiading/.conda/envs/nn/lib/python3.7/site-packages/sklearn/svm/base.py:193: FutureWarning: The default value of gamma will change from 'auto' to 'scale' in version 0.22 to account better for unscaled features. Set gamma explicitly to 'auto' or 'scale' to avoid this warning.\n",
      "  \"avoid this warning.\", FutureWarning)\n"
     ]
    },
    {
     "name": "stdout",
     "output_type": "stream",
     "text": [
      "score_rbf:0.560000\n",
      "score_linear:0.660000\n",
      "score_poly:0.560000\n",
      "----------------Preprocess--------------------\n",
      "\n",
      "The range of test data is [0,50]:\n",
      "score_rbf:0.803922\n",
      "score_linear:0.705882\n",
      "score_poly:0.803922\n",
      "\n",
      "The range of test data is [50,100]:\n",
      "score_rbf:0.666667\n",
      "score_linear:0.705882\n",
      "score_poly:0.666667\n",
      "\n",
      "The range of test data is [100,150]:\n",
      "score_rbf:0.588235\n",
      "score_linear:0.764706\n",
      "score_poly:0.588235\n",
      "\n",
      "The range of test data is [150,200]:\n",
      "score_rbf:0.588235\n",
      "score_linear:0.666667\n",
      "score_poly:0.588235\n",
      "\n",
      "The range of test data is [200,250]:\n",
      "score_rbf:0.560000\n",
      "score_linear:0.660000\n",
      "score_poly:0.560000\n",
      "---------------Normalize-----------------------\n",
      "\n",
      "The range of test data is [0,50]:\n",
      "score_rbf:0.803922\n",
      "score_linear:0.784314\n",
      "score_poly:0.803922\n",
      "\n",
      "The range of test data is [50,100]:\n",
      "score_rbf:0.666667\n",
      "score_linear:0.745098\n"
     ]
    },
    {
     "name": "stderr",
     "output_type": "stream",
     "text": [
      "/home/jiading/.conda/envs/nn/lib/python3.7/site-packages/sklearn/svm/base.py:193: FutureWarning: The default value of gamma will change from 'auto' to 'scale' in version 0.22 to account better for unscaled features. Set gamma explicitly to 'auto' or 'scale' to avoid this warning.\n",
      "  \"avoid this warning.\", FutureWarning)\n",
      "/home/jiading/.conda/envs/nn/lib/python3.7/site-packages/sklearn/svm/base.py:193: FutureWarning: The default value of gamma will change from 'auto' to 'scale' in version 0.22 to account better for unscaled features. Set gamma explicitly to 'auto' or 'scale' to avoid this warning.\n",
      "  \"avoid this warning.\", FutureWarning)\n",
      "/home/jiading/.conda/envs/nn/lib/python3.7/site-packages/sklearn/svm/base.py:193: FutureWarning: The default value of gamma will change from 'auto' to 'scale' in version 0.22 to account better for unscaled features. Set gamma explicitly to 'auto' or 'scale' to avoid this warning.\n",
      "  \"avoid this warning.\", FutureWarning)\n"
     ]
    },
    {
     "name": "stdout",
     "output_type": "stream",
     "text": [
      "score_poly:0.666667\n",
      "\n",
      "The range of test data is [100,150]:\n",
      "score_rbf:0.588235\n",
      "score_linear:0.666667\n",
      "score_poly:0.588235\n",
      "\n",
      "The range of test data is [150,200]:\n",
      "score_rbf:0.588235\n",
      "score_linear:0.666667\n",
      "score_poly:0.588235\n",
      "\n",
      "The range of test data is [200,250]:\n",
      "score_rbf:0.560000\n"
     ]
    },
    {
     "name": "stderr",
     "output_type": "stream",
     "text": [
      "/home/jiading/.conda/envs/nn/lib/python3.7/site-packages/sklearn/svm/base.py:193: FutureWarning: The default value of gamma will change from 'auto' to 'scale' in version 0.22 to account better for unscaled features. Set gamma explicitly to 'auto' or 'scale' to avoid this warning.\n",
      "  \"avoid this warning.\", FutureWarning)\n",
      "/home/jiading/.conda/envs/nn/lib/python3.7/site-packages/sklearn/svm/base.py:193: FutureWarning: The default value of gamma will change from 'auto' to 'scale' in version 0.22 to account better for unscaled features. Set gamma explicitly to 'auto' or 'scale' to avoid this warning.\n",
      "  \"avoid this warning.\", FutureWarning)\n",
      "/home/jiading/.conda/envs/nn/lib/python3.7/site-packages/sklearn/svm/base.py:193: FutureWarning: The default value of gamma will change from 'auto' to 'scale' in version 0.22 to account better for unscaled features. Set gamma explicitly to 'auto' or 'scale' to avoid this warning.\n",
      "  \"avoid this warning.\", FutureWarning)\n"
     ]
    },
    {
     "name": "stdout",
     "output_type": "stream",
     "text": [
      "score_linear:0.580000\n",
      "score_poly:0.560000\n",
      "---------------Preprocess and Normalize-----------------------\n",
      "\n",
      "The range of test data is [0,50]:\n",
      "score_rbf:0.803922\n",
      "score_linear:0.647059\n",
      "score_poly:0.803922\n",
      "\n",
      "The range of test data is [50,100]:\n",
      "score_rbf:0.666667\n",
      "score_linear:0.647059\n",
      "score_poly:0.666667\n",
      "\n",
      "The range of test data is [100,150]:\n"
     ]
    },
    {
     "name": "stderr",
     "output_type": "stream",
     "text": [
      "/home/jiading/.conda/envs/nn/lib/python3.7/site-packages/sklearn/svm/base.py:193: FutureWarning: The default value of gamma will change from 'auto' to 'scale' in version 0.22 to account better for unscaled features. Set gamma explicitly to 'auto' or 'scale' to avoid this warning.\n",
      "  \"avoid this warning.\", FutureWarning)\n",
      "/home/jiading/.conda/envs/nn/lib/python3.7/site-packages/sklearn/svm/base.py:193: FutureWarning: The default value of gamma will change from 'auto' to 'scale' in version 0.22 to account better for unscaled features. Set gamma explicitly to 'auto' or 'scale' to avoid this warning.\n",
      "  \"avoid this warning.\", FutureWarning)\n",
      "/home/jiading/.conda/envs/nn/lib/python3.7/site-packages/sklearn/svm/base.py:193: FutureWarning: The default value of gamma will change from 'auto' to 'scale' in version 0.22 to account better for unscaled features. Set gamma explicitly to 'auto' or 'scale' to avoid this warning.\n",
      "  \"avoid this warning.\", FutureWarning)\n"
     ]
    },
    {
     "name": "stdout",
     "output_type": "stream",
     "text": [
      "score_rbf:0.588235\n",
      "score_linear:0.725490\n",
      "score_poly:0.588235\n",
      "\n",
      "The range of test data is [150,200]:\n",
      "score_rbf:0.588235\n",
      "score_linear:0.627451\n",
      "score_poly:0.588235\n",
      "\n",
      "The range of test data is [200,250]:\n",
      "score_rbf:0.560000\n",
      "score_linear:0.700000\n",
      "score_poly:0.560000\n",
      "############Gamma now is 6###############\n",
      "--------Without Normalize or preprocess-------\n",
      "\n",
      "The range of test data is [0,50]:\n"
     ]
    },
    {
     "name": "stderr",
     "output_type": "stream",
     "text": [
      "/home/jiading/.conda/envs/nn/lib/python3.7/site-packages/sklearn/svm/base.py:193: FutureWarning: The default value of gamma will change from 'auto' to 'scale' in version 0.22 to account better for unscaled features. Set gamma explicitly to 'auto' or 'scale' to avoid this warning.\n",
      "  \"avoid this warning.\", FutureWarning)\n",
      "/home/jiading/.conda/envs/nn/lib/python3.7/site-packages/sklearn/svm/base.py:193: FutureWarning: The default value of gamma will change from 'auto' to 'scale' in version 0.22 to account better for unscaled features. Set gamma explicitly to 'auto' or 'scale' to avoid this warning.\n",
      "  \"avoid this warning.\", FutureWarning)\n",
      "/home/jiading/.conda/envs/nn/lib/python3.7/site-packages/sklearn/svm/base.py:193: FutureWarning: The default value of gamma will change from 'auto' to 'scale' in version 0.22 to account better for unscaled features. Set gamma explicitly to 'auto' or 'scale' to avoid this warning.\n",
      "  \"avoid this warning.\", FutureWarning)\n"
     ]
    },
    {
     "name": "stdout",
     "output_type": "stream",
     "text": [
      "score_rbf:0.803922\n",
      "score_linear:0.725490\n",
      "score_poly:0.803922\n",
      "\n",
      "The range of test data is [50,100]:\n",
      "score_rbf:0.666667\n",
      "score_linear:0.686275\n",
      "score_poly:0.666667\n",
      "\n",
      "The range of test data is [100,150]:\n",
      "score_rbf:0.588235\n",
      "score_linear:0.764706\n",
      "score_poly:0.588235\n",
      "\n",
      "The range of test data is [150,200]:\n",
      "score_rbf:0.588235\n",
      "score_linear:0.666667\n",
      "score_poly:0.588235\n",
      "\n",
      "The range of test data is [200,250]:\n",
      "score_rbf:0.560000\n",
      "score_linear:0.660000\n",
      "score_poly:0.560000\n",
      "----------------Preprocess--------------------\n",
      "\n",
      "The range of test data is [0,50]:\n"
     ]
    },
    {
     "name": "stderr",
     "output_type": "stream",
     "text": [
      "/home/jiading/.conda/envs/nn/lib/python3.7/site-packages/sklearn/svm/base.py:193: FutureWarning: The default value of gamma will change from 'auto' to 'scale' in version 0.22 to account better for unscaled features. Set gamma explicitly to 'auto' or 'scale' to avoid this warning.\n",
      "  \"avoid this warning.\", FutureWarning)\n",
      "/home/jiading/.conda/envs/nn/lib/python3.7/site-packages/sklearn/svm/base.py:193: FutureWarning: The default value of gamma will change from 'auto' to 'scale' in version 0.22 to account better for unscaled features. Set gamma explicitly to 'auto' or 'scale' to avoid this warning.\n",
      "  \"avoid this warning.\", FutureWarning)\n",
      "/home/jiading/.conda/envs/nn/lib/python3.7/site-packages/sklearn/svm/base.py:193: FutureWarning: The default value of gamma will change from 'auto' to 'scale' in version 0.22 to account better for unscaled features. Set gamma explicitly to 'auto' or 'scale' to avoid this warning.\n",
      "  \"avoid this warning.\", FutureWarning)\n"
     ]
    },
    {
     "name": "stdout",
     "output_type": "stream",
     "text": [
      "score_rbf:0.803922\n",
      "score_linear:0.705882\n",
      "score_poly:0.803922\n",
      "\n",
      "The range of test data is [50,100]:\n",
      "score_rbf:0.666667\n",
      "score_linear:0.705882\n",
      "score_poly:0.666667\n",
      "\n",
      "The range of test data is [100,150]:\n",
      "score_rbf:0.588235\n",
      "score_linear:0.764706\n",
      "score_poly:0.588235\n",
      "\n",
      "The range of test data is [150,200]:\n",
      "score_rbf:0.588235\n",
      "score_linear:0.666667\n",
      "score_poly:0.588235\n",
      "\n",
      "The range of test data is [200,250]:\n",
      "score_rbf:0.560000\n",
      "score_linear:0.660000\n",
      "score_poly:0.560000\n",
      "---------------Normalize-----------------------\n",
      "\n",
      "The range of test data is [0,50]:\n",
      "score_rbf:0.803922\n",
      "score_linear:0.784314\n",
      "score_poly:0.803922\n",
      "\n",
      "The range of test data is [50,100]:\n",
      "score_rbf:0.666667\n",
      "score_linear:0.745098\n",
      "score_poly:0.666667\n",
      "\n",
      "The range of test data is [100,150]:\n",
      "score_rbf:0.588235\n",
      "score_linear:0.666667\n",
      "score_poly:0.588235\n",
      "\n",
      "The range of test data is [150,200]:\n"
     ]
    },
    {
     "name": "stderr",
     "output_type": "stream",
     "text": [
      "/home/jiading/.conda/envs/nn/lib/python3.7/site-packages/sklearn/svm/base.py:193: FutureWarning: The default value of gamma will change from 'auto' to 'scale' in version 0.22 to account better for unscaled features. Set gamma explicitly to 'auto' or 'scale' to avoid this warning.\n",
      "  \"avoid this warning.\", FutureWarning)\n",
      "/home/jiading/.conda/envs/nn/lib/python3.7/site-packages/sklearn/svm/base.py:193: FutureWarning: The default value of gamma will change from 'auto' to 'scale' in version 0.22 to account better for unscaled features. Set gamma explicitly to 'auto' or 'scale' to avoid this warning.\n",
      "  \"avoid this warning.\", FutureWarning)\n",
      "/home/jiading/.conda/envs/nn/lib/python3.7/site-packages/sklearn/svm/base.py:193: FutureWarning: The default value of gamma will change from 'auto' to 'scale' in version 0.22 to account better for unscaled features. Set gamma explicitly to 'auto' or 'scale' to avoid this warning.\n",
      "  \"avoid this warning.\", FutureWarning)\n"
     ]
    },
    {
     "name": "stdout",
     "output_type": "stream",
     "text": [
      "score_rbf:0.588235\n",
      "score_linear:0.666667\n",
      "score_poly:0.588235\n",
      "\n",
      "The range of test data is [200,250]:\n",
      "score_rbf:0.560000\n",
      "score_linear:0.580000\n",
      "score_poly:0.560000\n",
      "---------------Preprocess and Normalize-----------------------\n",
      "\n",
      "The range of test data is [0,50]:\n",
      "score_rbf:0.803922\n",
      "score_linear:0.647059\n",
      "score_poly:0.803922\n",
      "\n",
      "The range of test data is [50,100]:\n"
     ]
    },
    {
     "name": "stderr",
     "output_type": "stream",
     "text": [
      "/home/jiading/.conda/envs/nn/lib/python3.7/site-packages/sklearn/svm/base.py:193: FutureWarning: The default value of gamma will change from 'auto' to 'scale' in version 0.22 to account better for unscaled features. Set gamma explicitly to 'auto' or 'scale' to avoid this warning.\n",
      "  \"avoid this warning.\", FutureWarning)\n",
      "/home/jiading/.conda/envs/nn/lib/python3.7/site-packages/sklearn/svm/base.py:193: FutureWarning: The default value of gamma will change from 'auto' to 'scale' in version 0.22 to account better for unscaled features. Set gamma explicitly to 'auto' or 'scale' to avoid this warning.\n",
      "  \"avoid this warning.\", FutureWarning)\n",
      "/home/jiading/.conda/envs/nn/lib/python3.7/site-packages/sklearn/svm/base.py:193: FutureWarning: The default value of gamma will change from 'auto' to 'scale' in version 0.22 to account better for unscaled features. Set gamma explicitly to 'auto' or 'scale' to avoid this warning.\n",
      "  \"avoid this warning.\", FutureWarning)\n"
     ]
    },
    {
     "name": "stdout",
     "output_type": "stream",
     "text": [
      "score_rbf:0.666667\n",
      "score_linear:0.647059\n",
      "score_poly:0.666667\n",
      "\n",
      "The range of test data is [100,150]:\n",
      "score_rbf:0.588235\n",
      "score_linear:0.725490\n",
      "score_poly:0.588235\n",
      "\n",
      "The range of test data is [150,200]:\n",
      "score_rbf:0.588235\n",
      "score_linear:0.627451\n",
      "score_poly:0.588235\n",
      "\n",
      "The range of test data is [200,250]:\n"
     ]
    },
    {
     "name": "stderr",
     "output_type": "stream",
     "text": [
      "/home/jiading/.conda/envs/nn/lib/python3.7/site-packages/sklearn/svm/base.py:193: FutureWarning: The default value of gamma will change from 'auto' to 'scale' in version 0.22 to account better for unscaled features. Set gamma explicitly to 'auto' or 'scale' to avoid this warning.\n",
      "  \"avoid this warning.\", FutureWarning)\n",
      "/home/jiading/.conda/envs/nn/lib/python3.7/site-packages/sklearn/svm/base.py:193: FutureWarning: The default value of gamma will change from 'auto' to 'scale' in version 0.22 to account better for unscaled features. Set gamma explicitly to 'auto' or 'scale' to avoid this warning.\n",
      "  \"avoid this warning.\", FutureWarning)\n",
      "/home/jiading/.conda/envs/nn/lib/python3.7/site-packages/sklearn/svm/base.py:193: FutureWarning: The default value of gamma will change from 'auto' to 'scale' in version 0.22 to account better for unscaled features. Set gamma explicitly to 'auto' or 'scale' to avoid this warning.\n",
      "  \"avoid this warning.\", FutureWarning)\n"
     ]
    },
    {
     "name": "stdout",
     "output_type": "stream",
     "text": [
      "score_rbf:0.560000\n",
      "score_linear:0.700000\n",
      "score_poly:0.560000\n",
      "############Gamma now is 7###############\n",
      "--------Without Normalize or preprocess-------\n",
      "\n",
      "The range of test data is [0,50]:\n",
      "score_rbf:0.803922\n",
      "score_linear:0.725490\n",
      "score_poly:0.803922\n",
      "\n",
      "The range of test data is [50,100]:\n",
      "score_rbf:0.666667\n",
      "score_linear:0.686275\n"
     ]
    },
    {
     "name": "stderr",
     "output_type": "stream",
     "text": [
      "/home/jiading/.conda/envs/nn/lib/python3.7/site-packages/sklearn/svm/base.py:193: FutureWarning: The default value of gamma will change from 'auto' to 'scale' in version 0.22 to account better for unscaled features. Set gamma explicitly to 'auto' or 'scale' to avoid this warning.\n",
      "  \"avoid this warning.\", FutureWarning)\n",
      "/home/jiading/.conda/envs/nn/lib/python3.7/site-packages/sklearn/svm/base.py:193: FutureWarning: The default value of gamma will change from 'auto' to 'scale' in version 0.22 to account better for unscaled features. Set gamma explicitly to 'auto' or 'scale' to avoid this warning.\n",
      "  \"avoid this warning.\", FutureWarning)\n",
      "/home/jiading/.conda/envs/nn/lib/python3.7/site-packages/sklearn/svm/base.py:193: FutureWarning: The default value of gamma will change from 'auto' to 'scale' in version 0.22 to account better for unscaled features. Set gamma explicitly to 'auto' or 'scale' to avoid this warning.\n",
      "  \"avoid this warning.\", FutureWarning)\n"
     ]
    },
    {
     "name": "stdout",
     "output_type": "stream",
     "text": [
      "score_poly:0.666667\n",
      "\n",
      "The range of test data is [100,150]:\n",
      "score_rbf:0.588235\n",
      "score_linear:0.764706\n",
      "score_poly:0.588235\n",
      "\n",
      "The range of test data is [150,200]:\n",
      "score_rbf:0.588235\n",
      "score_linear:0.666667\n",
      "score_poly:0.588235\n",
      "\n",
      "The range of test data is [200,250]:\n"
     ]
    },
    {
     "name": "stderr",
     "output_type": "stream",
     "text": [
      "/home/jiading/.conda/envs/nn/lib/python3.7/site-packages/sklearn/svm/base.py:193: FutureWarning: The default value of gamma will change from 'auto' to 'scale' in version 0.22 to account better for unscaled features. Set gamma explicitly to 'auto' or 'scale' to avoid this warning.\n",
      "  \"avoid this warning.\", FutureWarning)\n",
      "/home/jiading/.conda/envs/nn/lib/python3.7/site-packages/sklearn/svm/base.py:193: FutureWarning: The default value of gamma will change from 'auto' to 'scale' in version 0.22 to account better for unscaled features. Set gamma explicitly to 'auto' or 'scale' to avoid this warning.\n",
      "  \"avoid this warning.\", FutureWarning)\n",
      "/home/jiading/.conda/envs/nn/lib/python3.7/site-packages/sklearn/svm/base.py:193: FutureWarning: The default value of gamma will change from 'auto' to 'scale' in version 0.22 to account better for unscaled features. Set gamma explicitly to 'auto' or 'scale' to avoid this warning.\n",
      "  \"avoid this warning.\", FutureWarning)\n"
     ]
    },
    {
     "name": "stdout",
     "output_type": "stream",
     "text": [
      "score_rbf:0.560000\n",
      "score_linear:0.660000\n",
      "score_poly:0.560000\n",
      "----------------Preprocess--------------------\n",
      "\n",
      "The range of test data is [0,50]:\n",
      "score_rbf:0.803922\n",
      "score_linear:0.705882\n",
      "score_poly:0.803922\n",
      "\n",
      "The range of test data is [50,100]:\n",
      "score_rbf:0.666667\n",
      "score_linear:0.705882\n",
      "score_poly:0.666667\n",
      "\n",
      "The range of test data is [100,150]:\n",
      "score_rbf:0.588235\n",
      "score_linear:0.764706\n",
      "score_poly:0.588235\n",
      "\n",
      "The range of test data is [150,200]:\n",
      "score_rbf:0.588235\n",
      "score_linear:0.666667\n",
      "score_poly:0.588235\n",
      "\n",
      "The range of test data is [200,250]:\n",
      "score_rbf:0.560000\n",
      "score_linear:0.660000\n",
      "score_poly:0.560000\n",
      "---------------Normalize-----------------------\n",
      "\n",
      "The range of test data is [0,50]:\n",
      "score_rbf:0.803922\n",
      "score_linear:0.784314\n",
      "score_poly:0.803922\n",
      "\n",
      "The range of test data is [50,100]:\n",
      "score_rbf:0.666667\n",
      "score_linear:0.745098\n"
     ]
    },
    {
     "name": "stderr",
     "output_type": "stream",
     "text": [
      "/home/jiading/.conda/envs/nn/lib/python3.7/site-packages/sklearn/svm/base.py:193: FutureWarning: The default value of gamma will change from 'auto' to 'scale' in version 0.22 to account better for unscaled features. Set gamma explicitly to 'auto' or 'scale' to avoid this warning.\n",
      "  \"avoid this warning.\", FutureWarning)\n",
      "/home/jiading/.conda/envs/nn/lib/python3.7/site-packages/sklearn/svm/base.py:193: FutureWarning: The default value of gamma will change from 'auto' to 'scale' in version 0.22 to account better for unscaled features. Set gamma explicitly to 'auto' or 'scale' to avoid this warning.\n",
      "  \"avoid this warning.\", FutureWarning)\n",
      "/home/jiading/.conda/envs/nn/lib/python3.7/site-packages/sklearn/svm/base.py:193: FutureWarning: The default value of gamma will change from 'auto' to 'scale' in version 0.22 to account better for unscaled features. Set gamma explicitly to 'auto' or 'scale' to avoid this warning.\n",
      "  \"avoid this warning.\", FutureWarning)\n"
     ]
    },
    {
     "name": "stdout",
     "output_type": "stream",
     "text": [
      "score_poly:0.666667\n",
      "\n",
      "The range of test data is [100,150]:\n",
      "score_rbf:0.588235\n",
      "score_linear:0.666667\n",
      "score_poly:0.588235\n",
      "\n",
      "The range of test data is [150,200]:\n",
      "score_rbf:0.588235\n",
      "score_linear:0.666667\n",
      "score_poly:0.588235\n",
      "\n",
      "The range of test data is [200,250]:\n"
     ]
    },
    {
     "name": "stderr",
     "output_type": "stream",
     "text": [
      "/home/jiading/.conda/envs/nn/lib/python3.7/site-packages/sklearn/svm/base.py:193: FutureWarning: The default value of gamma will change from 'auto' to 'scale' in version 0.22 to account better for unscaled features. Set gamma explicitly to 'auto' or 'scale' to avoid this warning.\n",
      "  \"avoid this warning.\", FutureWarning)\n",
      "/home/jiading/.conda/envs/nn/lib/python3.7/site-packages/sklearn/svm/base.py:193: FutureWarning: The default value of gamma will change from 'auto' to 'scale' in version 0.22 to account better for unscaled features. Set gamma explicitly to 'auto' or 'scale' to avoid this warning.\n",
      "  \"avoid this warning.\", FutureWarning)\n",
      "/home/jiading/.conda/envs/nn/lib/python3.7/site-packages/sklearn/svm/base.py:193: FutureWarning: The default value of gamma will change from 'auto' to 'scale' in version 0.22 to account better for unscaled features. Set gamma explicitly to 'auto' or 'scale' to avoid this warning.\n",
      "  \"avoid this warning.\", FutureWarning)\n"
     ]
    },
    {
     "name": "stdout",
     "output_type": "stream",
     "text": [
      "score_rbf:0.560000\n",
      "score_linear:0.580000\n",
      "score_poly:0.560000\n",
      "---------------Preprocess and Normalize-----------------------\n",
      "\n",
      "The range of test data is [0,50]:\n",
      "score_rbf:0.803922\n",
      "score_linear:0.647059\n",
      "score_poly:0.803922\n",
      "\n",
      "The range of test data is [50,100]:\n",
      "score_rbf:0.666667\n",
      "score_linear:0.647059\n"
     ]
    },
    {
     "name": "stderr",
     "output_type": "stream",
     "text": [
      "/home/jiading/.conda/envs/nn/lib/python3.7/site-packages/sklearn/svm/base.py:193: FutureWarning: The default value of gamma will change from 'auto' to 'scale' in version 0.22 to account better for unscaled features. Set gamma explicitly to 'auto' or 'scale' to avoid this warning.\n",
      "  \"avoid this warning.\", FutureWarning)\n",
      "/home/jiading/.conda/envs/nn/lib/python3.7/site-packages/sklearn/svm/base.py:193: FutureWarning: The default value of gamma will change from 'auto' to 'scale' in version 0.22 to account better for unscaled features. Set gamma explicitly to 'auto' or 'scale' to avoid this warning.\n",
      "  \"avoid this warning.\", FutureWarning)\n",
      "/home/jiading/.conda/envs/nn/lib/python3.7/site-packages/sklearn/svm/base.py:193: FutureWarning: The default value of gamma will change from 'auto' to 'scale' in version 0.22 to account better for unscaled features. Set gamma explicitly to 'auto' or 'scale' to avoid this warning.\n",
      "  \"avoid this warning.\", FutureWarning)\n"
     ]
    },
    {
     "name": "stdout",
     "output_type": "stream",
     "text": [
      "score_poly:0.666667\n",
      "\n",
      "The range of test data is [100,150]:\n",
      "score_rbf:0.588235\n",
      "score_linear:0.725490\n",
      "score_poly:0.588235\n",
      "\n",
      "The range of test data is [150,200]:\n",
      "score_rbf:0.588235\n",
      "score_linear:0.627451\n",
      "score_poly:0.588235\n",
      "\n",
      "The range of test data is [200,250]:\n",
      "score_rbf:0.560000\n",
      "score_linear:0.700000\n",
      "score_poly:0.560000\n",
      "############Gamma now is 8###############\n",
      "--------Without Normalize or preprocess-------\n",
      "\n",
      "The range of test data is [0,50]:\n",
      "score_rbf:0.803922\n",
      "score_linear:0.725490\n",
      "score_poly:0.803922\n",
      "\n",
      "The range of test data is [50,100]:\n",
      "score_rbf:0.666667\n",
      "score_linear:0.686275\n"
     ]
    },
    {
     "name": "stderr",
     "output_type": "stream",
     "text": [
      "/home/jiading/.conda/envs/nn/lib/python3.7/site-packages/sklearn/svm/base.py:193: FutureWarning: The default value of gamma will change from 'auto' to 'scale' in version 0.22 to account better for unscaled features. Set gamma explicitly to 'auto' or 'scale' to avoid this warning.\n",
      "  \"avoid this warning.\", FutureWarning)\n",
      "/home/jiading/.conda/envs/nn/lib/python3.7/site-packages/sklearn/svm/base.py:193: FutureWarning: The default value of gamma will change from 'auto' to 'scale' in version 0.22 to account better for unscaled features. Set gamma explicitly to 'auto' or 'scale' to avoid this warning.\n",
      "  \"avoid this warning.\", FutureWarning)\n",
      "/home/jiading/.conda/envs/nn/lib/python3.7/site-packages/sklearn/svm/base.py:193: FutureWarning: The default value of gamma will change from 'auto' to 'scale' in version 0.22 to account better for unscaled features. Set gamma explicitly to 'auto' or 'scale' to avoid this warning.\n",
      "  \"avoid this warning.\", FutureWarning)\n"
     ]
    },
    {
     "name": "stdout",
     "output_type": "stream",
     "text": [
      "score_poly:0.666667\n",
      "\n",
      "The range of test data is [100,150]:\n",
      "score_rbf:0.588235\n",
      "score_linear:0.764706\n",
      "score_poly:0.588235\n",
      "\n",
      "The range of test data is [150,200]:\n",
      "score_rbf:0.588235\n",
      "score_linear:0.666667\n",
      "score_poly:0.588235\n",
      "\n",
      "The range of test data is [200,250]:\n"
     ]
    },
    {
     "name": "stderr",
     "output_type": "stream",
     "text": [
      "/home/jiading/.conda/envs/nn/lib/python3.7/site-packages/sklearn/svm/base.py:193: FutureWarning: The default value of gamma will change from 'auto' to 'scale' in version 0.22 to account better for unscaled features. Set gamma explicitly to 'auto' or 'scale' to avoid this warning.\n",
      "  \"avoid this warning.\", FutureWarning)\n",
      "/home/jiading/.conda/envs/nn/lib/python3.7/site-packages/sklearn/svm/base.py:193: FutureWarning: The default value of gamma will change from 'auto' to 'scale' in version 0.22 to account better for unscaled features. Set gamma explicitly to 'auto' or 'scale' to avoid this warning.\n",
      "  \"avoid this warning.\", FutureWarning)\n",
      "/home/jiading/.conda/envs/nn/lib/python3.7/site-packages/sklearn/svm/base.py:193: FutureWarning: The default value of gamma will change from 'auto' to 'scale' in version 0.22 to account better for unscaled features. Set gamma explicitly to 'auto' or 'scale' to avoid this warning.\n",
      "  \"avoid this warning.\", FutureWarning)\n"
     ]
    },
    {
     "name": "stdout",
     "output_type": "stream",
     "text": [
      "score_rbf:0.560000\n",
      "score_linear:0.660000\n",
      "score_poly:0.560000\n",
      "----------------Preprocess--------------------\n",
      "\n",
      "The range of test data is [0,50]:\n",
      "score_rbf:0.803922\n",
      "score_linear:0.705882\n",
      "score_poly:0.803922\n",
      "\n",
      "The range of test data is [50,100]:\n",
      "score_rbf:0.666667\n",
      "score_linear:0.705882\n",
      "score_poly:0.666667\n",
      "\n",
      "The range of test data is [100,150]:\n",
      "score_rbf:0.588235\n",
      "score_linear:0.764706\n",
      "score_poly:0.588235\n",
      "\n",
      "The range of test data is [150,200]:\n",
      "score_rbf:0.588235\n",
      "score_linear:0.666667\n",
      "score_poly:0.588235\n",
      "\n",
      "The range of test data is [200,250]:\n",
      "score_rbf:0.560000\n",
      "score_linear:0.660000\n",
      "score_poly:0.560000\n",
      "---------------Normalize-----------------------\n",
      "\n",
      "The range of test data is [0,50]:\n",
      "score_rbf:0.803922\n",
      "score_linear:0.784314\n",
      "score_poly:0.803922\n",
      "\n",
      "The range of test data is [50,100]:\n",
      "score_rbf:0.666667\n",
      "score_linear:0.745098\n"
     ]
    },
    {
     "name": "stderr",
     "output_type": "stream",
     "text": [
      "/home/jiading/.conda/envs/nn/lib/python3.7/site-packages/sklearn/svm/base.py:193: FutureWarning: The default value of gamma will change from 'auto' to 'scale' in version 0.22 to account better for unscaled features. Set gamma explicitly to 'auto' or 'scale' to avoid this warning.\n",
      "  \"avoid this warning.\", FutureWarning)\n",
      "/home/jiading/.conda/envs/nn/lib/python3.7/site-packages/sklearn/svm/base.py:193: FutureWarning: The default value of gamma will change from 'auto' to 'scale' in version 0.22 to account better for unscaled features. Set gamma explicitly to 'auto' or 'scale' to avoid this warning.\n",
      "  \"avoid this warning.\", FutureWarning)\n",
      "/home/jiading/.conda/envs/nn/lib/python3.7/site-packages/sklearn/svm/base.py:193: FutureWarning: The default value of gamma will change from 'auto' to 'scale' in version 0.22 to account better for unscaled features. Set gamma explicitly to 'auto' or 'scale' to avoid this warning.\n",
      "  \"avoid this warning.\", FutureWarning)\n"
     ]
    },
    {
     "name": "stdout",
     "output_type": "stream",
     "text": [
      "score_poly:0.666667\n",
      "\n",
      "The range of test data is [100,150]:\n",
      "score_rbf:0.588235\n",
      "score_linear:0.666667\n",
      "score_poly:0.588235\n",
      "\n",
      "The range of test data is [150,200]:\n",
      "score_rbf:0.588235\n",
      "score_linear:0.666667\n",
      "score_poly:0.588235\n",
      "\n",
      "The range of test data is [200,250]:\n",
      "score_rbf:0.560000\n"
     ]
    },
    {
     "name": "stderr",
     "output_type": "stream",
     "text": [
      "/home/jiading/.conda/envs/nn/lib/python3.7/site-packages/sklearn/svm/base.py:193: FutureWarning: The default value of gamma will change from 'auto' to 'scale' in version 0.22 to account better for unscaled features. Set gamma explicitly to 'auto' or 'scale' to avoid this warning.\n",
      "  \"avoid this warning.\", FutureWarning)\n",
      "/home/jiading/.conda/envs/nn/lib/python3.7/site-packages/sklearn/svm/base.py:193: FutureWarning: The default value of gamma will change from 'auto' to 'scale' in version 0.22 to account better for unscaled features. Set gamma explicitly to 'auto' or 'scale' to avoid this warning.\n",
      "  \"avoid this warning.\", FutureWarning)\n",
      "/home/jiading/.conda/envs/nn/lib/python3.7/site-packages/sklearn/svm/base.py:193: FutureWarning: The default value of gamma will change from 'auto' to 'scale' in version 0.22 to account better for unscaled features. Set gamma explicitly to 'auto' or 'scale' to avoid this warning.\n",
      "  \"avoid this warning.\", FutureWarning)\n"
     ]
    },
    {
     "name": "stdout",
     "output_type": "stream",
     "text": [
      "score_linear:0.580000\n",
      "score_poly:0.560000\n",
      "---------------Preprocess and Normalize-----------------------\n",
      "\n",
      "The range of test data is [0,50]:\n",
      "score_rbf:0.803922\n",
      "score_linear:0.647059\n",
      "score_poly:0.803922\n",
      "\n",
      "The range of test data is [50,100]:\n",
      "score_rbf:0.666667\n",
      "score_linear:0.647059\n",
      "score_poly:0.666667\n",
      "\n",
      "The range of test data is [100,150]:\n"
     ]
    },
    {
     "name": "stderr",
     "output_type": "stream",
     "text": [
      "/home/jiading/.conda/envs/nn/lib/python3.7/site-packages/sklearn/svm/base.py:193: FutureWarning: The default value of gamma will change from 'auto' to 'scale' in version 0.22 to account better for unscaled features. Set gamma explicitly to 'auto' or 'scale' to avoid this warning.\n",
      "  \"avoid this warning.\", FutureWarning)\n",
      "/home/jiading/.conda/envs/nn/lib/python3.7/site-packages/sklearn/svm/base.py:193: FutureWarning: The default value of gamma will change from 'auto' to 'scale' in version 0.22 to account better for unscaled features. Set gamma explicitly to 'auto' or 'scale' to avoid this warning.\n",
      "  \"avoid this warning.\", FutureWarning)\n",
      "/home/jiading/.conda/envs/nn/lib/python3.7/site-packages/sklearn/svm/base.py:193: FutureWarning: The default value of gamma will change from 'auto' to 'scale' in version 0.22 to account better for unscaled features. Set gamma explicitly to 'auto' or 'scale' to avoid this warning.\n",
      "  \"avoid this warning.\", FutureWarning)\n"
     ]
    },
    {
     "name": "stdout",
     "output_type": "stream",
     "text": [
      "score_rbf:0.588235\n",
      "score_linear:0.725490\n",
      "score_poly:0.588235\n",
      "\n",
      "The range of test data is [150,200]:\n",
      "score_rbf:0.588235\n",
      "score_linear:0.627451\n",
      "score_poly:0.588235\n",
      "\n",
      "The range of test data is [200,250]:\n",
      "score_rbf:0.560000\n",
      "score_linear:0.700000\n",
      "score_poly:0.560000\n",
      "############Gamma now is 9###############\n",
      "--------Without Normalize or preprocess-------\n",
      "\n",
      "The range of test data is [0,50]:\n"
     ]
    },
    {
     "name": "stderr",
     "output_type": "stream",
     "text": [
      "/home/jiading/.conda/envs/nn/lib/python3.7/site-packages/sklearn/svm/base.py:193: FutureWarning: The default value of gamma will change from 'auto' to 'scale' in version 0.22 to account better for unscaled features. Set gamma explicitly to 'auto' or 'scale' to avoid this warning.\n",
      "  \"avoid this warning.\", FutureWarning)\n",
      "/home/jiading/.conda/envs/nn/lib/python3.7/site-packages/sklearn/svm/base.py:193: FutureWarning: The default value of gamma will change from 'auto' to 'scale' in version 0.22 to account better for unscaled features. Set gamma explicitly to 'auto' or 'scale' to avoid this warning.\n",
      "  \"avoid this warning.\", FutureWarning)\n",
      "/home/jiading/.conda/envs/nn/lib/python3.7/site-packages/sklearn/svm/base.py:193: FutureWarning: The default value of gamma will change from 'auto' to 'scale' in version 0.22 to account better for unscaled features. Set gamma explicitly to 'auto' or 'scale' to avoid this warning.\n",
      "  \"avoid this warning.\", FutureWarning)\n"
     ]
    },
    {
     "name": "stdout",
     "output_type": "stream",
     "text": [
      "score_rbf:0.803922\n",
      "score_linear:0.725490\n",
      "score_poly:0.803922\n",
      "\n",
      "The range of test data is [50,100]:\n",
      "score_rbf:0.666667\n",
      "score_linear:0.686275\n",
      "score_poly:0.666667\n",
      "\n",
      "The range of test data is [100,150]:\n",
      "score_rbf:0.588235\n",
      "score_linear:0.764706\n"
     ]
    },
    {
     "name": "stderr",
     "output_type": "stream",
     "text": [
      "/home/jiading/.conda/envs/nn/lib/python3.7/site-packages/sklearn/svm/base.py:193: FutureWarning: The default value of gamma will change from 'auto' to 'scale' in version 0.22 to account better for unscaled features. Set gamma explicitly to 'auto' or 'scale' to avoid this warning.\n",
      "  \"avoid this warning.\", FutureWarning)\n",
      "/home/jiading/.conda/envs/nn/lib/python3.7/site-packages/sklearn/svm/base.py:193: FutureWarning: The default value of gamma will change from 'auto' to 'scale' in version 0.22 to account better for unscaled features. Set gamma explicitly to 'auto' or 'scale' to avoid this warning.\n",
      "  \"avoid this warning.\", FutureWarning)\n",
      "/home/jiading/.conda/envs/nn/lib/python3.7/site-packages/sklearn/svm/base.py:193: FutureWarning: The default value of gamma will change from 'auto' to 'scale' in version 0.22 to account better for unscaled features. Set gamma explicitly to 'auto' or 'scale' to avoid this warning.\n",
      "  \"avoid this warning.\", FutureWarning)\n"
     ]
    },
    {
     "name": "stdout",
     "output_type": "stream",
     "text": [
      "score_poly:0.588235\n",
      "\n",
      "The range of test data is [150,200]:\n",
      "score_rbf:0.588235\n",
      "score_linear:0.666667\n",
      "score_poly:0.588235\n",
      "\n",
      "The range of test data is [200,250]:\n",
      "score_rbf:0.560000\n",
      "score_linear:0.660000\n",
      "score_poly:0.560000\n",
      "----------------Preprocess--------------------\n",
      "\n",
      "The range of test data is [0,50]:\n",
      "score_rbf:0.803922\n",
      "score_linear:0.705882\n",
      "score_poly:0.803922\n",
      "\n",
      "The range of test data is [50,100]:\n",
      "score_rbf:0.666667\n",
      "score_linear:0.705882\n",
      "score_poly:0.666667\n",
      "\n",
      "The range of test data is [100,150]:\n",
      "score_rbf:0.588235\n",
      "score_linear:0.764706\n",
      "score_poly:0.588235\n",
      "\n",
      "The range of test data is [150,200]:\n",
      "score_rbf:0.588235\n",
      "score_linear:0.666667\n",
      "score_poly:0.588235\n",
      "\n",
      "The range of test data is [200,250]:\n",
      "score_rbf:0.560000\n",
      "score_linear:0.660000\n",
      "score_poly:0.560000\n",
      "---------------Normalize-----------------------\n",
      "\n",
      "The range of test data is [0,50]:\n",
      "score_rbf:0.803922\n",
      "score_linear:0.784314\n",
      "score_poly:0.803922\n",
      "\n",
      "The range of test data is [50,100]:\n",
      "score_rbf:0.666667\n",
      "score_linear:0.745098\n",
      "score_poly:0.666667\n",
      "\n",
      "The range of test data is [100,150]:\n",
      "score_rbf:0.588235\n",
      "score_linear:0.666667\n",
      "score_poly:0.588235\n",
      "\n",
      "The range of test data is [150,200]:\n"
     ]
    },
    {
     "name": "stderr",
     "output_type": "stream",
     "text": [
      "/home/jiading/.conda/envs/nn/lib/python3.7/site-packages/sklearn/svm/base.py:193: FutureWarning: The default value of gamma will change from 'auto' to 'scale' in version 0.22 to account better for unscaled features. Set gamma explicitly to 'auto' or 'scale' to avoid this warning.\n",
      "  \"avoid this warning.\", FutureWarning)\n",
      "/home/jiading/.conda/envs/nn/lib/python3.7/site-packages/sklearn/svm/base.py:193: FutureWarning: The default value of gamma will change from 'auto' to 'scale' in version 0.22 to account better for unscaled features. Set gamma explicitly to 'auto' or 'scale' to avoid this warning.\n",
      "  \"avoid this warning.\", FutureWarning)\n",
      "/home/jiading/.conda/envs/nn/lib/python3.7/site-packages/sklearn/svm/base.py:193: FutureWarning: The default value of gamma will change from 'auto' to 'scale' in version 0.22 to account better for unscaled features. Set gamma explicitly to 'auto' or 'scale' to avoid this warning.\n",
      "  \"avoid this warning.\", FutureWarning)\n"
     ]
    },
    {
     "name": "stdout",
     "output_type": "stream",
     "text": [
      "score_rbf:0.588235\n",
      "score_linear:0.666667\n",
      "score_poly:0.588235\n",
      "\n",
      "The range of test data is [200,250]:\n",
      "score_rbf:0.560000\n",
      "score_linear:0.580000\n",
      "score_poly:0.560000\n",
      "---------------Preprocess and Normalize-----------------------\n",
      "\n",
      "The range of test data is [0,50]:\n",
      "score_rbf:0.803922\n",
      "score_linear:0.647059\n",
      "score_poly:0.803922\n",
      "\n",
      "The range of test data is [50,100]:\n"
     ]
    },
    {
     "name": "stderr",
     "output_type": "stream",
     "text": [
      "/home/jiading/.conda/envs/nn/lib/python3.7/site-packages/sklearn/svm/base.py:193: FutureWarning: The default value of gamma will change from 'auto' to 'scale' in version 0.22 to account better for unscaled features. Set gamma explicitly to 'auto' or 'scale' to avoid this warning.\n",
      "  \"avoid this warning.\", FutureWarning)\n",
      "/home/jiading/.conda/envs/nn/lib/python3.7/site-packages/sklearn/svm/base.py:193: FutureWarning: The default value of gamma will change from 'auto' to 'scale' in version 0.22 to account better for unscaled features. Set gamma explicitly to 'auto' or 'scale' to avoid this warning.\n",
      "  \"avoid this warning.\", FutureWarning)\n",
      "/home/jiading/.conda/envs/nn/lib/python3.7/site-packages/sklearn/svm/base.py:193: FutureWarning: The default value of gamma will change from 'auto' to 'scale' in version 0.22 to account better for unscaled features. Set gamma explicitly to 'auto' or 'scale' to avoid this warning.\n",
      "  \"avoid this warning.\", FutureWarning)\n"
     ]
    },
    {
     "name": "stdout",
     "output_type": "stream",
     "text": [
      "score_rbf:0.666667\n",
      "score_linear:0.647059\n",
      "score_poly:0.666667\n",
      "\n",
      "The range of test data is [100,150]:\n",
      "score_rbf:0.588235\n",
      "score_linear:0.725490\n",
      "score_poly:0.588235\n",
      "\n",
      "The range of test data is [150,200]:\n",
      "score_rbf:0.588235\n",
      "score_linear:0.627451\n",
      "score_poly:0.588235\n",
      "\n",
      "The range of test data is [200,250]:\n"
     ]
    },
    {
     "name": "stderr",
     "output_type": "stream",
     "text": [
      "/home/jiading/.conda/envs/nn/lib/python3.7/site-packages/sklearn/svm/base.py:193: FutureWarning: The default value of gamma will change from 'auto' to 'scale' in version 0.22 to account better for unscaled features. Set gamma explicitly to 'auto' or 'scale' to avoid this warning.\n",
      "  \"avoid this warning.\", FutureWarning)\n",
      "/home/jiading/.conda/envs/nn/lib/python3.7/site-packages/sklearn/svm/base.py:193: FutureWarning: The default value of gamma will change from 'auto' to 'scale' in version 0.22 to account better for unscaled features. Set gamma explicitly to 'auto' or 'scale' to avoid this warning.\n",
      "  \"avoid this warning.\", FutureWarning)\n",
      "/home/jiading/.conda/envs/nn/lib/python3.7/site-packages/sklearn/svm/base.py:193: FutureWarning: The default value of gamma will change from 'auto' to 'scale' in version 0.22 to account better for unscaled features. Set gamma explicitly to 'auto' or 'scale' to avoid this warning.\n",
      "  \"avoid this warning.\", FutureWarning)\n"
     ]
    },
    {
     "name": "stdout",
     "output_type": "stream",
     "text": [
      "score_rbf:0.560000\n",
      "score_linear:0.700000\n",
      "score_poly:0.560000\n",
      "############Gamma now is 10###############\n",
      "--------Without Normalize or preprocess-------\n",
      "\n",
      "The range of test data is [0,50]:\n",
      "score_rbf:0.803922\n",
      "score_linear:0.725490\n",
      "score_poly:0.803922\n",
      "\n",
      "The range of test data is [50,100]:\n",
      "score_rbf:0.666667\n",
      "score_linear:0.686275\n",
      "score_poly:0.666667\n",
      "\n",
      "The range of test data is [100,150]:\n"
     ]
    },
    {
     "name": "stderr",
     "output_type": "stream",
     "text": [
      "/home/jiading/.conda/envs/nn/lib/python3.7/site-packages/sklearn/svm/base.py:193: FutureWarning: The default value of gamma will change from 'auto' to 'scale' in version 0.22 to account better for unscaled features. Set gamma explicitly to 'auto' or 'scale' to avoid this warning.\n",
      "  \"avoid this warning.\", FutureWarning)\n",
      "/home/jiading/.conda/envs/nn/lib/python3.7/site-packages/sklearn/svm/base.py:193: FutureWarning: The default value of gamma will change from 'auto' to 'scale' in version 0.22 to account better for unscaled features. Set gamma explicitly to 'auto' or 'scale' to avoid this warning.\n",
      "  \"avoid this warning.\", FutureWarning)\n",
      "/home/jiading/.conda/envs/nn/lib/python3.7/site-packages/sklearn/svm/base.py:193: FutureWarning: The default value of gamma will change from 'auto' to 'scale' in version 0.22 to account better for unscaled features. Set gamma explicitly to 'auto' or 'scale' to avoid this warning.\n",
      "  \"avoid this warning.\", FutureWarning)\n"
     ]
    },
    {
     "name": "stdout",
     "output_type": "stream",
     "text": [
      "score_rbf:0.588235\n",
      "score_linear:0.764706\n",
      "score_poly:0.588235\n",
      "\n",
      "The range of test data is [150,200]:\n",
      "score_rbf:0.588235\n",
      "score_linear:0.666667\n",
      "score_poly:0.588235\n",
      "\n",
      "The range of test data is [200,250]:\n",
      "score_rbf:0.560000\n",
      "score_linear:0.660000\n"
     ]
    },
    {
     "name": "stderr",
     "output_type": "stream",
     "text": [
      "/home/jiading/.conda/envs/nn/lib/python3.7/site-packages/sklearn/svm/base.py:193: FutureWarning: The default value of gamma will change from 'auto' to 'scale' in version 0.22 to account better for unscaled features. Set gamma explicitly to 'auto' or 'scale' to avoid this warning.\n",
      "  \"avoid this warning.\", FutureWarning)\n",
      "/home/jiading/.conda/envs/nn/lib/python3.7/site-packages/sklearn/svm/base.py:193: FutureWarning: The default value of gamma will change from 'auto' to 'scale' in version 0.22 to account better for unscaled features. Set gamma explicitly to 'auto' or 'scale' to avoid this warning.\n",
      "  \"avoid this warning.\", FutureWarning)\n",
      "/home/jiading/.conda/envs/nn/lib/python3.7/site-packages/sklearn/svm/base.py:193: FutureWarning: The default value of gamma will change from 'auto' to 'scale' in version 0.22 to account better for unscaled features. Set gamma explicitly to 'auto' or 'scale' to avoid this warning.\n",
      "  \"avoid this warning.\", FutureWarning)\n"
     ]
    },
    {
     "name": "stdout",
     "output_type": "stream",
     "text": [
      "score_poly:0.560000\n",
      "----------------Preprocess--------------------\n",
      "\n",
      "The range of test data is [0,50]:\n",
      "score_rbf:0.803922\n",
      "score_linear:0.705882\n",
      "score_poly:0.803922\n",
      "\n",
      "The range of test data is [50,100]:\n",
      "score_rbf:0.666667\n",
      "score_linear:0.705882\n",
      "score_poly:0.666667\n",
      "\n",
      "The range of test data is [100,150]:\n",
      "score_rbf:0.588235\n",
      "score_linear:0.764706\n",
      "score_poly:0.588235\n",
      "\n",
      "The range of test data is [150,200]:\n",
      "score_rbf:0.588235\n",
      "score_linear:0.666667\n",
      "score_poly:0.588235\n",
      "\n",
      "The range of test data is [200,250]:\n",
      "score_rbf:0.560000\n",
      "score_linear:0.660000\n",
      "score_poly:0.560000\n",
      "---------------Normalize-----------------------\n",
      "\n",
      "The range of test data is [0,50]:\n",
      "score_rbf:0.803922\n",
      "score_linear:0.784314\n",
      "score_poly:0.803922\n",
      "\n",
      "The range of test data is [50,100]:\n",
      "score_rbf:0.666667\n",
      "score_linear:0.745098\n",
      "score_poly:0.666667\n",
      "\n",
      "The range of test data is [100,150]:\n",
      "score_rbf:0.588235\n",
      "score_linear:0.666667\n",
      "score_poly:0.588235\n",
      "\n",
      "The range of test data is [150,200]:\n"
     ]
    },
    {
     "name": "stderr",
     "output_type": "stream",
     "text": [
      "/home/jiading/.conda/envs/nn/lib/python3.7/site-packages/sklearn/svm/base.py:193: FutureWarning: The default value of gamma will change from 'auto' to 'scale' in version 0.22 to account better for unscaled features. Set gamma explicitly to 'auto' or 'scale' to avoid this warning.\n",
      "  \"avoid this warning.\", FutureWarning)\n",
      "/home/jiading/.conda/envs/nn/lib/python3.7/site-packages/sklearn/svm/base.py:193: FutureWarning: The default value of gamma will change from 'auto' to 'scale' in version 0.22 to account better for unscaled features. Set gamma explicitly to 'auto' or 'scale' to avoid this warning.\n",
      "  \"avoid this warning.\", FutureWarning)\n",
      "/home/jiading/.conda/envs/nn/lib/python3.7/site-packages/sklearn/svm/base.py:193: FutureWarning: The default value of gamma will change from 'auto' to 'scale' in version 0.22 to account better for unscaled features. Set gamma explicitly to 'auto' or 'scale' to avoid this warning.\n",
      "  \"avoid this warning.\", FutureWarning)\n"
     ]
    },
    {
     "name": "stdout",
     "output_type": "stream",
     "text": [
      "score_rbf:0.588235\n",
      "score_linear:0.666667\n",
      "score_poly:0.588235\n",
      "\n",
      "The range of test data is [200,250]:\n",
      "score_rbf:0.560000\n",
      "score_linear:0.580000\n",
      "score_poly:0.560000\n",
      "---------------Preprocess and Normalize-----------------------\n",
      "\n",
      "The range of test data is [0,50]:\n",
      "score_rbf:0.803922\n",
      "score_linear:0.647059\n",
      "score_poly:0.803922\n",
      "\n",
      "The range of test data is [50,100]:\n"
     ]
    },
    {
     "name": "stderr",
     "output_type": "stream",
     "text": [
      "/home/jiading/.conda/envs/nn/lib/python3.7/site-packages/sklearn/svm/base.py:193: FutureWarning: The default value of gamma will change from 'auto' to 'scale' in version 0.22 to account better for unscaled features. Set gamma explicitly to 'auto' or 'scale' to avoid this warning.\n",
      "  \"avoid this warning.\", FutureWarning)\n",
      "/home/jiading/.conda/envs/nn/lib/python3.7/site-packages/sklearn/svm/base.py:193: FutureWarning: The default value of gamma will change from 'auto' to 'scale' in version 0.22 to account better for unscaled features. Set gamma explicitly to 'auto' or 'scale' to avoid this warning.\n",
      "  \"avoid this warning.\", FutureWarning)\n",
      "/home/jiading/.conda/envs/nn/lib/python3.7/site-packages/sklearn/svm/base.py:193: FutureWarning: The default value of gamma will change from 'auto' to 'scale' in version 0.22 to account better for unscaled features. Set gamma explicitly to 'auto' or 'scale' to avoid this warning.\n",
      "  \"avoid this warning.\", FutureWarning)\n"
     ]
    },
    {
     "name": "stdout",
     "output_type": "stream",
     "text": [
      "score_rbf:0.666667\n",
      "score_linear:0.647059\n",
      "score_poly:0.666667\n",
      "\n",
      "The range of test data is [100,150]:\n",
      "score_rbf:0.588235\n",
      "score_linear:0.725490\n",
      "score_poly:0.588235\n",
      "\n",
      "The range of test data is [150,200]:\n",
      "score_rbf:0.588235\n",
      "score_linear:0.627451\n",
      "score_poly:0.588235\n",
      "\n",
      "The range of test data is [200,250]:\n"
     ]
    },
    {
     "name": "stderr",
     "output_type": "stream",
     "text": [
      "/home/jiading/.conda/envs/nn/lib/python3.7/site-packages/sklearn/svm/base.py:193: FutureWarning: The default value of gamma will change from 'auto' to 'scale' in version 0.22 to account better for unscaled features. Set gamma explicitly to 'auto' or 'scale' to avoid this warning.\n",
      "  \"avoid this warning.\", FutureWarning)\n",
      "/home/jiading/.conda/envs/nn/lib/python3.7/site-packages/sklearn/svm/base.py:193: FutureWarning: The default value of gamma will change from 'auto' to 'scale' in version 0.22 to account better for unscaled features. Set gamma explicitly to 'auto' or 'scale' to avoid this warning.\n",
      "  \"avoid this warning.\", FutureWarning)\n",
      "/home/jiading/.conda/envs/nn/lib/python3.7/site-packages/sklearn/svm/base.py:193: FutureWarning: The default value of gamma will change from 'auto' to 'scale' in version 0.22 to account better for unscaled features. Set gamma explicitly to 'auto' or 'scale' to avoid this warning.\n",
      "  \"avoid this warning.\", FutureWarning)\n"
     ]
    },
    {
     "name": "stdout",
     "output_type": "stream",
     "text": [
      "score_rbf:0.560000\n",
      "score_linear:0.700000\n",
      "score_poly:0.560000\n",
      "############Gamma now is 11###############\n",
      "--------Without Normalize or preprocess-------\n",
      "\n",
      "The range of test data is [0,50]:\n",
      "score_rbf:0.803922\n",
      "score_linear:0.725490\n",
      "score_poly:0.803922\n",
      "\n",
      "The range of test data is [50,100]:\n",
      "score_rbf:0.666667\n",
      "score_linear:0.686275\n",
      "score_poly:0.666667\n",
      "\n",
      "The range of test data is [100,150]:\n"
     ]
    },
    {
     "name": "stderr",
     "output_type": "stream",
     "text": [
      "/home/jiading/.conda/envs/nn/lib/python3.7/site-packages/sklearn/svm/base.py:193: FutureWarning: The default value of gamma will change from 'auto' to 'scale' in version 0.22 to account better for unscaled features. Set gamma explicitly to 'auto' or 'scale' to avoid this warning.\n",
      "  \"avoid this warning.\", FutureWarning)\n",
      "/home/jiading/.conda/envs/nn/lib/python3.7/site-packages/sklearn/svm/base.py:193: FutureWarning: The default value of gamma will change from 'auto' to 'scale' in version 0.22 to account better for unscaled features. Set gamma explicitly to 'auto' or 'scale' to avoid this warning.\n",
      "  \"avoid this warning.\", FutureWarning)\n",
      "/home/jiading/.conda/envs/nn/lib/python3.7/site-packages/sklearn/svm/base.py:193: FutureWarning: The default value of gamma will change from 'auto' to 'scale' in version 0.22 to account better for unscaled features. Set gamma explicitly to 'auto' or 'scale' to avoid this warning.\n",
      "  \"avoid this warning.\", FutureWarning)\n"
     ]
    },
    {
     "name": "stdout",
     "output_type": "stream",
     "text": [
      "score_rbf:0.588235\n",
      "score_linear:0.764706\n",
      "score_poly:0.588235\n",
      "\n",
      "The range of test data is [150,200]:\n",
      "score_rbf:0.588235\n",
      "score_linear:0.666667\n",
      "score_poly:0.588235\n",
      "\n",
      "The range of test data is [200,250]:\n",
      "score_rbf:0.560000\n",
      "score_linear:0.660000\n"
     ]
    },
    {
     "name": "stderr",
     "output_type": "stream",
     "text": [
      "/home/jiading/.conda/envs/nn/lib/python3.7/site-packages/sklearn/svm/base.py:193: FutureWarning: The default value of gamma will change from 'auto' to 'scale' in version 0.22 to account better for unscaled features. Set gamma explicitly to 'auto' or 'scale' to avoid this warning.\n",
      "  \"avoid this warning.\", FutureWarning)\n",
      "/home/jiading/.conda/envs/nn/lib/python3.7/site-packages/sklearn/svm/base.py:193: FutureWarning: The default value of gamma will change from 'auto' to 'scale' in version 0.22 to account better for unscaled features. Set gamma explicitly to 'auto' or 'scale' to avoid this warning.\n",
      "  \"avoid this warning.\", FutureWarning)\n",
      "/home/jiading/.conda/envs/nn/lib/python3.7/site-packages/sklearn/svm/base.py:193: FutureWarning: The default value of gamma will change from 'auto' to 'scale' in version 0.22 to account better for unscaled features. Set gamma explicitly to 'auto' or 'scale' to avoid this warning.\n",
      "  \"avoid this warning.\", FutureWarning)\n"
     ]
    },
    {
     "name": "stdout",
     "output_type": "stream",
     "text": [
      "score_poly:0.560000\n",
      "----------------Preprocess--------------------\n",
      "\n",
      "The range of test data is [0,50]:\n",
      "score_rbf:0.803922\n",
      "score_linear:0.705882\n",
      "score_poly:0.803922\n",
      "\n",
      "The range of test data is [50,100]:\n",
      "score_rbf:0.666667\n",
      "score_linear:0.705882\n",
      "score_poly:0.666667\n",
      "\n",
      "The range of test data is [100,150]:\n",
      "score_rbf:0.588235\n",
      "score_linear:0.764706\n",
      "score_poly:0.588235\n",
      "\n",
      "The range of test data is [150,200]:\n",
      "score_rbf:0.588235\n",
      "score_linear:0.666667\n",
      "score_poly:0.588235\n",
      "\n",
      "The range of test data is [200,250]:\n",
      "score_rbf:0.560000\n",
      "score_linear:0.660000\n",
      "score_poly:0.560000\n",
      "---------------Normalize-----------------------\n",
      "\n",
      "The range of test data is [0,50]:\n",
      "score_rbf:0.803922\n",
      "score_linear:0.784314\n",
      "score_poly:0.803922\n",
      "\n",
      "The range of test data is [50,100]:\n",
      "score_rbf:0.666667\n",
      "score_linear:0.745098\n",
      "score_poly:0.666667\n",
      "\n",
      "The range of test data is [100,150]:\n",
      "score_rbf:0.588235\n"
     ]
    },
    {
     "name": "stderr",
     "output_type": "stream",
     "text": [
      "/home/jiading/.conda/envs/nn/lib/python3.7/site-packages/sklearn/svm/base.py:193: FutureWarning: The default value of gamma will change from 'auto' to 'scale' in version 0.22 to account better for unscaled features. Set gamma explicitly to 'auto' or 'scale' to avoid this warning.\n",
      "  \"avoid this warning.\", FutureWarning)\n",
      "/home/jiading/.conda/envs/nn/lib/python3.7/site-packages/sklearn/svm/base.py:193: FutureWarning: The default value of gamma will change from 'auto' to 'scale' in version 0.22 to account better for unscaled features. Set gamma explicitly to 'auto' or 'scale' to avoid this warning.\n",
      "  \"avoid this warning.\", FutureWarning)\n",
      "/home/jiading/.conda/envs/nn/lib/python3.7/site-packages/sklearn/svm/base.py:193: FutureWarning: The default value of gamma will change from 'auto' to 'scale' in version 0.22 to account better for unscaled features. Set gamma explicitly to 'auto' or 'scale' to avoid this warning.\n",
      "  \"avoid this warning.\", FutureWarning)\n"
     ]
    },
    {
     "name": "stdout",
     "output_type": "stream",
     "text": [
      "score_linear:0.666667\n",
      "score_poly:0.588235\n",
      "\n",
      "The range of test data is [150,200]:\n",
      "score_rbf:0.588235\n",
      "score_linear:0.666667\n",
      "score_poly:0.588235\n",
      "\n",
      "The range of test data is [200,250]:\n",
      "score_rbf:0.560000\n",
      "score_linear:0.580000\n",
      "score_poly:0.560000\n",
      "---------------Preprocess and Normalize-----------------------\n",
      "\n",
      "The range of test data is [0,50]:\n"
     ]
    },
    {
     "name": "stderr",
     "output_type": "stream",
     "text": [
      "/home/jiading/.conda/envs/nn/lib/python3.7/site-packages/sklearn/svm/base.py:193: FutureWarning: The default value of gamma will change from 'auto' to 'scale' in version 0.22 to account better for unscaled features. Set gamma explicitly to 'auto' or 'scale' to avoid this warning.\n",
      "  \"avoid this warning.\", FutureWarning)\n",
      "/home/jiading/.conda/envs/nn/lib/python3.7/site-packages/sklearn/svm/base.py:193: FutureWarning: The default value of gamma will change from 'auto' to 'scale' in version 0.22 to account better for unscaled features. Set gamma explicitly to 'auto' or 'scale' to avoid this warning.\n",
      "  \"avoid this warning.\", FutureWarning)\n",
      "/home/jiading/.conda/envs/nn/lib/python3.7/site-packages/sklearn/svm/base.py:193: FutureWarning: The default value of gamma will change from 'auto' to 'scale' in version 0.22 to account better for unscaled features. Set gamma explicitly to 'auto' or 'scale' to avoid this warning.\n",
      "  \"avoid this warning.\", FutureWarning)\n"
     ]
    },
    {
     "name": "stdout",
     "output_type": "stream",
     "text": [
      "score_rbf:0.803922\n",
      "score_linear:0.647059\n",
      "score_poly:0.803922\n",
      "\n",
      "The range of test data is [50,100]:\n",
      "score_rbf:0.666667\n",
      "score_linear:0.647059\n",
      "score_poly:0.666667\n",
      "\n",
      "The range of test data is [100,150]:\n",
      "score_rbf:0.588235\n",
      "score_linear:0.725490\n",
      "score_poly:0.588235\n",
      "\n",
      "The range of test data is [150,200]:\n"
     ]
    },
    {
     "name": "stderr",
     "output_type": "stream",
     "text": [
      "/home/jiading/.conda/envs/nn/lib/python3.7/site-packages/sklearn/svm/base.py:193: FutureWarning: The default value of gamma will change from 'auto' to 'scale' in version 0.22 to account better for unscaled features. Set gamma explicitly to 'auto' or 'scale' to avoid this warning.\n",
      "  \"avoid this warning.\", FutureWarning)\n",
      "/home/jiading/.conda/envs/nn/lib/python3.7/site-packages/sklearn/svm/base.py:193: FutureWarning: The default value of gamma will change from 'auto' to 'scale' in version 0.22 to account better for unscaled features. Set gamma explicitly to 'auto' or 'scale' to avoid this warning.\n",
      "  \"avoid this warning.\", FutureWarning)\n",
      "/home/jiading/.conda/envs/nn/lib/python3.7/site-packages/sklearn/svm/base.py:193: FutureWarning: The default value of gamma will change from 'auto' to 'scale' in version 0.22 to account better for unscaled features. Set gamma explicitly to 'auto' or 'scale' to avoid this warning.\n",
      "  \"avoid this warning.\", FutureWarning)\n"
     ]
    },
    {
     "name": "stdout",
     "output_type": "stream",
     "text": [
      "score_rbf:0.588235\n",
      "score_linear:0.627451\n",
      "score_poly:0.588235\n",
      "\n",
      "The range of test data is [200,250]:\n",
      "score_rbf:0.560000\n",
      "score_linear:0.700000\n",
      "score_poly:0.560000\n",
      "############Gamma now is 12###############\n",
      "--------Without Normalize or preprocess-------\n",
      "\n",
      "The range of test data is [0,50]:\n",
      "score_rbf:0.803922\n",
      "score_linear:0.725490\n",
      "score_poly:0.803922\n",
      "\n",
      "The range of test data is [50,100]:\n"
     ]
    },
    {
     "name": "stderr",
     "output_type": "stream",
     "text": [
      "/home/jiading/.conda/envs/nn/lib/python3.7/site-packages/sklearn/svm/base.py:193: FutureWarning: The default value of gamma will change from 'auto' to 'scale' in version 0.22 to account better for unscaled features. Set gamma explicitly to 'auto' or 'scale' to avoid this warning.\n",
      "  \"avoid this warning.\", FutureWarning)\n",
      "/home/jiading/.conda/envs/nn/lib/python3.7/site-packages/sklearn/svm/base.py:193: FutureWarning: The default value of gamma will change from 'auto' to 'scale' in version 0.22 to account better for unscaled features. Set gamma explicitly to 'auto' or 'scale' to avoid this warning.\n",
      "  \"avoid this warning.\", FutureWarning)\n",
      "/home/jiading/.conda/envs/nn/lib/python3.7/site-packages/sklearn/svm/base.py:193: FutureWarning: The default value of gamma will change from 'auto' to 'scale' in version 0.22 to account better for unscaled features. Set gamma explicitly to 'auto' or 'scale' to avoid this warning.\n",
      "  \"avoid this warning.\", FutureWarning)\n"
     ]
    },
    {
     "name": "stdout",
     "output_type": "stream",
     "text": [
      "score_rbf:0.666667\n",
      "score_linear:0.686275\n",
      "score_poly:0.666667\n",
      "\n",
      "The range of test data is [100,150]:\n",
      "score_rbf:0.588235\n",
      "score_linear:0.764706\n",
      "score_poly:0.588235\n",
      "\n",
      "The range of test data is [150,200]:\n",
      "score_rbf:0.588235\n",
      "score_linear:0.666667\n"
     ]
    },
    {
     "name": "stderr",
     "output_type": "stream",
     "text": [
      "/home/jiading/.conda/envs/nn/lib/python3.7/site-packages/sklearn/svm/base.py:193: FutureWarning: The default value of gamma will change from 'auto' to 'scale' in version 0.22 to account better for unscaled features. Set gamma explicitly to 'auto' or 'scale' to avoid this warning.\n",
      "  \"avoid this warning.\", FutureWarning)\n",
      "/home/jiading/.conda/envs/nn/lib/python3.7/site-packages/sklearn/svm/base.py:193: FutureWarning: The default value of gamma will change from 'auto' to 'scale' in version 0.22 to account better for unscaled features. Set gamma explicitly to 'auto' or 'scale' to avoid this warning.\n",
      "  \"avoid this warning.\", FutureWarning)\n",
      "/home/jiading/.conda/envs/nn/lib/python3.7/site-packages/sklearn/svm/base.py:193: FutureWarning: The default value of gamma will change from 'auto' to 'scale' in version 0.22 to account better for unscaled features. Set gamma explicitly to 'auto' or 'scale' to avoid this warning.\n",
      "  \"avoid this warning.\", FutureWarning)\n"
     ]
    },
    {
     "name": "stdout",
     "output_type": "stream",
     "text": [
      "score_poly:0.588235\n",
      "\n",
      "The range of test data is [200,250]:\n",
      "score_rbf:0.560000\n",
      "score_linear:0.660000\n",
      "score_poly:0.560000\n",
      "----------------Preprocess--------------------\n",
      "\n",
      "The range of test data is [0,50]:\n",
      "score_rbf:0.803922\n",
      "score_linear:0.705882\n",
      "score_poly:0.803922\n",
      "\n",
      "The range of test data is [50,100]:\n",
      "score_rbf:0.666667\n",
      "score_linear:0.705882\n",
      "score_poly:0.666667\n",
      "\n",
      "The range of test data is [100,150]:\n",
      "score_rbf:0.588235\n",
      "score_linear:0.764706\n",
      "score_poly:0.588235\n",
      "\n",
      "The range of test data is [150,200]:\n",
      "score_rbf:0.588235\n",
      "score_linear:0.666667\n",
      "score_poly:0.588235\n",
      "\n",
      "The range of test data is [200,250]:\n",
      "score_rbf:0.560000\n",
      "score_linear:0.660000\n",
      "score_poly:0.560000\n",
      "---------------Normalize-----------------------\n",
      "\n",
      "The range of test data is [0,50]:\n",
      "score_rbf:0.803922\n",
      "score_linear:0.784314\n",
      "score_poly:0.803922\n",
      "\n",
      "The range of test data is [50,100]:\n"
     ]
    },
    {
     "name": "stderr",
     "output_type": "stream",
     "text": [
      "/home/jiading/.conda/envs/nn/lib/python3.7/site-packages/sklearn/svm/base.py:193: FutureWarning: The default value of gamma will change from 'auto' to 'scale' in version 0.22 to account better for unscaled features. Set gamma explicitly to 'auto' or 'scale' to avoid this warning.\n",
      "  \"avoid this warning.\", FutureWarning)\n",
      "/home/jiading/.conda/envs/nn/lib/python3.7/site-packages/sklearn/svm/base.py:193: FutureWarning: The default value of gamma will change from 'auto' to 'scale' in version 0.22 to account better for unscaled features. Set gamma explicitly to 'auto' or 'scale' to avoid this warning.\n",
      "  \"avoid this warning.\", FutureWarning)\n",
      "/home/jiading/.conda/envs/nn/lib/python3.7/site-packages/sklearn/svm/base.py:193: FutureWarning: The default value of gamma will change from 'auto' to 'scale' in version 0.22 to account better for unscaled features. Set gamma explicitly to 'auto' or 'scale' to avoid this warning.\n",
      "  \"avoid this warning.\", FutureWarning)\n"
     ]
    },
    {
     "name": "stdout",
     "output_type": "stream",
     "text": [
      "score_rbf:0.666667\n",
      "score_linear:0.745098\n",
      "score_poly:0.666667\n",
      "\n",
      "The range of test data is [100,150]:\n",
      "score_rbf:0.588235\n",
      "score_linear:0.666667\n",
      "score_poly:0.588235\n",
      "\n",
      "The range of test data is [150,200]:\n",
      "score_rbf:0.588235\n",
      "score_linear:0.666667\n",
      "score_poly:0.588235\n",
      "\n",
      "The range of test data is [200,250]:\n"
     ]
    },
    {
     "name": "stderr",
     "output_type": "stream",
     "text": [
      "/home/jiading/.conda/envs/nn/lib/python3.7/site-packages/sklearn/svm/base.py:193: FutureWarning: The default value of gamma will change from 'auto' to 'scale' in version 0.22 to account better for unscaled features. Set gamma explicitly to 'auto' or 'scale' to avoid this warning.\n",
      "  \"avoid this warning.\", FutureWarning)\n",
      "/home/jiading/.conda/envs/nn/lib/python3.7/site-packages/sklearn/svm/base.py:193: FutureWarning: The default value of gamma will change from 'auto' to 'scale' in version 0.22 to account better for unscaled features. Set gamma explicitly to 'auto' or 'scale' to avoid this warning.\n",
      "  \"avoid this warning.\", FutureWarning)\n",
      "/home/jiading/.conda/envs/nn/lib/python3.7/site-packages/sklearn/svm/base.py:193: FutureWarning: The default value of gamma will change from 'auto' to 'scale' in version 0.22 to account better for unscaled features. Set gamma explicitly to 'auto' or 'scale' to avoid this warning.\n",
      "  \"avoid this warning.\", FutureWarning)\n"
     ]
    },
    {
     "name": "stdout",
     "output_type": "stream",
     "text": [
      "score_rbf:0.560000\n",
      "score_linear:0.580000\n",
      "score_poly:0.560000\n",
      "---------------Preprocess and Normalize-----------------------\n",
      "\n",
      "The range of test data is [0,50]:\n",
      "score_rbf:0.803922\n",
      "score_linear:0.647059\n",
      "score_poly:0.803922\n",
      "\n",
      "The range of test data is [50,100]:\n",
      "score_rbf:0.666667\n",
      "score_linear:0.647059\n",
      "score_poly:0.666667\n",
      "\n",
      "The range of test data is [100,150]:\n"
     ]
    },
    {
     "name": "stderr",
     "output_type": "stream",
     "text": [
      "/home/jiading/.conda/envs/nn/lib/python3.7/site-packages/sklearn/svm/base.py:193: FutureWarning: The default value of gamma will change from 'auto' to 'scale' in version 0.22 to account better for unscaled features. Set gamma explicitly to 'auto' or 'scale' to avoid this warning.\n",
      "  \"avoid this warning.\", FutureWarning)\n",
      "/home/jiading/.conda/envs/nn/lib/python3.7/site-packages/sklearn/svm/base.py:193: FutureWarning: The default value of gamma will change from 'auto' to 'scale' in version 0.22 to account better for unscaled features. Set gamma explicitly to 'auto' or 'scale' to avoid this warning.\n",
      "  \"avoid this warning.\", FutureWarning)\n",
      "/home/jiading/.conda/envs/nn/lib/python3.7/site-packages/sklearn/svm/base.py:193: FutureWarning: The default value of gamma will change from 'auto' to 'scale' in version 0.22 to account better for unscaled features. Set gamma explicitly to 'auto' or 'scale' to avoid this warning.\n",
      "  \"avoid this warning.\", FutureWarning)\n"
     ]
    },
    {
     "name": "stdout",
     "output_type": "stream",
     "text": [
      "score_rbf:0.588235\n",
      "score_linear:0.725490\n",
      "score_poly:0.588235\n",
      "\n",
      "The range of test data is [150,200]:\n",
      "score_rbf:0.588235\n",
      "score_linear:0.627451\n",
      "score_poly:0.588235\n",
      "\n",
      "The range of test data is [200,250]:\n",
      "score_rbf:0.560000\n",
      "score_linear:0.700000\n",
      "score_poly:0.560000\n",
      "############Gamma now is 13###############\n",
      "--------Without Normalize or preprocess-------\n",
      "\n",
      "The range of test data is [0,50]:\n"
     ]
    },
    {
     "name": "stderr",
     "output_type": "stream",
     "text": [
      "/home/jiading/.conda/envs/nn/lib/python3.7/site-packages/sklearn/svm/base.py:193: FutureWarning: The default value of gamma will change from 'auto' to 'scale' in version 0.22 to account better for unscaled features. Set gamma explicitly to 'auto' or 'scale' to avoid this warning.\n",
      "  \"avoid this warning.\", FutureWarning)\n",
      "/home/jiading/.conda/envs/nn/lib/python3.7/site-packages/sklearn/svm/base.py:193: FutureWarning: The default value of gamma will change from 'auto' to 'scale' in version 0.22 to account better for unscaled features. Set gamma explicitly to 'auto' or 'scale' to avoid this warning.\n",
      "  \"avoid this warning.\", FutureWarning)\n",
      "/home/jiading/.conda/envs/nn/lib/python3.7/site-packages/sklearn/svm/base.py:193: FutureWarning: The default value of gamma will change from 'auto' to 'scale' in version 0.22 to account better for unscaled features. Set gamma explicitly to 'auto' or 'scale' to avoid this warning.\n",
      "  \"avoid this warning.\", FutureWarning)\n"
     ]
    },
    {
     "name": "stdout",
     "output_type": "stream",
     "text": [
      "score_rbf:0.803922\n",
      "score_linear:0.725490\n",
      "score_poly:0.803922\n",
      "\n",
      "The range of test data is [50,100]:\n",
      "score_rbf:0.666667\n",
      "score_linear:0.686275\n",
      "score_poly:0.666667\n",
      "\n",
      "The range of test data is [100,150]:\n",
      "score_rbf:0.588235\n",
      "score_linear:0.764706\n"
     ]
    },
    {
     "name": "stderr",
     "output_type": "stream",
     "text": [
      "/home/jiading/.conda/envs/nn/lib/python3.7/site-packages/sklearn/svm/base.py:193: FutureWarning: The default value of gamma will change from 'auto' to 'scale' in version 0.22 to account better for unscaled features. Set gamma explicitly to 'auto' or 'scale' to avoid this warning.\n",
      "  \"avoid this warning.\", FutureWarning)\n",
      "/home/jiading/.conda/envs/nn/lib/python3.7/site-packages/sklearn/svm/base.py:193: FutureWarning: The default value of gamma will change from 'auto' to 'scale' in version 0.22 to account better for unscaled features. Set gamma explicitly to 'auto' or 'scale' to avoid this warning.\n",
      "  \"avoid this warning.\", FutureWarning)\n",
      "/home/jiading/.conda/envs/nn/lib/python3.7/site-packages/sklearn/svm/base.py:193: FutureWarning: The default value of gamma will change from 'auto' to 'scale' in version 0.22 to account better for unscaled features. Set gamma explicitly to 'auto' or 'scale' to avoid this warning.\n",
      "  \"avoid this warning.\", FutureWarning)\n"
     ]
    },
    {
     "name": "stdout",
     "output_type": "stream",
     "text": [
      "score_poly:0.588235\n",
      "\n",
      "The range of test data is [150,200]:\n",
      "score_rbf:0.588235\n",
      "score_linear:0.666667\n",
      "score_poly:0.588235\n",
      "\n",
      "The range of test data is [200,250]:\n",
      "score_rbf:0.560000\n",
      "score_linear:0.660000\n",
      "score_poly:0.560000\n",
      "----------------Preprocess--------------------\n",
      "\n",
      "The range of test data is [0,50]:\n",
      "score_rbf:0.803922\n",
      "score_linear:0.705882\n",
      "score_poly:0.803922\n",
      "\n",
      "The range of test data is [50,100]:\n",
      "score_rbf:0.666667\n",
      "score_linear:0.705882\n",
      "score_poly:0.666667\n",
      "\n",
      "The range of test data is [100,150]:\n",
      "score_rbf:0.588235\n",
      "score_linear:0.764706\n",
      "score_poly:0.588235\n",
      "\n",
      "The range of test data is [150,200]:\n",
      "score_rbf:0.588235\n",
      "score_linear:0.666667\n",
      "score_poly:0.588235\n",
      "\n",
      "The range of test data is [200,250]:\n",
      "score_rbf:0.560000\n",
      "score_linear:0.660000\n",
      "score_poly:0.560000\n",
      "---------------Normalize-----------------------\n",
      "\n",
      "The range of test data is [0,50]:\n",
      "score_rbf:0.803922\n",
      "score_linear:0.784314\n",
      "score_poly:0.803922\n",
      "\n",
      "The range of test data is [50,100]:\n",
      "score_rbf:0.666667\n",
      "score_linear:0.745098\n",
      "score_poly:0.666667\n",
      "\n",
      "The range of test data is [100,150]:\n",
      "score_rbf:0.588235\n",
      "score_linear:0.666667\n",
      "score_poly:0.588235\n",
      "\n",
      "The range of test data is [150,200]:\n"
     ]
    },
    {
     "name": "stderr",
     "output_type": "stream",
     "text": [
      "/home/jiading/.conda/envs/nn/lib/python3.7/site-packages/sklearn/svm/base.py:193: FutureWarning: The default value of gamma will change from 'auto' to 'scale' in version 0.22 to account better for unscaled features. Set gamma explicitly to 'auto' or 'scale' to avoid this warning.\n",
      "  \"avoid this warning.\", FutureWarning)\n",
      "/home/jiading/.conda/envs/nn/lib/python3.7/site-packages/sklearn/svm/base.py:193: FutureWarning: The default value of gamma will change from 'auto' to 'scale' in version 0.22 to account better for unscaled features. Set gamma explicitly to 'auto' or 'scale' to avoid this warning.\n",
      "  \"avoid this warning.\", FutureWarning)\n",
      "/home/jiading/.conda/envs/nn/lib/python3.7/site-packages/sklearn/svm/base.py:193: FutureWarning: The default value of gamma will change from 'auto' to 'scale' in version 0.22 to account better for unscaled features. Set gamma explicitly to 'auto' or 'scale' to avoid this warning.\n",
      "  \"avoid this warning.\", FutureWarning)\n"
     ]
    },
    {
     "name": "stdout",
     "output_type": "stream",
     "text": [
      "score_rbf:0.588235\n",
      "score_linear:0.666667\n",
      "score_poly:0.588235\n",
      "\n",
      "The range of test data is [200,250]:\n",
      "score_rbf:0.560000\n",
      "score_linear:0.580000\n",
      "score_poly:0.560000\n",
      "---------------Preprocess and Normalize-----------------------\n",
      "\n",
      "The range of test data is [0,50]:\n",
      "score_rbf:0.803922\n",
      "score_linear:0.647059\n",
      "score_poly:0.803922\n",
      "\n",
      "The range of test data is [50,100]:\n"
     ]
    },
    {
     "name": "stderr",
     "output_type": "stream",
     "text": [
      "/home/jiading/.conda/envs/nn/lib/python3.7/site-packages/sklearn/svm/base.py:193: FutureWarning: The default value of gamma will change from 'auto' to 'scale' in version 0.22 to account better for unscaled features. Set gamma explicitly to 'auto' or 'scale' to avoid this warning.\n",
      "  \"avoid this warning.\", FutureWarning)\n",
      "/home/jiading/.conda/envs/nn/lib/python3.7/site-packages/sklearn/svm/base.py:193: FutureWarning: The default value of gamma will change from 'auto' to 'scale' in version 0.22 to account better for unscaled features. Set gamma explicitly to 'auto' or 'scale' to avoid this warning.\n",
      "  \"avoid this warning.\", FutureWarning)\n",
      "/home/jiading/.conda/envs/nn/lib/python3.7/site-packages/sklearn/svm/base.py:193: FutureWarning: The default value of gamma will change from 'auto' to 'scale' in version 0.22 to account better for unscaled features. Set gamma explicitly to 'auto' or 'scale' to avoid this warning.\n",
      "  \"avoid this warning.\", FutureWarning)\n"
     ]
    },
    {
     "name": "stdout",
     "output_type": "stream",
     "text": [
      "score_rbf:0.666667\n",
      "score_linear:0.647059\n",
      "score_poly:0.666667\n",
      "\n",
      "The range of test data is [100,150]:\n",
      "score_rbf:0.588235\n",
      "score_linear:0.725490\n",
      "score_poly:0.588235\n",
      "\n",
      "The range of test data is [150,200]:\n",
      "score_rbf:0.588235\n",
      "score_linear:0.627451\n",
      "score_poly:0.588235\n",
      "\n",
      "The range of test data is [200,250]:\n"
     ]
    },
    {
     "name": "stderr",
     "output_type": "stream",
     "text": [
      "/home/jiading/.conda/envs/nn/lib/python3.7/site-packages/sklearn/svm/base.py:193: FutureWarning: The default value of gamma will change from 'auto' to 'scale' in version 0.22 to account better for unscaled features. Set gamma explicitly to 'auto' or 'scale' to avoid this warning.\n",
      "  \"avoid this warning.\", FutureWarning)\n",
      "/home/jiading/.conda/envs/nn/lib/python3.7/site-packages/sklearn/svm/base.py:193: FutureWarning: The default value of gamma will change from 'auto' to 'scale' in version 0.22 to account better for unscaled features. Set gamma explicitly to 'auto' or 'scale' to avoid this warning.\n",
      "  \"avoid this warning.\", FutureWarning)\n",
      "/home/jiading/.conda/envs/nn/lib/python3.7/site-packages/sklearn/svm/base.py:193: FutureWarning: The default value of gamma will change from 'auto' to 'scale' in version 0.22 to account better for unscaled features. Set gamma explicitly to 'auto' or 'scale' to avoid this warning.\n",
      "  \"avoid this warning.\", FutureWarning)\n"
     ]
    },
    {
     "name": "stdout",
     "output_type": "stream",
     "text": [
      "score_rbf:0.560000\n",
      "score_linear:0.700000\n",
      "score_poly:0.560000\n",
      "############Gamma now is 14###############\n",
      "--------Without Normalize or preprocess-------\n",
      "\n",
      "The range of test data is [0,50]:\n",
      "score_rbf:0.803922\n",
      "score_linear:0.725490\n",
      "score_poly:0.803922\n",
      "\n",
      "The range of test data is [50,100]:\n",
      "score_rbf:0.666667\n",
      "score_linear:0.686275\n",
      "score_poly:0.666667\n",
      "\n",
      "The range of test data is [100,150]:\n"
     ]
    },
    {
     "name": "stderr",
     "output_type": "stream",
     "text": [
      "/home/jiading/.conda/envs/nn/lib/python3.7/site-packages/sklearn/svm/base.py:193: FutureWarning: The default value of gamma will change from 'auto' to 'scale' in version 0.22 to account better for unscaled features. Set gamma explicitly to 'auto' or 'scale' to avoid this warning.\n",
      "  \"avoid this warning.\", FutureWarning)\n",
      "/home/jiading/.conda/envs/nn/lib/python3.7/site-packages/sklearn/svm/base.py:193: FutureWarning: The default value of gamma will change from 'auto' to 'scale' in version 0.22 to account better for unscaled features. Set gamma explicitly to 'auto' or 'scale' to avoid this warning.\n",
      "  \"avoid this warning.\", FutureWarning)\n",
      "/home/jiading/.conda/envs/nn/lib/python3.7/site-packages/sklearn/svm/base.py:193: FutureWarning: The default value of gamma will change from 'auto' to 'scale' in version 0.22 to account better for unscaled features. Set gamma explicitly to 'auto' or 'scale' to avoid this warning.\n",
      "  \"avoid this warning.\", FutureWarning)\n"
     ]
    },
    {
     "name": "stdout",
     "output_type": "stream",
     "text": [
      "score_rbf:0.588235\n",
      "score_linear:0.764706\n",
      "score_poly:0.588235\n",
      "\n",
      "The range of test data is [150,200]:\n",
      "score_rbf:0.588235\n",
      "score_linear:0.666667\n",
      "score_poly:0.588235\n",
      "\n",
      "The range of test data is [200,250]:\n",
      "score_rbf:0.560000\n",
      "score_linear:0.660000\n"
     ]
    },
    {
     "name": "stderr",
     "output_type": "stream",
     "text": [
      "/home/jiading/.conda/envs/nn/lib/python3.7/site-packages/sklearn/svm/base.py:193: FutureWarning: The default value of gamma will change from 'auto' to 'scale' in version 0.22 to account better for unscaled features. Set gamma explicitly to 'auto' or 'scale' to avoid this warning.\n",
      "  \"avoid this warning.\", FutureWarning)\n",
      "/home/jiading/.conda/envs/nn/lib/python3.7/site-packages/sklearn/svm/base.py:193: FutureWarning: The default value of gamma will change from 'auto' to 'scale' in version 0.22 to account better for unscaled features. Set gamma explicitly to 'auto' or 'scale' to avoid this warning.\n",
      "  \"avoid this warning.\", FutureWarning)\n",
      "/home/jiading/.conda/envs/nn/lib/python3.7/site-packages/sklearn/svm/base.py:193: FutureWarning: The default value of gamma will change from 'auto' to 'scale' in version 0.22 to account better for unscaled features. Set gamma explicitly to 'auto' or 'scale' to avoid this warning.\n",
      "  \"avoid this warning.\", FutureWarning)\n"
     ]
    },
    {
     "name": "stdout",
     "output_type": "stream",
     "text": [
      "score_poly:0.560000\n",
      "----------------Preprocess--------------------\n",
      "\n",
      "The range of test data is [0,50]:\n",
      "score_rbf:0.803922\n",
      "score_linear:0.705882\n",
      "score_poly:0.803922\n",
      "\n",
      "The range of test data is [50,100]:\n",
      "score_rbf:0.666667\n",
      "score_linear:0.705882\n",
      "score_poly:0.666667\n",
      "\n",
      "The range of test data is [100,150]:\n",
      "score_rbf:0.588235\n",
      "score_linear:0.764706\n",
      "score_poly:0.588235\n",
      "\n",
      "The range of test data is [150,200]:\n",
      "score_rbf:0.588235\n",
      "score_linear:0.666667\n",
      "score_poly:0.588235\n",
      "\n",
      "The range of test data is [200,250]:\n",
      "score_rbf:0.560000\n",
      "score_linear:0.660000\n",
      "score_poly:0.560000\n",
      "---------------Normalize-----------------------\n",
      "\n",
      "The range of test data is [0,50]:\n",
      "score_rbf:0.803922\n",
      "score_linear:0.784314\n",
      "score_poly:0.803922\n",
      "\n",
      "The range of test data is [50,100]:\n",
      "score_rbf:0.666667\n",
      "score_linear:0.745098\n",
      "score_poly:0.666667\n",
      "\n",
      "The range of test data is [100,150]:\n"
     ]
    },
    {
     "name": "stderr",
     "output_type": "stream",
     "text": [
      "/home/jiading/.conda/envs/nn/lib/python3.7/site-packages/sklearn/svm/base.py:193: FutureWarning: The default value of gamma will change from 'auto' to 'scale' in version 0.22 to account better for unscaled features. Set gamma explicitly to 'auto' or 'scale' to avoid this warning.\n",
      "  \"avoid this warning.\", FutureWarning)\n",
      "/home/jiading/.conda/envs/nn/lib/python3.7/site-packages/sklearn/svm/base.py:193: FutureWarning: The default value of gamma will change from 'auto' to 'scale' in version 0.22 to account better for unscaled features. Set gamma explicitly to 'auto' or 'scale' to avoid this warning.\n",
      "  \"avoid this warning.\", FutureWarning)\n",
      "/home/jiading/.conda/envs/nn/lib/python3.7/site-packages/sklearn/svm/base.py:193: FutureWarning: The default value of gamma will change from 'auto' to 'scale' in version 0.22 to account better for unscaled features. Set gamma explicitly to 'auto' or 'scale' to avoid this warning.\n",
      "  \"avoid this warning.\", FutureWarning)\n"
     ]
    },
    {
     "name": "stdout",
     "output_type": "stream",
     "text": [
      "score_rbf:0.588235\n",
      "score_linear:0.666667\n",
      "score_poly:0.588235\n",
      "\n",
      "The range of test data is [150,200]:\n",
      "score_rbf:0.588235\n",
      "score_linear:0.666667\n",
      "score_poly:0.588235\n",
      "\n",
      "The range of test data is [200,250]:\n",
      "score_rbf:0.560000\n",
      "score_linear:0.580000\n"
     ]
    },
    {
     "name": "stderr",
     "output_type": "stream",
     "text": [
      "/home/jiading/.conda/envs/nn/lib/python3.7/site-packages/sklearn/svm/base.py:193: FutureWarning: The default value of gamma will change from 'auto' to 'scale' in version 0.22 to account better for unscaled features. Set gamma explicitly to 'auto' or 'scale' to avoid this warning.\n",
      "  \"avoid this warning.\", FutureWarning)\n",
      "/home/jiading/.conda/envs/nn/lib/python3.7/site-packages/sklearn/svm/base.py:193: FutureWarning: The default value of gamma will change from 'auto' to 'scale' in version 0.22 to account better for unscaled features. Set gamma explicitly to 'auto' or 'scale' to avoid this warning.\n",
      "  \"avoid this warning.\", FutureWarning)\n",
      "/home/jiading/.conda/envs/nn/lib/python3.7/site-packages/sklearn/svm/base.py:193: FutureWarning: The default value of gamma will change from 'auto' to 'scale' in version 0.22 to account better for unscaled features. Set gamma explicitly to 'auto' or 'scale' to avoid this warning.\n",
      "  \"avoid this warning.\", FutureWarning)\n"
     ]
    },
    {
     "name": "stdout",
     "output_type": "stream",
     "text": [
      "score_poly:0.560000\n",
      "---------------Preprocess and Normalize-----------------------\n",
      "\n",
      "The range of test data is [0,50]:\n",
      "score_rbf:0.803922\n",
      "score_linear:0.647059\n",
      "score_poly:0.803922\n",
      "\n",
      "The range of test data is [50,100]:\n",
      "score_rbf:0.666667\n",
      "score_linear:0.647059\n",
      "score_poly:0.666667\n",
      "\n",
      "The range of test data is [100,150]:\n"
     ]
    },
    {
     "name": "stderr",
     "output_type": "stream",
     "text": [
      "/home/jiading/.conda/envs/nn/lib/python3.7/site-packages/sklearn/svm/base.py:193: FutureWarning: The default value of gamma will change from 'auto' to 'scale' in version 0.22 to account better for unscaled features. Set gamma explicitly to 'auto' or 'scale' to avoid this warning.\n",
      "  \"avoid this warning.\", FutureWarning)\n",
      "/home/jiading/.conda/envs/nn/lib/python3.7/site-packages/sklearn/svm/base.py:193: FutureWarning: The default value of gamma will change from 'auto' to 'scale' in version 0.22 to account better for unscaled features. Set gamma explicitly to 'auto' or 'scale' to avoid this warning.\n",
      "  \"avoid this warning.\", FutureWarning)\n",
      "/home/jiading/.conda/envs/nn/lib/python3.7/site-packages/sklearn/svm/base.py:193: FutureWarning: The default value of gamma will change from 'auto' to 'scale' in version 0.22 to account better for unscaled features. Set gamma explicitly to 'auto' or 'scale' to avoid this warning.\n",
      "  \"avoid this warning.\", FutureWarning)\n"
     ]
    },
    {
     "name": "stdout",
     "output_type": "stream",
     "text": [
      "score_rbf:0.588235\n",
      "score_linear:0.725490\n",
      "score_poly:0.588235\n",
      "\n",
      "The range of test data is [150,200]:\n",
      "score_rbf:0.588235\n",
      "score_linear:0.627451\n",
      "score_poly:0.588235\n",
      "\n",
      "The range of test data is [200,250]:\n",
      "score_rbf:0.560000\n",
      "score_linear:0.700000\n"
     ]
    },
    {
     "name": "stderr",
     "output_type": "stream",
     "text": [
      "/home/jiading/.conda/envs/nn/lib/python3.7/site-packages/sklearn/svm/base.py:193: FutureWarning: The default value of gamma will change from 'auto' to 'scale' in version 0.22 to account better for unscaled features. Set gamma explicitly to 'auto' or 'scale' to avoid this warning.\n",
      "  \"avoid this warning.\", FutureWarning)\n",
      "/home/jiading/.conda/envs/nn/lib/python3.7/site-packages/sklearn/svm/base.py:193: FutureWarning: The default value of gamma will change from 'auto' to 'scale' in version 0.22 to account better for unscaled features. Set gamma explicitly to 'auto' or 'scale' to avoid this warning.\n",
      "  \"avoid this warning.\", FutureWarning)\n",
      "/home/jiading/.conda/envs/nn/lib/python3.7/site-packages/sklearn/svm/base.py:193: FutureWarning: The default value of gamma will change from 'auto' to 'scale' in version 0.22 to account better for unscaled features. Set gamma explicitly to 'auto' or 'scale' to avoid this warning.\n",
      "  \"avoid this warning.\", FutureWarning)\n"
     ]
    },
    {
     "name": "stdout",
     "output_type": "stream",
     "text": [
      "score_poly:0.560000\n",
      "############Gamma now is 15###############\n",
      "--------Without Normalize or preprocess-------\n",
      "\n",
      "The range of test data is [0,50]:\n",
      "score_rbf:0.803922\n",
      "score_linear:0.725490\n",
      "score_poly:0.803922\n",
      "\n",
      "The range of test data is [50,100]:\n",
      "score_rbf:0.666667\n",
      "score_linear:0.686275\n",
      "score_poly:0.666667\n",
      "\n",
      "The range of test data is [100,150]:\n",
      "score_rbf:0.588235\n",
      "score_linear:0.764706\n",
      "score_poly:0.588235\n",
      "\n",
      "The range of test data is [150,200]:\n",
      "score_rbf:0.588235\n",
      "score_linear:0.666667\n",
      "score_poly:0.588235\n",
      "\n",
      "The range of test data is [200,250]:\n",
      "score_rbf:0.560000\n",
      "score_linear:0.660000\n"
     ]
    },
    {
     "name": "stderr",
     "output_type": "stream",
     "text": [
      "/home/jiading/.conda/envs/nn/lib/python3.7/site-packages/sklearn/svm/base.py:193: FutureWarning: The default value of gamma will change from 'auto' to 'scale' in version 0.22 to account better for unscaled features. Set gamma explicitly to 'auto' or 'scale' to avoid this warning.\n",
      "  \"avoid this warning.\", FutureWarning)\n",
      "/home/jiading/.conda/envs/nn/lib/python3.7/site-packages/sklearn/svm/base.py:193: FutureWarning: The default value of gamma will change from 'auto' to 'scale' in version 0.22 to account better for unscaled features. Set gamma explicitly to 'auto' or 'scale' to avoid this warning.\n",
      "  \"avoid this warning.\", FutureWarning)\n",
      "/home/jiading/.conda/envs/nn/lib/python3.7/site-packages/sklearn/svm/base.py:193: FutureWarning: The default value of gamma will change from 'auto' to 'scale' in version 0.22 to account better for unscaled features. Set gamma explicitly to 'auto' or 'scale' to avoid this warning.\n",
      "  \"avoid this warning.\", FutureWarning)\n"
     ]
    },
    {
     "name": "stdout",
     "output_type": "stream",
     "text": [
      "score_poly:0.560000\n",
      "----------------Preprocess--------------------\n",
      "\n",
      "The range of test data is [0,50]:\n",
      "score_rbf:0.803922\n",
      "score_linear:0.705882\n",
      "score_poly:0.803922\n",
      "\n",
      "The range of test data is [50,100]:\n",
      "score_rbf:0.666667\n",
      "score_linear:0.705882\n",
      "score_poly:0.666667\n",
      "\n",
      "The range of test data is [100,150]:\n",
      "score_rbf:0.588235\n",
      "score_linear:0.764706\n",
      "score_poly:0.588235\n",
      "\n",
      "The range of test data is [150,200]:\n",
      "score_rbf:0.588235\n",
      "score_linear:0.666667\n",
      "score_poly:0.588235\n",
      "\n",
      "The range of test data is [200,250]:\n",
      "score_rbf:0.560000\n",
      "score_linear:0.660000\n",
      "score_poly:0.560000\n",
      "---------------Normalize-----------------------\n",
      "\n",
      "The range of test data is [0,50]:\n",
      "score_rbf:0.803922\n",
      "score_linear:0.784314\n",
      "score_poly:0.803922\n",
      "\n",
      "The range of test data is [50,100]:\n",
      "score_rbf:0.666667\n",
      "score_linear:0.745098\n",
      "score_poly:0.666667\n",
      "\n",
      "The range of test data is [100,150]:\n"
     ]
    },
    {
     "name": "stderr",
     "output_type": "stream",
     "text": [
      "/home/jiading/.conda/envs/nn/lib/python3.7/site-packages/sklearn/svm/base.py:193: FutureWarning: The default value of gamma will change from 'auto' to 'scale' in version 0.22 to account better for unscaled features. Set gamma explicitly to 'auto' or 'scale' to avoid this warning.\n",
      "  \"avoid this warning.\", FutureWarning)\n",
      "/home/jiading/.conda/envs/nn/lib/python3.7/site-packages/sklearn/svm/base.py:193: FutureWarning: The default value of gamma will change from 'auto' to 'scale' in version 0.22 to account better for unscaled features. Set gamma explicitly to 'auto' or 'scale' to avoid this warning.\n",
      "  \"avoid this warning.\", FutureWarning)\n",
      "/home/jiading/.conda/envs/nn/lib/python3.7/site-packages/sklearn/svm/base.py:193: FutureWarning: The default value of gamma will change from 'auto' to 'scale' in version 0.22 to account better for unscaled features. Set gamma explicitly to 'auto' or 'scale' to avoid this warning.\n",
      "  \"avoid this warning.\", FutureWarning)\n"
     ]
    },
    {
     "name": "stdout",
     "output_type": "stream",
     "text": [
      "score_rbf:0.588235\n",
      "score_linear:0.666667\n",
      "score_poly:0.588235\n",
      "\n",
      "The range of test data is [150,200]:\n",
      "score_rbf:0.588235\n",
      "score_linear:0.666667\n",
      "score_poly:0.588235\n",
      "\n",
      "The range of test data is [200,250]:\n",
      "score_rbf:0.560000\n",
      "score_linear:0.580000\n"
     ]
    },
    {
     "name": "stderr",
     "output_type": "stream",
     "text": [
      "/home/jiading/.conda/envs/nn/lib/python3.7/site-packages/sklearn/svm/base.py:193: FutureWarning: The default value of gamma will change from 'auto' to 'scale' in version 0.22 to account better for unscaled features. Set gamma explicitly to 'auto' or 'scale' to avoid this warning.\n",
      "  \"avoid this warning.\", FutureWarning)\n",
      "/home/jiading/.conda/envs/nn/lib/python3.7/site-packages/sklearn/svm/base.py:193: FutureWarning: The default value of gamma will change from 'auto' to 'scale' in version 0.22 to account better for unscaled features. Set gamma explicitly to 'auto' or 'scale' to avoid this warning.\n",
      "  \"avoid this warning.\", FutureWarning)\n",
      "/home/jiading/.conda/envs/nn/lib/python3.7/site-packages/sklearn/svm/base.py:193: FutureWarning: The default value of gamma will change from 'auto' to 'scale' in version 0.22 to account better for unscaled features. Set gamma explicitly to 'auto' or 'scale' to avoid this warning.\n",
      "  \"avoid this warning.\", FutureWarning)\n"
     ]
    },
    {
     "name": "stdout",
     "output_type": "stream",
     "text": [
      "score_poly:0.560000\n",
      "---------------Preprocess and Normalize-----------------------\n",
      "\n",
      "The range of test data is [0,50]:\n",
      "score_rbf:0.803922\n",
      "score_linear:0.647059\n",
      "score_poly:0.803922\n",
      "\n",
      "The range of test data is [50,100]:\n",
      "score_rbf:0.666667\n",
      "score_linear:0.647059\n",
      "score_poly:0.666667\n",
      "\n",
      "The range of test data is [100,150]:\n"
     ]
    },
    {
     "name": "stderr",
     "output_type": "stream",
     "text": [
      "/home/jiading/.conda/envs/nn/lib/python3.7/site-packages/sklearn/svm/base.py:193: FutureWarning: The default value of gamma will change from 'auto' to 'scale' in version 0.22 to account better for unscaled features. Set gamma explicitly to 'auto' or 'scale' to avoid this warning.\n",
      "  \"avoid this warning.\", FutureWarning)\n",
      "/home/jiading/.conda/envs/nn/lib/python3.7/site-packages/sklearn/svm/base.py:193: FutureWarning: The default value of gamma will change from 'auto' to 'scale' in version 0.22 to account better for unscaled features. Set gamma explicitly to 'auto' or 'scale' to avoid this warning.\n",
      "  \"avoid this warning.\", FutureWarning)\n",
      "/home/jiading/.conda/envs/nn/lib/python3.7/site-packages/sklearn/svm/base.py:193: FutureWarning: The default value of gamma will change from 'auto' to 'scale' in version 0.22 to account better for unscaled features. Set gamma explicitly to 'auto' or 'scale' to avoid this warning.\n",
      "  \"avoid this warning.\", FutureWarning)\n"
     ]
    },
    {
     "name": "stdout",
     "output_type": "stream",
     "text": [
      "score_rbf:0.588235\n",
      "score_linear:0.725490\n",
      "score_poly:0.588235\n",
      "\n",
      "The range of test data is [150,200]:\n",
      "score_rbf:0.588235\n",
      "score_linear:0.627451\n",
      "score_poly:0.588235\n",
      "\n",
      "The range of test data is [200,250]:\n",
      "score_rbf:0.560000\n",
      "score_linear:0.700000\n"
     ]
    },
    {
     "name": "stderr",
     "output_type": "stream",
     "text": [
      "/home/jiading/.conda/envs/nn/lib/python3.7/site-packages/sklearn/svm/base.py:193: FutureWarning: The default value of gamma will change from 'auto' to 'scale' in version 0.22 to account better for unscaled features. Set gamma explicitly to 'auto' or 'scale' to avoid this warning.\n",
      "  \"avoid this warning.\", FutureWarning)\n",
      "/home/jiading/.conda/envs/nn/lib/python3.7/site-packages/sklearn/svm/base.py:193: FutureWarning: The default value of gamma will change from 'auto' to 'scale' in version 0.22 to account better for unscaled features. Set gamma explicitly to 'auto' or 'scale' to avoid this warning.\n",
      "  \"avoid this warning.\", FutureWarning)\n",
      "/home/jiading/.conda/envs/nn/lib/python3.7/site-packages/sklearn/svm/base.py:193: FutureWarning: The default value of gamma will change from 'auto' to 'scale' in version 0.22 to account better for unscaled features. Set gamma explicitly to 'auto' or 'scale' to avoid this warning.\n",
      "  \"avoid this warning.\", FutureWarning)\n"
     ]
    },
    {
     "name": "stdout",
     "output_type": "stream",
     "text": [
      "score_poly:0.560000\n",
      "############Gamma now is 16###############\n",
      "--------Without Normalize or preprocess-------\n",
      "\n",
      "The range of test data is [0,50]:\n",
      "score_rbf:0.803922\n",
      "score_linear:0.725490\n",
      "score_poly:0.803922\n",
      "\n",
      "The range of test data is [50,100]:\n",
      "score_rbf:0.666667\n",
      "score_linear:0.686275\n",
      "score_poly:0.666667\n",
      "\n",
      "The range of test data is [100,150]:\n",
      "score_rbf:0.588235\n",
      "score_linear:0.764706\n",
      "score_poly:0.588235\n",
      "\n",
      "The range of test data is [150,200]:\n",
      "score_rbf:0.588235\n",
      "score_linear:0.666667\n",
      "score_poly:0.588235\n",
      "\n",
      "The range of test data is [200,250]:\n",
      "score_rbf:0.560000\n",
      "score_linear:0.660000\n"
     ]
    },
    {
     "name": "stderr",
     "output_type": "stream",
     "text": [
      "/home/jiading/.conda/envs/nn/lib/python3.7/site-packages/sklearn/svm/base.py:193: FutureWarning: The default value of gamma will change from 'auto' to 'scale' in version 0.22 to account better for unscaled features. Set gamma explicitly to 'auto' or 'scale' to avoid this warning.\n",
      "  \"avoid this warning.\", FutureWarning)\n",
      "/home/jiading/.conda/envs/nn/lib/python3.7/site-packages/sklearn/svm/base.py:193: FutureWarning: The default value of gamma will change from 'auto' to 'scale' in version 0.22 to account better for unscaled features. Set gamma explicitly to 'auto' or 'scale' to avoid this warning.\n",
      "  \"avoid this warning.\", FutureWarning)\n",
      "/home/jiading/.conda/envs/nn/lib/python3.7/site-packages/sklearn/svm/base.py:193: FutureWarning: The default value of gamma will change from 'auto' to 'scale' in version 0.22 to account better for unscaled features. Set gamma explicitly to 'auto' or 'scale' to avoid this warning.\n",
      "  \"avoid this warning.\", FutureWarning)\n"
     ]
    },
    {
     "name": "stdout",
     "output_type": "stream",
     "text": [
      "score_poly:0.560000\n",
      "----------------Preprocess--------------------\n",
      "\n",
      "The range of test data is [0,50]:\n",
      "score_rbf:0.803922\n",
      "score_linear:0.705882\n",
      "score_poly:0.803922\n",
      "\n",
      "The range of test data is [50,100]:\n",
      "score_rbf:0.666667\n",
      "score_linear:0.705882\n",
      "score_poly:0.666667\n",
      "\n",
      "The range of test data is [100,150]:\n",
      "score_rbf:0.588235\n",
      "score_linear:0.764706\n",
      "score_poly:0.588235\n",
      "\n",
      "The range of test data is [150,200]:\n",
      "score_rbf:0.588235\n",
      "score_linear:0.666667\n",
      "score_poly:0.588235\n",
      "\n",
      "The range of test data is [200,250]:\n",
      "score_rbf:0.560000\n",
      "score_linear:0.660000\n",
      "score_poly:0.560000\n",
      "---------------Normalize-----------------------\n",
      "\n",
      "The range of test data is [0,50]:\n",
      "score_rbf:0.803922\n",
      "score_linear:0.784314\n",
      "score_poly:0.803922\n",
      "\n",
      "The range of test data is [50,100]:\n",
      "score_rbf:0.666667\n",
      "score_linear:0.745098\n",
      "score_poly:0.666667\n",
      "\n",
      "The range of test data is [100,150]:\n",
      "score_rbf:0.588235\n",
      "score_linear:0.666667\n",
      "score_poly:0.588235\n",
      "\n",
      "The range of test data is [150,200]:\n"
     ]
    },
    {
     "name": "stderr",
     "output_type": "stream",
     "text": [
      "/home/jiading/.conda/envs/nn/lib/python3.7/site-packages/sklearn/svm/base.py:193: FutureWarning: The default value of gamma will change from 'auto' to 'scale' in version 0.22 to account better for unscaled features. Set gamma explicitly to 'auto' or 'scale' to avoid this warning.\n",
      "  \"avoid this warning.\", FutureWarning)\n",
      "/home/jiading/.conda/envs/nn/lib/python3.7/site-packages/sklearn/svm/base.py:193: FutureWarning: The default value of gamma will change from 'auto' to 'scale' in version 0.22 to account better for unscaled features. Set gamma explicitly to 'auto' or 'scale' to avoid this warning.\n",
      "  \"avoid this warning.\", FutureWarning)\n",
      "/home/jiading/.conda/envs/nn/lib/python3.7/site-packages/sklearn/svm/base.py:193: FutureWarning: The default value of gamma will change from 'auto' to 'scale' in version 0.22 to account better for unscaled features. Set gamma explicitly to 'auto' or 'scale' to avoid this warning.\n",
      "  \"avoid this warning.\", FutureWarning)\n"
     ]
    },
    {
     "name": "stdout",
     "output_type": "stream",
     "text": [
      "score_rbf:0.588235\n",
      "score_linear:0.666667\n",
      "score_poly:0.588235\n",
      "\n",
      "The range of test data is [200,250]:\n",
      "score_rbf:0.560000\n",
      "score_linear:0.580000\n",
      "score_poly:0.560000\n",
      "---------------Preprocess and Normalize-----------------------\n",
      "\n",
      "The range of test data is [0,50]:\n",
      "score_rbf:0.803922\n",
      "score_linear:0.647059\n",
      "score_poly:0.803922\n",
      "\n",
      "The range of test data is [50,100]:\n"
     ]
    },
    {
     "name": "stderr",
     "output_type": "stream",
     "text": [
      "/home/jiading/.conda/envs/nn/lib/python3.7/site-packages/sklearn/svm/base.py:193: FutureWarning: The default value of gamma will change from 'auto' to 'scale' in version 0.22 to account better for unscaled features. Set gamma explicitly to 'auto' or 'scale' to avoid this warning.\n",
      "  \"avoid this warning.\", FutureWarning)\n",
      "/home/jiading/.conda/envs/nn/lib/python3.7/site-packages/sklearn/svm/base.py:193: FutureWarning: The default value of gamma will change from 'auto' to 'scale' in version 0.22 to account better for unscaled features. Set gamma explicitly to 'auto' or 'scale' to avoid this warning.\n",
      "  \"avoid this warning.\", FutureWarning)\n",
      "/home/jiading/.conda/envs/nn/lib/python3.7/site-packages/sklearn/svm/base.py:193: FutureWarning: The default value of gamma will change from 'auto' to 'scale' in version 0.22 to account better for unscaled features. Set gamma explicitly to 'auto' or 'scale' to avoid this warning.\n",
      "  \"avoid this warning.\", FutureWarning)\n"
     ]
    },
    {
     "name": "stdout",
     "output_type": "stream",
     "text": [
      "score_rbf:0.666667\n",
      "score_linear:0.647059\n",
      "score_poly:0.666667\n",
      "\n",
      "The range of test data is [100,150]:\n",
      "score_rbf:0.588235\n",
      "score_linear:0.725490\n",
      "score_poly:0.588235\n",
      "\n",
      "The range of test data is [150,200]:\n",
      "score_rbf:0.588235\n",
      "score_linear:0.627451\n",
      "score_poly:0.588235\n",
      "\n",
      "The range of test data is [200,250]:\n"
     ]
    },
    {
     "name": "stderr",
     "output_type": "stream",
     "text": [
      "/home/jiading/.conda/envs/nn/lib/python3.7/site-packages/sklearn/svm/base.py:193: FutureWarning: The default value of gamma will change from 'auto' to 'scale' in version 0.22 to account better for unscaled features. Set gamma explicitly to 'auto' or 'scale' to avoid this warning.\n",
      "  \"avoid this warning.\", FutureWarning)\n",
      "/home/jiading/.conda/envs/nn/lib/python3.7/site-packages/sklearn/svm/base.py:193: FutureWarning: The default value of gamma will change from 'auto' to 'scale' in version 0.22 to account better for unscaled features. Set gamma explicitly to 'auto' or 'scale' to avoid this warning.\n",
      "  \"avoid this warning.\", FutureWarning)\n",
      "/home/jiading/.conda/envs/nn/lib/python3.7/site-packages/sklearn/svm/base.py:193: FutureWarning: The default value of gamma will change from 'auto' to 'scale' in version 0.22 to account better for unscaled features. Set gamma explicitly to 'auto' or 'scale' to avoid this warning.\n",
      "  \"avoid this warning.\", FutureWarning)\n"
     ]
    },
    {
     "name": "stdout",
     "output_type": "stream",
     "text": [
      "score_rbf:0.560000\n",
      "score_linear:0.700000\n",
      "score_poly:0.560000\n",
      "############Gamma now is 17###############\n",
      "--------Without Normalize or preprocess-------\n",
      "\n",
      "The range of test data is [0,50]:\n",
      "score_rbf:0.803922\n",
      "score_linear:0.725490\n",
      "score_poly:0.803922\n",
      "\n",
      "The range of test data is [50,100]:\n",
      "score_rbf:0.666667\n",
      "score_linear:0.686275\n",
      "score_poly:0.666667\n",
      "\n",
      "The range of test data is [100,150]:\n"
     ]
    },
    {
     "name": "stderr",
     "output_type": "stream",
     "text": [
      "/home/jiading/.conda/envs/nn/lib/python3.7/site-packages/sklearn/svm/base.py:193: FutureWarning: The default value of gamma will change from 'auto' to 'scale' in version 0.22 to account better for unscaled features. Set gamma explicitly to 'auto' or 'scale' to avoid this warning.\n",
      "  \"avoid this warning.\", FutureWarning)\n",
      "/home/jiading/.conda/envs/nn/lib/python3.7/site-packages/sklearn/svm/base.py:193: FutureWarning: The default value of gamma will change from 'auto' to 'scale' in version 0.22 to account better for unscaled features. Set gamma explicitly to 'auto' or 'scale' to avoid this warning.\n",
      "  \"avoid this warning.\", FutureWarning)\n",
      "/home/jiading/.conda/envs/nn/lib/python3.7/site-packages/sklearn/svm/base.py:193: FutureWarning: The default value of gamma will change from 'auto' to 'scale' in version 0.22 to account better for unscaled features. Set gamma explicitly to 'auto' or 'scale' to avoid this warning.\n",
      "  \"avoid this warning.\", FutureWarning)\n"
     ]
    },
    {
     "name": "stdout",
     "output_type": "stream",
     "text": [
      "score_rbf:0.588235\n",
      "score_linear:0.764706\n",
      "score_poly:0.588235\n",
      "\n",
      "The range of test data is [150,200]:\n",
      "score_rbf:0.588235\n",
      "score_linear:0.666667\n",
      "score_poly:0.588235\n",
      "\n",
      "The range of test data is [200,250]:\n",
      "score_rbf:0.560000\n",
      "score_linear:0.660000\n"
     ]
    },
    {
     "name": "stderr",
     "output_type": "stream",
     "text": [
      "/home/jiading/.conda/envs/nn/lib/python3.7/site-packages/sklearn/svm/base.py:193: FutureWarning: The default value of gamma will change from 'auto' to 'scale' in version 0.22 to account better for unscaled features. Set gamma explicitly to 'auto' or 'scale' to avoid this warning.\n",
      "  \"avoid this warning.\", FutureWarning)\n",
      "/home/jiading/.conda/envs/nn/lib/python3.7/site-packages/sklearn/svm/base.py:193: FutureWarning: The default value of gamma will change from 'auto' to 'scale' in version 0.22 to account better for unscaled features. Set gamma explicitly to 'auto' or 'scale' to avoid this warning.\n",
      "  \"avoid this warning.\", FutureWarning)\n",
      "/home/jiading/.conda/envs/nn/lib/python3.7/site-packages/sklearn/svm/base.py:193: FutureWarning: The default value of gamma will change from 'auto' to 'scale' in version 0.22 to account better for unscaled features. Set gamma explicitly to 'auto' or 'scale' to avoid this warning.\n",
      "  \"avoid this warning.\", FutureWarning)\n"
     ]
    },
    {
     "name": "stdout",
     "output_type": "stream",
     "text": [
      "score_poly:0.560000\n",
      "----------------Preprocess--------------------\n",
      "\n",
      "The range of test data is [0,50]:\n",
      "score_rbf:0.803922\n",
      "score_linear:0.705882\n",
      "score_poly:0.803922\n",
      "\n",
      "The range of test data is [50,100]:\n",
      "score_rbf:0.666667\n",
      "score_linear:0.705882\n",
      "score_poly:0.666667\n",
      "\n",
      "The range of test data is [100,150]:\n",
      "score_rbf:0.588235\n",
      "score_linear:0.764706\n",
      "score_poly:0.588235\n",
      "\n",
      "The range of test data is [150,200]:\n",
      "score_rbf:0.588235\n",
      "score_linear:0.666667\n",
      "score_poly:0.588235\n",
      "\n",
      "The range of test data is [200,250]:\n",
      "score_rbf:0.560000\n",
      "score_linear:0.660000\n",
      "score_poly:0.560000\n",
      "---------------Normalize-----------------------\n",
      "\n",
      "The range of test data is [0,50]:\n",
      "score_rbf:0.803922\n",
      "score_linear:0.784314\n",
      "score_poly:0.803922\n",
      "\n",
      "The range of test data is [50,100]:\n",
      "score_rbf:0.666667\n",
      "score_linear:0.745098\n",
      "score_poly:0.666667\n",
      "\n",
      "The range of test data is [100,150]:\n",
      "score_rbf:0.588235\n",
      "score_linear:0.666667\n",
      "score_poly:0.588235\n",
      "\n",
      "The range of test data is [150,200]:\n"
     ]
    },
    {
     "name": "stderr",
     "output_type": "stream",
     "text": [
      "/home/jiading/.conda/envs/nn/lib/python3.7/site-packages/sklearn/svm/base.py:193: FutureWarning: The default value of gamma will change from 'auto' to 'scale' in version 0.22 to account better for unscaled features. Set gamma explicitly to 'auto' or 'scale' to avoid this warning.\n",
      "  \"avoid this warning.\", FutureWarning)\n",
      "/home/jiading/.conda/envs/nn/lib/python3.7/site-packages/sklearn/svm/base.py:193: FutureWarning: The default value of gamma will change from 'auto' to 'scale' in version 0.22 to account better for unscaled features. Set gamma explicitly to 'auto' or 'scale' to avoid this warning.\n",
      "  \"avoid this warning.\", FutureWarning)\n",
      "/home/jiading/.conda/envs/nn/lib/python3.7/site-packages/sklearn/svm/base.py:193: FutureWarning: The default value of gamma will change from 'auto' to 'scale' in version 0.22 to account better for unscaled features. Set gamma explicitly to 'auto' or 'scale' to avoid this warning.\n",
      "  \"avoid this warning.\", FutureWarning)\n"
     ]
    },
    {
     "name": "stdout",
     "output_type": "stream",
     "text": [
      "score_rbf:0.588235\n",
      "score_linear:0.666667\n",
      "score_poly:0.588235\n",
      "\n",
      "The range of test data is [200,250]:\n",
      "score_rbf:0.560000\n",
      "score_linear:0.580000\n",
      "score_poly:0.560000\n",
      "---------------Preprocess and Normalize-----------------------\n",
      "\n",
      "The range of test data is [0,50]:\n",
      "score_rbf:0.803922\n",
      "score_linear:0.647059\n",
      "score_poly:0.803922\n",
      "\n",
      "The range of test data is [50,100]:\n"
     ]
    },
    {
     "name": "stderr",
     "output_type": "stream",
     "text": [
      "/home/jiading/.conda/envs/nn/lib/python3.7/site-packages/sklearn/svm/base.py:193: FutureWarning: The default value of gamma will change from 'auto' to 'scale' in version 0.22 to account better for unscaled features. Set gamma explicitly to 'auto' or 'scale' to avoid this warning.\n",
      "  \"avoid this warning.\", FutureWarning)\n",
      "/home/jiading/.conda/envs/nn/lib/python3.7/site-packages/sklearn/svm/base.py:193: FutureWarning: The default value of gamma will change from 'auto' to 'scale' in version 0.22 to account better for unscaled features. Set gamma explicitly to 'auto' or 'scale' to avoid this warning.\n",
      "  \"avoid this warning.\", FutureWarning)\n",
      "/home/jiading/.conda/envs/nn/lib/python3.7/site-packages/sklearn/svm/base.py:193: FutureWarning: The default value of gamma will change from 'auto' to 'scale' in version 0.22 to account better for unscaled features. Set gamma explicitly to 'auto' or 'scale' to avoid this warning.\n",
      "  \"avoid this warning.\", FutureWarning)\n"
     ]
    },
    {
     "name": "stdout",
     "output_type": "stream",
     "text": [
      "score_rbf:0.666667\n",
      "score_linear:0.647059\n",
      "score_poly:0.666667\n",
      "\n",
      "The range of test data is [100,150]:\n",
      "score_rbf:0.588235\n",
      "score_linear:0.725490\n",
      "score_poly:0.588235\n",
      "\n",
      "The range of test data is [150,200]:\n",
      "score_rbf:0.588235\n",
      "score_linear:0.627451\n",
      "score_poly:0.588235\n",
      "\n",
      "The range of test data is [200,250]:\n"
     ]
    },
    {
     "name": "stderr",
     "output_type": "stream",
     "text": [
      "/home/jiading/.conda/envs/nn/lib/python3.7/site-packages/sklearn/svm/base.py:193: FutureWarning: The default value of gamma will change from 'auto' to 'scale' in version 0.22 to account better for unscaled features. Set gamma explicitly to 'auto' or 'scale' to avoid this warning.\n",
      "  \"avoid this warning.\", FutureWarning)\n",
      "/home/jiading/.conda/envs/nn/lib/python3.7/site-packages/sklearn/svm/base.py:193: FutureWarning: The default value of gamma will change from 'auto' to 'scale' in version 0.22 to account better for unscaled features. Set gamma explicitly to 'auto' or 'scale' to avoid this warning.\n",
      "  \"avoid this warning.\", FutureWarning)\n",
      "/home/jiading/.conda/envs/nn/lib/python3.7/site-packages/sklearn/svm/base.py:193: FutureWarning: The default value of gamma will change from 'auto' to 'scale' in version 0.22 to account better for unscaled features. Set gamma explicitly to 'auto' or 'scale' to avoid this warning.\n",
      "  \"avoid this warning.\", FutureWarning)\n"
     ]
    },
    {
     "name": "stdout",
     "output_type": "stream",
     "text": [
      "score_rbf:0.560000\n",
      "score_linear:0.700000\n",
      "score_poly:0.560000\n",
      "############Gamma now is 18###############\n",
      "--------Without Normalize or preprocess-------\n",
      "\n",
      "The range of test data is [0,50]:\n",
      "score_rbf:0.803922\n",
      "score_linear:0.725490\n",
      "score_poly:0.803922\n",
      "\n",
      "The range of test data is [50,100]:\n",
      "score_rbf:0.666667\n",
      "score_linear:0.686275\n",
      "score_poly:0.666667\n",
      "\n",
      "The range of test data is [100,150]:\n"
     ]
    },
    {
     "name": "stderr",
     "output_type": "stream",
     "text": [
      "/home/jiading/.conda/envs/nn/lib/python3.7/site-packages/sklearn/svm/base.py:193: FutureWarning: The default value of gamma will change from 'auto' to 'scale' in version 0.22 to account better for unscaled features. Set gamma explicitly to 'auto' or 'scale' to avoid this warning.\n",
      "  \"avoid this warning.\", FutureWarning)\n",
      "/home/jiading/.conda/envs/nn/lib/python3.7/site-packages/sklearn/svm/base.py:193: FutureWarning: The default value of gamma will change from 'auto' to 'scale' in version 0.22 to account better for unscaled features. Set gamma explicitly to 'auto' or 'scale' to avoid this warning.\n",
      "  \"avoid this warning.\", FutureWarning)\n",
      "/home/jiading/.conda/envs/nn/lib/python3.7/site-packages/sklearn/svm/base.py:193: FutureWarning: The default value of gamma will change from 'auto' to 'scale' in version 0.22 to account better for unscaled features. Set gamma explicitly to 'auto' or 'scale' to avoid this warning.\n",
      "  \"avoid this warning.\", FutureWarning)\n"
     ]
    },
    {
     "name": "stdout",
     "output_type": "stream",
     "text": [
      "score_rbf:0.588235\n",
      "score_linear:0.764706\n",
      "score_poly:0.588235\n",
      "\n",
      "The range of test data is [150,200]:\n",
      "score_rbf:0.588235\n",
      "score_linear:0.666667\n",
      "score_poly:0.588235\n",
      "\n",
      "The range of test data is [200,250]:\n",
      "score_rbf:0.560000\n",
      "score_linear:0.660000\n"
     ]
    },
    {
     "name": "stderr",
     "output_type": "stream",
     "text": [
      "/home/jiading/.conda/envs/nn/lib/python3.7/site-packages/sklearn/svm/base.py:193: FutureWarning: The default value of gamma will change from 'auto' to 'scale' in version 0.22 to account better for unscaled features. Set gamma explicitly to 'auto' or 'scale' to avoid this warning.\n",
      "  \"avoid this warning.\", FutureWarning)\n",
      "/home/jiading/.conda/envs/nn/lib/python3.7/site-packages/sklearn/svm/base.py:193: FutureWarning: The default value of gamma will change from 'auto' to 'scale' in version 0.22 to account better for unscaled features. Set gamma explicitly to 'auto' or 'scale' to avoid this warning.\n",
      "  \"avoid this warning.\", FutureWarning)\n",
      "/home/jiading/.conda/envs/nn/lib/python3.7/site-packages/sklearn/svm/base.py:193: FutureWarning: The default value of gamma will change from 'auto' to 'scale' in version 0.22 to account better for unscaled features. Set gamma explicitly to 'auto' or 'scale' to avoid this warning.\n",
      "  \"avoid this warning.\", FutureWarning)\n"
     ]
    },
    {
     "name": "stdout",
     "output_type": "stream",
     "text": [
      "score_poly:0.560000\n",
      "----------------Preprocess--------------------\n",
      "\n",
      "The range of test data is [0,50]:\n",
      "score_rbf:0.803922\n",
      "score_linear:0.705882\n",
      "score_poly:0.803922\n",
      "\n",
      "The range of test data is [50,100]:\n",
      "score_rbf:0.666667\n",
      "score_linear:0.705882\n",
      "score_poly:0.666667\n",
      "\n",
      "The range of test data is [100,150]:\n",
      "score_rbf:0.588235\n",
      "score_linear:0.764706\n",
      "score_poly:0.588235\n",
      "\n",
      "The range of test data is [150,200]:\n",
      "score_rbf:0.588235\n",
      "score_linear:0.666667\n",
      "score_poly:0.588235\n",
      "\n",
      "The range of test data is [200,250]:\n",
      "score_rbf:0.560000\n",
      "score_linear:0.660000\n",
      "score_poly:0.560000\n",
      "---------------Normalize-----------------------\n",
      "\n",
      "The range of test data is [0,50]:\n",
      "score_rbf:0.803922\n",
      "score_linear:0.784314\n",
      "score_poly:0.803922\n",
      "\n",
      "The range of test data is [50,100]:\n",
      "score_rbf:0.666667\n",
      "score_linear:0.745098\n",
      "score_poly:0.666667\n",
      "\n",
      "The range of test data is [100,150]:\n",
      "score_rbf:0.588235\n",
      "score_linear:0.666667\n",
      "score_poly:0.588235\n",
      "\n",
      "The range of test data is [150,200]:\n"
     ]
    },
    {
     "name": "stderr",
     "output_type": "stream",
     "text": [
      "/home/jiading/.conda/envs/nn/lib/python3.7/site-packages/sklearn/svm/base.py:193: FutureWarning: The default value of gamma will change from 'auto' to 'scale' in version 0.22 to account better for unscaled features. Set gamma explicitly to 'auto' or 'scale' to avoid this warning.\n",
      "  \"avoid this warning.\", FutureWarning)\n",
      "/home/jiading/.conda/envs/nn/lib/python3.7/site-packages/sklearn/svm/base.py:193: FutureWarning: The default value of gamma will change from 'auto' to 'scale' in version 0.22 to account better for unscaled features. Set gamma explicitly to 'auto' or 'scale' to avoid this warning.\n",
      "  \"avoid this warning.\", FutureWarning)\n",
      "/home/jiading/.conda/envs/nn/lib/python3.7/site-packages/sklearn/svm/base.py:193: FutureWarning: The default value of gamma will change from 'auto' to 'scale' in version 0.22 to account better for unscaled features. Set gamma explicitly to 'auto' or 'scale' to avoid this warning.\n",
      "  \"avoid this warning.\", FutureWarning)\n"
     ]
    },
    {
     "name": "stdout",
     "output_type": "stream",
     "text": [
      "score_rbf:0.588235\n",
      "score_linear:0.666667\n",
      "score_poly:0.588235\n",
      "\n",
      "The range of test data is [200,250]:\n",
      "score_rbf:0.560000\n",
      "score_linear:0.580000\n",
      "score_poly:0.560000\n",
      "---------------Preprocess and Normalize-----------------------\n",
      "\n",
      "The range of test data is [0,50]:\n",
      "score_rbf:0.803922\n",
      "score_linear:0.647059\n",
      "score_poly:0.803922\n",
      "\n",
      "The range of test data is [50,100]:\n"
     ]
    },
    {
     "name": "stderr",
     "output_type": "stream",
     "text": [
      "/home/jiading/.conda/envs/nn/lib/python3.7/site-packages/sklearn/svm/base.py:193: FutureWarning: The default value of gamma will change from 'auto' to 'scale' in version 0.22 to account better for unscaled features. Set gamma explicitly to 'auto' or 'scale' to avoid this warning.\n",
      "  \"avoid this warning.\", FutureWarning)\n",
      "/home/jiading/.conda/envs/nn/lib/python3.7/site-packages/sklearn/svm/base.py:193: FutureWarning: The default value of gamma will change from 'auto' to 'scale' in version 0.22 to account better for unscaled features. Set gamma explicitly to 'auto' or 'scale' to avoid this warning.\n",
      "  \"avoid this warning.\", FutureWarning)\n",
      "/home/jiading/.conda/envs/nn/lib/python3.7/site-packages/sklearn/svm/base.py:193: FutureWarning: The default value of gamma will change from 'auto' to 'scale' in version 0.22 to account better for unscaled features. Set gamma explicitly to 'auto' or 'scale' to avoid this warning.\n",
      "  \"avoid this warning.\", FutureWarning)\n"
     ]
    },
    {
     "name": "stdout",
     "output_type": "stream",
     "text": [
      "score_rbf:0.666667\n",
      "score_linear:0.647059\n",
      "score_poly:0.666667\n",
      "\n",
      "The range of test data is [100,150]:\n",
      "score_rbf:0.588235\n",
      "score_linear:0.725490\n",
      "score_poly:0.588235\n",
      "\n",
      "The range of test data is [150,200]:\n",
      "score_rbf:0.588235\n",
      "score_linear:0.627451\n",
      "score_poly:0.588235\n",
      "\n",
      "The range of test data is [200,250]:\n"
     ]
    },
    {
     "name": "stderr",
     "output_type": "stream",
     "text": [
      "/home/jiading/.conda/envs/nn/lib/python3.7/site-packages/sklearn/svm/base.py:193: FutureWarning: The default value of gamma will change from 'auto' to 'scale' in version 0.22 to account better for unscaled features. Set gamma explicitly to 'auto' or 'scale' to avoid this warning.\n",
      "  \"avoid this warning.\", FutureWarning)\n",
      "/home/jiading/.conda/envs/nn/lib/python3.7/site-packages/sklearn/svm/base.py:193: FutureWarning: The default value of gamma will change from 'auto' to 'scale' in version 0.22 to account better for unscaled features. Set gamma explicitly to 'auto' or 'scale' to avoid this warning.\n",
      "  \"avoid this warning.\", FutureWarning)\n",
      "/home/jiading/.conda/envs/nn/lib/python3.7/site-packages/sklearn/svm/base.py:193: FutureWarning: The default value of gamma will change from 'auto' to 'scale' in version 0.22 to account better for unscaled features. Set gamma explicitly to 'auto' or 'scale' to avoid this warning.\n",
      "  \"avoid this warning.\", FutureWarning)\n"
     ]
    },
    {
     "name": "stdout",
     "output_type": "stream",
     "text": [
      "score_rbf:0.560000\n",
      "score_linear:0.700000\n",
      "score_poly:0.560000\n",
      "############Gamma now is 19###############\n",
      "--------Without Normalize or preprocess-------\n",
      "\n",
      "The range of test data is [0,50]:\n",
      "score_rbf:0.803922\n",
      "score_linear:0.725490\n",
      "score_poly:0.803922\n",
      "\n",
      "The range of test data is [50,100]:\n",
      "score_rbf:0.666667\n",
      "score_linear:0.686275\n",
      "score_poly:0.666667\n",
      "\n",
      "The range of test data is [100,150]:\n"
     ]
    },
    {
     "name": "stderr",
     "output_type": "stream",
     "text": [
      "/home/jiading/.conda/envs/nn/lib/python3.7/site-packages/sklearn/svm/base.py:193: FutureWarning: The default value of gamma will change from 'auto' to 'scale' in version 0.22 to account better for unscaled features. Set gamma explicitly to 'auto' or 'scale' to avoid this warning.\n",
      "  \"avoid this warning.\", FutureWarning)\n",
      "/home/jiading/.conda/envs/nn/lib/python3.7/site-packages/sklearn/svm/base.py:193: FutureWarning: The default value of gamma will change from 'auto' to 'scale' in version 0.22 to account better for unscaled features. Set gamma explicitly to 'auto' or 'scale' to avoid this warning.\n",
      "  \"avoid this warning.\", FutureWarning)\n",
      "/home/jiading/.conda/envs/nn/lib/python3.7/site-packages/sklearn/svm/base.py:193: FutureWarning: The default value of gamma will change from 'auto' to 'scale' in version 0.22 to account better for unscaled features. Set gamma explicitly to 'auto' or 'scale' to avoid this warning.\n",
      "  \"avoid this warning.\", FutureWarning)\n"
     ]
    },
    {
     "name": "stdout",
     "output_type": "stream",
     "text": [
      "score_rbf:0.588235\n",
      "score_linear:0.764706\n",
      "score_poly:0.588235\n",
      "\n",
      "The range of test data is [150,200]:\n",
      "score_rbf:0.588235\n",
      "score_linear:0.666667\n",
      "score_poly:0.588235\n",
      "\n",
      "The range of test data is [200,250]:\n",
      "score_rbf:0.560000\n",
      "score_linear:0.660000\n"
     ]
    },
    {
     "name": "stderr",
     "output_type": "stream",
     "text": [
      "/home/jiading/.conda/envs/nn/lib/python3.7/site-packages/sklearn/svm/base.py:193: FutureWarning: The default value of gamma will change from 'auto' to 'scale' in version 0.22 to account better for unscaled features. Set gamma explicitly to 'auto' or 'scale' to avoid this warning.\n",
      "  \"avoid this warning.\", FutureWarning)\n",
      "/home/jiading/.conda/envs/nn/lib/python3.7/site-packages/sklearn/svm/base.py:193: FutureWarning: The default value of gamma will change from 'auto' to 'scale' in version 0.22 to account better for unscaled features. Set gamma explicitly to 'auto' or 'scale' to avoid this warning.\n",
      "  \"avoid this warning.\", FutureWarning)\n",
      "/home/jiading/.conda/envs/nn/lib/python3.7/site-packages/sklearn/svm/base.py:193: FutureWarning: The default value of gamma will change from 'auto' to 'scale' in version 0.22 to account better for unscaled features. Set gamma explicitly to 'auto' or 'scale' to avoid this warning.\n",
      "  \"avoid this warning.\", FutureWarning)\n"
     ]
    },
    {
     "name": "stdout",
     "output_type": "stream",
     "text": [
      "score_poly:0.560000\n",
      "----------------Preprocess--------------------\n",
      "\n",
      "The range of test data is [0,50]:\n",
      "score_rbf:0.803922\n",
      "score_linear:0.705882\n",
      "score_poly:0.803922\n",
      "\n",
      "The range of test data is [50,100]:\n",
      "score_rbf:0.666667\n",
      "score_linear:0.705882\n",
      "score_poly:0.666667\n",
      "\n",
      "The range of test data is [100,150]:\n",
      "score_rbf:0.588235\n",
      "score_linear:0.764706\n",
      "score_poly:0.588235\n",
      "\n",
      "The range of test data is [150,200]:\n",
      "score_rbf:0.588235\n",
      "score_linear:0.666667\n",
      "score_poly:0.588235\n",
      "\n",
      "The range of test data is [200,250]:\n",
      "score_rbf:0.560000\n",
      "score_linear:0.660000\n",
      "score_poly:0.560000\n",
      "---------------Normalize-----------------------\n",
      "\n",
      "The range of test data is [0,50]:\n",
      "score_rbf:0.803922\n",
      "score_linear:0.784314\n",
      "score_poly:0.803922\n",
      "\n",
      "The range of test data is [50,100]:\n",
      "score_rbf:0.666667\n",
      "score_linear:0.745098\n",
      "score_poly:0.666667\n",
      "\n",
      "The range of test data is [100,150]:\n",
      "score_rbf:0.588235\n",
      "score_linear:0.666667\n",
      "score_poly:0.588235\n",
      "\n",
      "The range of test data is [150,200]:\n"
     ]
    },
    {
     "name": "stderr",
     "output_type": "stream",
     "text": [
      "/home/jiading/.conda/envs/nn/lib/python3.7/site-packages/sklearn/svm/base.py:193: FutureWarning: The default value of gamma will change from 'auto' to 'scale' in version 0.22 to account better for unscaled features. Set gamma explicitly to 'auto' or 'scale' to avoid this warning.\n",
      "  \"avoid this warning.\", FutureWarning)\n",
      "/home/jiading/.conda/envs/nn/lib/python3.7/site-packages/sklearn/svm/base.py:193: FutureWarning: The default value of gamma will change from 'auto' to 'scale' in version 0.22 to account better for unscaled features. Set gamma explicitly to 'auto' or 'scale' to avoid this warning.\n",
      "  \"avoid this warning.\", FutureWarning)\n",
      "/home/jiading/.conda/envs/nn/lib/python3.7/site-packages/sklearn/svm/base.py:193: FutureWarning: The default value of gamma will change from 'auto' to 'scale' in version 0.22 to account better for unscaled features. Set gamma explicitly to 'auto' or 'scale' to avoid this warning.\n",
      "  \"avoid this warning.\", FutureWarning)\n"
     ]
    },
    {
     "name": "stdout",
     "output_type": "stream",
     "text": [
      "score_rbf:0.588235\n",
      "score_linear:0.666667\n",
      "score_poly:0.588235\n",
      "\n",
      "The range of test data is [200,250]:\n",
      "score_rbf:0.560000\n",
      "score_linear:0.580000\n",
      "score_poly:0.560000\n",
      "---------------Preprocess and Normalize-----------------------\n",
      "\n",
      "The range of test data is [0,50]:\n",
      "score_rbf:0.803922\n",
      "score_linear:0.647059\n",
      "score_poly:0.803922\n",
      "\n",
      "The range of test data is [50,100]:\n"
     ]
    },
    {
     "name": "stderr",
     "output_type": "stream",
     "text": [
      "/home/jiading/.conda/envs/nn/lib/python3.7/site-packages/sklearn/svm/base.py:193: FutureWarning: The default value of gamma will change from 'auto' to 'scale' in version 0.22 to account better for unscaled features. Set gamma explicitly to 'auto' or 'scale' to avoid this warning.\n",
      "  \"avoid this warning.\", FutureWarning)\n",
      "/home/jiading/.conda/envs/nn/lib/python3.7/site-packages/sklearn/svm/base.py:193: FutureWarning: The default value of gamma will change from 'auto' to 'scale' in version 0.22 to account better for unscaled features. Set gamma explicitly to 'auto' or 'scale' to avoid this warning.\n",
      "  \"avoid this warning.\", FutureWarning)\n",
      "/home/jiading/.conda/envs/nn/lib/python3.7/site-packages/sklearn/svm/base.py:193: FutureWarning: The default value of gamma will change from 'auto' to 'scale' in version 0.22 to account better for unscaled features. Set gamma explicitly to 'auto' or 'scale' to avoid this warning.\n",
      "  \"avoid this warning.\", FutureWarning)\n"
     ]
    },
    {
     "name": "stdout",
     "output_type": "stream",
     "text": [
      "score_rbf:0.666667\n",
      "score_linear:0.647059\n",
      "score_poly:0.666667\n",
      "\n",
      "The range of test data is [100,150]:\n",
      "score_rbf:0.588235\n",
      "score_linear:0.725490\n",
      "score_poly:0.588235\n",
      "\n",
      "The range of test data is [150,200]:\n",
      "score_rbf:0.588235\n",
      "score_linear:0.627451\n",
      "score_poly:0.588235\n",
      "\n",
      "The range of test data is [200,250]:\n"
     ]
    },
    {
     "name": "stderr",
     "output_type": "stream",
     "text": [
      "/home/jiading/.conda/envs/nn/lib/python3.7/site-packages/sklearn/svm/base.py:193: FutureWarning: The default value of gamma will change from 'auto' to 'scale' in version 0.22 to account better for unscaled features. Set gamma explicitly to 'auto' or 'scale' to avoid this warning.\n",
      "  \"avoid this warning.\", FutureWarning)\n",
      "/home/jiading/.conda/envs/nn/lib/python3.7/site-packages/sklearn/svm/base.py:193: FutureWarning: The default value of gamma will change from 'auto' to 'scale' in version 0.22 to account better for unscaled features. Set gamma explicitly to 'auto' or 'scale' to avoid this warning.\n",
      "  \"avoid this warning.\", FutureWarning)\n",
      "/home/jiading/.conda/envs/nn/lib/python3.7/site-packages/sklearn/svm/base.py:193: FutureWarning: The default value of gamma will change from 'auto' to 'scale' in version 0.22 to account better for unscaled features. Set gamma explicitly to 'auto' or 'scale' to avoid this warning.\n",
      "  \"avoid this warning.\", FutureWarning)\n"
     ]
    },
    {
     "name": "stdout",
     "output_type": "stream",
     "text": [
      "score_rbf:0.560000\n",
      "score_linear:0.700000\n",
      "score_poly:0.560000\n",
      "############Gamma now is 20###############\n",
      "--------Without Normalize or preprocess-------\n",
      "\n",
      "The range of test data is [0,50]:\n",
      "score_rbf:0.803922\n",
      "score_linear:0.725490\n",
      "score_poly:0.803922\n",
      "\n",
      "The range of test data is [50,100]:\n",
      "score_rbf:0.666667\n",
      "score_linear:0.686275\n"
     ]
    },
    {
     "name": "stderr",
     "output_type": "stream",
     "text": [
      "/home/jiading/.conda/envs/nn/lib/python3.7/site-packages/sklearn/svm/base.py:193: FutureWarning: The default value of gamma will change from 'auto' to 'scale' in version 0.22 to account better for unscaled features. Set gamma explicitly to 'auto' or 'scale' to avoid this warning.\n",
      "  \"avoid this warning.\", FutureWarning)\n",
      "/home/jiading/.conda/envs/nn/lib/python3.7/site-packages/sklearn/svm/base.py:193: FutureWarning: The default value of gamma will change from 'auto' to 'scale' in version 0.22 to account better for unscaled features. Set gamma explicitly to 'auto' or 'scale' to avoid this warning.\n",
      "  \"avoid this warning.\", FutureWarning)\n",
      "/home/jiading/.conda/envs/nn/lib/python3.7/site-packages/sklearn/svm/base.py:193: FutureWarning: The default value of gamma will change from 'auto' to 'scale' in version 0.22 to account better for unscaled features. Set gamma explicitly to 'auto' or 'scale' to avoid this warning.\n",
      "  \"avoid this warning.\", FutureWarning)\n"
     ]
    },
    {
     "name": "stdout",
     "output_type": "stream",
     "text": [
      "score_poly:0.666667\n",
      "\n",
      "The range of test data is [100,150]:\n",
      "score_rbf:0.588235\n",
      "score_linear:0.764706\n",
      "score_poly:0.588235\n",
      "\n",
      "The range of test data is [150,200]:\n",
      "score_rbf:0.588235\n",
      "score_linear:0.666667\n",
      "score_poly:0.588235\n",
      "\n",
      "The range of test data is [200,250]:\n"
     ]
    },
    {
     "name": "stderr",
     "output_type": "stream",
     "text": [
      "/home/jiading/.conda/envs/nn/lib/python3.7/site-packages/sklearn/svm/base.py:193: FutureWarning: The default value of gamma will change from 'auto' to 'scale' in version 0.22 to account better for unscaled features. Set gamma explicitly to 'auto' or 'scale' to avoid this warning.\n",
      "  \"avoid this warning.\", FutureWarning)\n",
      "/home/jiading/.conda/envs/nn/lib/python3.7/site-packages/sklearn/svm/base.py:193: FutureWarning: The default value of gamma will change from 'auto' to 'scale' in version 0.22 to account better for unscaled features. Set gamma explicitly to 'auto' or 'scale' to avoid this warning.\n",
      "  \"avoid this warning.\", FutureWarning)\n",
      "/home/jiading/.conda/envs/nn/lib/python3.7/site-packages/sklearn/svm/base.py:193: FutureWarning: The default value of gamma will change from 'auto' to 'scale' in version 0.22 to account better for unscaled features. Set gamma explicitly to 'auto' or 'scale' to avoid this warning.\n",
      "  \"avoid this warning.\", FutureWarning)\n"
     ]
    },
    {
     "name": "stdout",
     "output_type": "stream",
     "text": [
      "score_rbf:0.560000\n",
      "score_linear:0.660000\n",
      "score_poly:0.560000\n",
      "----------------Preprocess--------------------\n",
      "\n",
      "The range of test data is [0,50]:\n",
      "score_rbf:0.803922\n",
      "score_linear:0.705882\n",
      "score_poly:0.803922\n",
      "\n",
      "The range of test data is [50,100]:\n",
      "score_rbf:0.666667\n",
      "score_linear:0.705882\n",
      "score_poly:0.666667\n",
      "\n",
      "The range of test data is [100,150]:\n",
      "score_rbf:0.588235\n",
      "score_linear:0.764706\n",
      "score_poly:0.588235\n",
      "\n",
      "The range of test data is [150,200]:\n",
      "score_rbf:0.588235\n",
      "score_linear:0.666667\n",
      "score_poly:0.588235\n",
      "\n",
      "The range of test data is [200,250]:\n",
      "score_rbf:0.560000\n",
      "score_linear:0.660000\n",
      "score_poly:0.560000\n",
      "---------------Normalize-----------------------\n",
      "\n",
      "The range of test data is [0,50]:\n",
      "score_rbf:0.803922\n",
      "score_linear:0.784314\n",
      "score_poly:0.803922\n",
      "\n",
      "The range of test data is [50,100]:\n",
      "score_rbf:0.666667\n",
      "score_linear:0.745098\n",
      "score_poly:0.666667\n",
      "\n",
      "The range of test data is [100,150]:\n"
     ]
    },
    {
     "name": "stderr",
     "output_type": "stream",
     "text": [
      "/home/jiading/.conda/envs/nn/lib/python3.7/site-packages/sklearn/svm/base.py:193: FutureWarning: The default value of gamma will change from 'auto' to 'scale' in version 0.22 to account better for unscaled features. Set gamma explicitly to 'auto' or 'scale' to avoid this warning.\n",
      "  \"avoid this warning.\", FutureWarning)\n",
      "/home/jiading/.conda/envs/nn/lib/python3.7/site-packages/sklearn/svm/base.py:193: FutureWarning: The default value of gamma will change from 'auto' to 'scale' in version 0.22 to account better for unscaled features. Set gamma explicitly to 'auto' or 'scale' to avoid this warning.\n",
      "  \"avoid this warning.\", FutureWarning)\n",
      "/home/jiading/.conda/envs/nn/lib/python3.7/site-packages/sklearn/svm/base.py:193: FutureWarning: The default value of gamma will change from 'auto' to 'scale' in version 0.22 to account better for unscaled features. Set gamma explicitly to 'auto' or 'scale' to avoid this warning.\n",
      "  \"avoid this warning.\", FutureWarning)\n"
     ]
    },
    {
     "name": "stdout",
     "output_type": "stream",
     "text": [
      "score_rbf:0.588235\n",
      "score_linear:0.666667\n",
      "score_poly:0.588235\n",
      "\n",
      "The range of test data is [150,200]:\n",
      "score_rbf:0.588235\n",
      "score_linear:0.666667\n",
      "score_poly:0.588235\n",
      "\n",
      "The range of test data is [200,250]:\n",
      "score_rbf:0.560000\n",
      "score_linear:0.580000\n",
      "score_poly:0.560000\n",
      "---------------Preprocess and Normalize-----------------------\n",
      "\n",
      "The range of test data is [0,50]:\n"
     ]
    },
    {
     "name": "stderr",
     "output_type": "stream",
     "text": [
      "/home/jiading/.conda/envs/nn/lib/python3.7/site-packages/sklearn/svm/base.py:193: FutureWarning: The default value of gamma will change from 'auto' to 'scale' in version 0.22 to account better for unscaled features. Set gamma explicitly to 'auto' or 'scale' to avoid this warning.\n",
      "  \"avoid this warning.\", FutureWarning)\n",
      "/home/jiading/.conda/envs/nn/lib/python3.7/site-packages/sklearn/svm/base.py:193: FutureWarning: The default value of gamma will change from 'auto' to 'scale' in version 0.22 to account better for unscaled features. Set gamma explicitly to 'auto' or 'scale' to avoid this warning.\n",
      "  \"avoid this warning.\", FutureWarning)\n",
      "/home/jiading/.conda/envs/nn/lib/python3.7/site-packages/sklearn/svm/base.py:193: FutureWarning: The default value of gamma will change from 'auto' to 'scale' in version 0.22 to account better for unscaled features. Set gamma explicitly to 'auto' or 'scale' to avoid this warning.\n",
      "  \"avoid this warning.\", FutureWarning)\n"
     ]
    },
    {
     "name": "stdout",
     "output_type": "stream",
     "text": [
      "score_rbf:0.803922\n",
      "score_linear:0.647059\n",
      "score_poly:0.803922\n",
      "\n",
      "The range of test data is [50,100]:\n",
      "score_rbf:0.666667\n",
      "score_linear:0.647059\n",
      "score_poly:0.666667\n",
      "\n",
      "The range of test data is [100,150]:\n",
      "score_rbf:0.588235\n",
      "score_linear:0.725490\n",
      "score_poly:0.588235\n",
      "\n",
      "The range of test data is [150,200]:\n"
     ]
    },
    {
     "name": "stderr",
     "output_type": "stream",
     "text": [
      "/home/jiading/.conda/envs/nn/lib/python3.7/site-packages/sklearn/svm/base.py:193: FutureWarning: The default value of gamma will change from 'auto' to 'scale' in version 0.22 to account better for unscaled features. Set gamma explicitly to 'auto' or 'scale' to avoid this warning.\n",
      "  \"avoid this warning.\", FutureWarning)\n",
      "/home/jiading/.conda/envs/nn/lib/python3.7/site-packages/sklearn/svm/base.py:193: FutureWarning: The default value of gamma will change from 'auto' to 'scale' in version 0.22 to account better for unscaled features. Set gamma explicitly to 'auto' or 'scale' to avoid this warning.\n",
      "  \"avoid this warning.\", FutureWarning)\n",
      "/home/jiading/.conda/envs/nn/lib/python3.7/site-packages/sklearn/svm/base.py:193: FutureWarning: The default value of gamma will change from 'auto' to 'scale' in version 0.22 to account better for unscaled features. Set gamma explicitly to 'auto' or 'scale' to avoid this warning.\n",
      "  \"avoid this warning.\", FutureWarning)\n"
     ]
    },
    {
     "name": "stdout",
     "output_type": "stream",
     "text": [
      "score_rbf:0.588235\n",
      "score_linear:0.627451\n",
      "score_poly:0.588235\n",
      "\n",
      "The range of test data is [200,250]:\n",
      "score_rbf:0.560000\n",
      "score_linear:0.700000\n",
      "score_poly:0.560000\n",
      "############Gamma now is 21###############\n",
      "--------Without Normalize or preprocess-------\n",
      "\n",
      "The range of test data is [0,50]:\n",
      "score_rbf:0.803922\n",
      "score_linear:0.725490\n",
      "score_poly:0.803922\n",
      "\n",
      "The range of test data is [50,100]:\n"
     ]
    },
    {
     "name": "stderr",
     "output_type": "stream",
     "text": [
      "/home/jiading/.conda/envs/nn/lib/python3.7/site-packages/sklearn/svm/base.py:193: FutureWarning: The default value of gamma will change from 'auto' to 'scale' in version 0.22 to account better for unscaled features. Set gamma explicitly to 'auto' or 'scale' to avoid this warning.\n",
      "  \"avoid this warning.\", FutureWarning)\n",
      "/home/jiading/.conda/envs/nn/lib/python3.7/site-packages/sklearn/svm/base.py:193: FutureWarning: The default value of gamma will change from 'auto' to 'scale' in version 0.22 to account better for unscaled features. Set gamma explicitly to 'auto' or 'scale' to avoid this warning.\n",
      "  \"avoid this warning.\", FutureWarning)\n",
      "/home/jiading/.conda/envs/nn/lib/python3.7/site-packages/sklearn/svm/base.py:193: FutureWarning: The default value of gamma will change from 'auto' to 'scale' in version 0.22 to account better for unscaled features. Set gamma explicitly to 'auto' or 'scale' to avoid this warning.\n",
      "  \"avoid this warning.\", FutureWarning)\n"
     ]
    },
    {
     "name": "stdout",
     "output_type": "stream",
     "text": [
      "score_rbf:0.666667\n",
      "score_linear:0.686275\n",
      "score_poly:0.666667\n",
      "\n",
      "The range of test data is [100,150]:\n",
      "score_rbf:0.588235\n",
      "score_linear:0.764706\n",
      "score_poly:0.588235\n",
      "\n",
      "The range of test data is [150,200]:\n",
      "score_rbf:0.588235\n",
      "score_linear:0.666667\n"
     ]
    },
    {
     "name": "stderr",
     "output_type": "stream",
     "text": [
      "/home/jiading/.conda/envs/nn/lib/python3.7/site-packages/sklearn/svm/base.py:193: FutureWarning: The default value of gamma will change from 'auto' to 'scale' in version 0.22 to account better for unscaled features. Set gamma explicitly to 'auto' or 'scale' to avoid this warning.\n",
      "  \"avoid this warning.\", FutureWarning)\n",
      "/home/jiading/.conda/envs/nn/lib/python3.7/site-packages/sklearn/svm/base.py:193: FutureWarning: The default value of gamma will change from 'auto' to 'scale' in version 0.22 to account better for unscaled features. Set gamma explicitly to 'auto' or 'scale' to avoid this warning.\n",
      "  \"avoid this warning.\", FutureWarning)\n",
      "/home/jiading/.conda/envs/nn/lib/python3.7/site-packages/sklearn/svm/base.py:193: FutureWarning: The default value of gamma will change from 'auto' to 'scale' in version 0.22 to account better for unscaled features. Set gamma explicitly to 'auto' or 'scale' to avoid this warning.\n",
      "  \"avoid this warning.\", FutureWarning)\n"
     ]
    },
    {
     "name": "stdout",
     "output_type": "stream",
     "text": [
      "score_poly:0.588235\n",
      "\n",
      "The range of test data is [200,250]:\n",
      "score_rbf:0.560000\n",
      "score_linear:0.660000\n",
      "score_poly:0.560000\n",
      "----------------Preprocess--------------------\n",
      "\n",
      "The range of test data is [0,50]:\n",
      "score_rbf:0.803922\n",
      "score_linear:0.705882\n",
      "score_poly:0.803922\n",
      "\n",
      "The range of test data is [50,100]:\n",
      "score_rbf:0.666667\n",
      "score_linear:0.705882\n",
      "score_poly:0.666667\n",
      "\n",
      "The range of test data is [100,150]:\n",
      "score_rbf:0.588235\n",
      "score_linear:0.764706\n",
      "score_poly:0.588235\n",
      "\n",
      "The range of test data is [150,200]:\n",
      "score_rbf:0.588235\n",
      "score_linear:0.666667\n",
      "score_poly:0.588235\n",
      "\n",
      "The range of test data is [200,250]:\n",
      "score_rbf:0.560000\n",
      "score_linear:0.660000\n",
      "score_poly:0.560000\n",
      "---------------Normalize-----------------------\n",
      "\n",
      "The range of test data is [0,50]:\n",
      "score_rbf:0.803922\n",
      "score_linear:0.784314\n",
      "score_poly:0.803922\n",
      "\n",
      "The range of test data is [50,100]:\n",
      "score_rbf:0.666667\n",
      "score_linear:0.745098\n",
      "score_poly:0.666667\n",
      "\n",
      "The range of test data is [100,150]:\n"
     ]
    },
    {
     "name": "stderr",
     "output_type": "stream",
     "text": [
      "/home/jiading/.conda/envs/nn/lib/python3.7/site-packages/sklearn/svm/base.py:193: FutureWarning: The default value of gamma will change from 'auto' to 'scale' in version 0.22 to account better for unscaled features. Set gamma explicitly to 'auto' or 'scale' to avoid this warning.\n",
      "  \"avoid this warning.\", FutureWarning)\n",
      "/home/jiading/.conda/envs/nn/lib/python3.7/site-packages/sklearn/svm/base.py:193: FutureWarning: The default value of gamma will change from 'auto' to 'scale' in version 0.22 to account better for unscaled features. Set gamma explicitly to 'auto' or 'scale' to avoid this warning.\n",
      "  \"avoid this warning.\", FutureWarning)\n",
      "/home/jiading/.conda/envs/nn/lib/python3.7/site-packages/sklearn/svm/base.py:193: FutureWarning: The default value of gamma will change from 'auto' to 'scale' in version 0.22 to account better for unscaled features. Set gamma explicitly to 'auto' or 'scale' to avoid this warning.\n",
      "  \"avoid this warning.\", FutureWarning)\n"
     ]
    },
    {
     "name": "stdout",
     "output_type": "stream",
     "text": [
      "score_rbf:0.588235\n",
      "score_linear:0.666667\n",
      "score_poly:0.588235\n",
      "\n",
      "The range of test data is [150,200]:\n",
      "score_rbf:0.588235\n",
      "score_linear:0.666667\n",
      "score_poly:0.588235\n",
      "\n",
      "The range of test data is [200,250]:\n",
      "score_rbf:0.560000\n",
      "score_linear:0.580000\n",
      "score_poly:0.560000\n",
      "---------------Preprocess and Normalize-----------------------\n",
      "\n",
      "The range of test data is [0,50]:\n"
     ]
    },
    {
     "name": "stderr",
     "output_type": "stream",
     "text": [
      "/home/jiading/.conda/envs/nn/lib/python3.7/site-packages/sklearn/svm/base.py:193: FutureWarning: The default value of gamma will change from 'auto' to 'scale' in version 0.22 to account better for unscaled features. Set gamma explicitly to 'auto' or 'scale' to avoid this warning.\n",
      "  \"avoid this warning.\", FutureWarning)\n",
      "/home/jiading/.conda/envs/nn/lib/python3.7/site-packages/sklearn/svm/base.py:193: FutureWarning: The default value of gamma will change from 'auto' to 'scale' in version 0.22 to account better for unscaled features. Set gamma explicitly to 'auto' or 'scale' to avoid this warning.\n",
      "  \"avoid this warning.\", FutureWarning)\n",
      "/home/jiading/.conda/envs/nn/lib/python3.7/site-packages/sklearn/svm/base.py:193: FutureWarning: The default value of gamma will change from 'auto' to 'scale' in version 0.22 to account better for unscaled features. Set gamma explicitly to 'auto' or 'scale' to avoid this warning.\n",
      "  \"avoid this warning.\", FutureWarning)\n"
     ]
    },
    {
     "name": "stdout",
     "output_type": "stream",
     "text": [
      "score_rbf:0.803922\n",
      "score_linear:0.647059\n",
      "score_poly:0.803922\n",
      "\n",
      "The range of test data is [50,100]:\n",
      "score_rbf:0.666667\n",
      "score_linear:0.647059\n",
      "score_poly:0.666667\n",
      "\n",
      "The range of test data is [100,150]:\n",
      "score_rbf:0.588235\n",
      "score_linear:0.725490\n",
      "score_poly:0.588235\n",
      "\n",
      "The range of test data is [150,200]:\n"
     ]
    },
    {
     "name": "stderr",
     "output_type": "stream",
     "text": [
      "/home/jiading/.conda/envs/nn/lib/python3.7/site-packages/sklearn/svm/base.py:193: FutureWarning: The default value of gamma will change from 'auto' to 'scale' in version 0.22 to account better for unscaled features. Set gamma explicitly to 'auto' or 'scale' to avoid this warning.\n",
      "  \"avoid this warning.\", FutureWarning)\n",
      "/home/jiading/.conda/envs/nn/lib/python3.7/site-packages/sklearn/svm/base.py:193: FutureWarning: The default value of gamma will change from 'auto' to 'scale' in version 0.22 to account better for unscaled features. Set gamma explicitly to 'auto' or 'scale' to avoid this warning.\n",
      "  \"avoid this warning.\", FutureWarning)\n",
      "/home/jiading/.conda/envs/nn/lib/python3.7/site-packages/sklearn/svm/base.py:193: FutureWarning: The default value of gamma will change from 'auto' to 'scale' in version 0.22 to account better for unscaled features. Set gamma explicitly to 'auto' or 'scale' to avoid this warning.\n",
      "  \"avoid this warning.\", FutureWarning)\n"
     ]
    },
    {
     "name": "stdout",
     "output_type": "stream",
     "text": [
      "score_rbf:0.588235\n",
      "score_linear:0.627451\n",
      "score_poly:0.588235\n",
      "\n",
      "The range of test data is [200,250]:\n",
      "score_rbf:0.560000\n",
      "score_linear:0.700000\n",
      "score_poly:0.560000\n",
      "############Gamma now is 22###############\n",
      "--------Without Normalize or preprocess-------\n",
      "\n",
      "The range of test data is [0,50]:\n",
      "score_rbf:0.803922\n",
      "score_linear:0.725490\n",
      "score_poly:0.803922\n",
      "\n",
      "The range of test data is [50,100]:\n"
     ]
    },
    {
     "name": "stderr",
     "output_type": "stream",
     "text": [
      "/home/jiading/.conda/envs/nn/lib/python3.7/site-packages/sklearn/svm/base.py:193: FutureWarning: The default value of gamma will change from 'auto' to 'scale' in version 0.22 to account better for unscaled features. Set gamma explicitly to 'auto' or 'scale' to avoid this warning.\n",
      "  \"avoid this warning.\", FutureWarning)\n",
      "/home/jiading/.conda/envs/nn/lib/python3.7/site-packages/sklearn/svm/base.py:193: FutureWarning: The default value of gamma will change from 'auto' to 'scale' in version 0.22 to account better for unscaled features. Set gamma explicitly to 'auto' or 'scale' to avoid this warning.\n",
      "  \"avoid this warning.\", FutureWarning)\n",
      "/home/jiading/.conda/envs/nn/lib/python3.7/site-packages/sklearn/svm/base.py:193: FutureWarning: The default value of gamma will change from 'auto' to 'scale' in version 0.22 to account better for unscaled features. Set gamma explicitly to 'auto' or 'scale' to avoid this warning.\n",
      "  \"avoid this warning.\", FutureWarning)\n"
     ]
    },
    {
     "name": "stdout",
     "output_type": "stream",
     "text": [
      "score_rbf:0.666667\n",
      "score_linear:0.686275\n",
      "score_poly:0.666667\n",
      "\n",
      "The range of test data is [100,150]:\n",
      "score_rbf:0.588235\n",
      "score_linear:0.764706\n",
      "score_poly:0.588235\n",
      "\n",
      "The range of test data is [150,200]:\n",
      "score_rbf:0.588235\n",
      "score_linear:0.666667\n"
     ]
    },
    {
     "name": "stderr",
     "output_type": "stream",
     "text": [
      "/home/jiading/.conda/envs/nn/lib/python3.7/site-packages/sklearn/svm/base.py:193: FutureWarning: The default value of gamma will change from 'auto' to 'scale' in version 0.22 to account better for unscaled features. Set gamma explicitly to 'auto' or 'scale' to avoid this warning.\n",
      "  \"avoid this warning.\", FutureWarning)\n",
      "/home/jiading/.conda/envs/nn/lib/python3.7/site-packages/sklearn/svm/base.py:193: FutureWarning: The default value of gamma will change from 'auto' to 'scale' in version 0.22 to account better for unscaled features. Set gamma explicitly to 'auto' or 'scale' to avoid this warning.\n",
      "  \"avoid this warning.\", FutureWarning)\n",
      "/home/jiading/.conda/envs/nn/lib/python3.7/site-packages/sklearn/svm/base.py:193: FutureWarning: The default value of gamma will change from 'auto' to 'scale' in version 0.22 to account better for unscaled features. Set gamma explicitly to 'auto' or 'scale' to avoid this warning.\n",
      "  \"avoid this warning.\", FutureWarning)\n"
     ]
    },
    {
     "name": "stdout",
     "output_type": "stream",
     "text": [
      "score_poly:0.588235\n",
      "\n",
      "The range of test data is [200,250]:\n",
      "score_rbf:0.560000\n",
      "score_linear:0.660000\n",
      "score_poly:0.560000\n",
      "----------------Preprocess--------------------\n",
      "\n",
      "The range of test data is [0,50]:\n",
      "score_rbf:0.803922\n",
      "score_linear:0.705882\n",
      "score_poly:0.803922\n",
      "\n",
      "The range of test data is [50,100]:\n",
      "score_rbf:0.666667\n",
      "score_linear:0.705882\n",
      "score_poly:0.666667\n",
      "\n",
      "The range of test data is [100,150]:\n",
      "score_rbf:0.588235\n",
      "score_linear:0.764706\n",
      "score_poly:0.588235\n",
      "\n",
      "The range of test data is [150,200]:\n",
      "score_rbf:0.588235\n",
      "score_linear:0.666667\n",
      "score_poly:0.588235\n",
      "\n",
      "The range of test data is [200,250]:\n",
      "score_rbf:0.560000\n",
      "score_linear:0.660000\n",
      "score_poly:0.560000\n",
      "---------------Normalize-----------------------\n",
      "\n",
      "The range of test data is [0,50]:\n",
      "score_rbf:0.803922\n",
      "score_linear:0.784314\n",
      "score_poly:0.803922\n",
      "\n",
      "The range of test data is [50,100]:\n"
     ]
    },
    {
     "name": "stderr",
     "output_type": "stream",
     "text": [
      "/home/jiading/.conda/envs/nn/lib/python3.7/site-packages/sklearn/svm/base.py:193: FutureWarning: The default value of gamma will change from 'auto' to 'scale' in version 0.22 to account better for unscaled features. Set gamma explicitly to 'auto' or 'scale' to avoid this warning.\n",
      "  \"avoid this warning.\", FutureWarning)\n",
      "/home/jiading/.conda/envs/nn/lib/python3.7/site-packages/sklearn/svm/base.py:193: FutureWarning: The default value of gamma will change from 'auto' to 'scale' in version 0.22 to account better for unscaled features. Set gamma explicitly to 'auto' or 'scale' to avoid this warning.\n",
      "  \"avoid this warning.\", FutureWarning)\n",
      "/home/jiading/.conda/envs/nn/lib/python3.7/site-packages/sklearn/svm/base.py:193: FutureWarning: The default value of gamma will change from 'auto' to 'scale' in version 0.22 to account better for unscaled features. Set gamma explicitly to 'auto' or 'scale' to avoid this warning.\n",
      "  \"avoid this warning.\", FutureWarning)\n"
     ]
    },
    {
     "name": "stdout",
     "output_type": "stream",
     "text": [
      "score_rbf:0.666667\n",
      "score_linear:0.745098\n",
      "score_poly:0.666667\n",
      "\n",
      "The range of test data is [100,150]:\n",
      "score_rbf:0.588235\n",
      "score_linear:0.666667\n",
      "score_poly:0.588235\n",
      "\n",
      "The range of test data is [150,200]:\n",
      "score_rbf:0.588235\n",
      "score_linear:0.666667\n",
      "score_poly:0.588235\n",
      "\n",
      "The range of test data is [200,250]:\n"
     ]
    },
    {
     "name": "stderr",
     "output_type": "stream",
     "text": [
      "/home/jiading/.conda/envs/nn/lib/python3.7/site-packages/sklearn/svm/base.py:193: FutureWarning: The default value of gamma will change from 'auto' to 'scale' in version 0.22 to account better for unscaled features. Set gamma explicitly to 'auto' or 'scale' to avoid this warning.\n",
      "  \"avoid this warning.\", FutureWarning)\n",
      "/home/jiading/.conda/envs/nn/lib/python3.7/site-packages/sklearn/svm/base.py:193: FutureWarning: The default value of gamma will change from 'auto' to 'scale' in version 0.22 to account better for unscaled features. Set gamma explicitly to 'auto' or 'scale' to avoid this warning.\n",
      "  \"avoid this warning.\", FutureWarning)\n",
      "/home/jiading/.conda/envs/nn/lib/python3.7/site-packages/sklearn/svm/base.py:193: FutureWarning: The default value of gamma will change from 'auto' to 'scale' in version 0.22 to account better for unscaled features. Set gamma explicitly to 'auto' or 'scale' to avoid this warning.\n",
      "  \"avoid this warning.\", FutureWarning)\n"
     ]
    },
    {
     "name": "stdout",
     "output_type": "stream",
     "text": [
      "score_rbf:0.560000\n",
      "score_linear:0.580000\n",
      "score_poly:0.560000\n",
      "---------------Preprocess and Normalize-----------------------\n",
      "\n",
      "The range of test data is [0,50]:\n",
      "score_rbf:0.803922\n",
      "score_linear:0.647059\n",
      "score_poly:0.803922\n",
      "\n",
      "The range of test data is [50,100]:\n",
      "score_rbf:0.666667\n",
      "score_linear:0.647059\n",
      "score_poly:0.666667\n",
      "\n",
      "The range of test data is [100,150]:\n"
     ]
    },
    {
     "name": "stderr",
     "output_type": "stream",
     "text": [
      "/home/jiading/.conda/envs/nn/lib/python3.7/site-packages/sklearn/svm/base.py:193: FutureWarning: The default value of gamma will change from 'auto' to 'scale' in version 0.22 to account better for unscaled features. Set gamma explicitly to 'auto' or 'scale' to avoid this warning.\n",
      "  \"avoid this warning.\", FutureWarning)\n",
      "/home/jiading/.conda/envs/nn/lib/python3.7/site-packages/sklearn/svm/base.py:193: FutureWarning: The default value of gamma will change from 'auto' to 'scale' in version 0.22 to account better for unscaled features. Set gamma explicitly to 'auto' or 'scale' to avoid this warning.\n",
      "  \"avoid this warning.\", FutureWarning)\n",
      "/home/jiading/.conda/envs/nn/lib/python3.7/site-packages/sklearn/svm/base.py:193: FutureWarning: The default value of gamma will change from 'auto' to 'scale' in version 0.22 to account better for unscaled features. Set gamma explicitly to 'auto' or 'scale' to avoid this warning.\n",
      "  \"avoid this warning.\", FutureWarning)\n"
     ]
    },
    {
     "name": "stdout",
     "output_type": "stream",
     "text": [
      "score_rbf:0.588235\n",
      "score_linear:0.725490\n",
      "score_poly:0.588235\n",
      "\n",
      "The range of test data is [150,200]:\n",
      "score_rbf:0.588235\n",
      "score_linear:0.627451\n",
      "score_poly:0.588235\n",
      "\n",
      "The range of test data is [200,250]:\n",
      "score_rbf:0.560000\n",
      "score_linear:0.700000\n",
      "score_poly:0.560000\n",
      "############Gamma now is 23###############\n",
      "--------Without Normalize or preprocess-------\n",
      "\n",
      "The range of test data is [0,50]:\n"
     ]
    },
    {
     "name": "stderr",
     "output_type": "stream",
     "text": [
      "/home/jiading/.conda/envs/nn/lib/python3.7/site-packages/sklearn/svm/base.py:193: FutureWarning: The default value of gamma will change from 'auto' to 'scale' in version 0.22 to account better for unscaled features. Set gamma explicitly to 'auto' or 'scale' to avoid this warning.\n",
      "  \"avoid this warning.\", FutureWarning)\n",
      "/home/jiading/.conda/envs/nn/lib/python3.7/site-packages/sklearn/svm/base.py:193: FutureWarning: The default value of gamma will change from 'auto' to 'scale' in version 0.22 to account better for unscaled features. Set gamma explicitly to 'auto' or 'scale' to avoid this warning.\n",
      "  \"avoid this warning.\", FutureWarning)\n",
      "/home/jiading/.conda/envs/nn/lib/python3.7/site-packages/sklearn/svm/base.py:193: FutureWarning: The default value of gamma will change from 'auto' to 'scale' in version 0.22 to account better for unscaled features. Set gamma explicitly to 'auto' or 'scale' to avoid this warning.\n",
      "  \"avoid this warning.\", FutureWarning)\n"
     ]
    },
    {
     "name": "stdout",
     "output_type": "stream",
     "text": [
      "score_rbf:0.803922\n",
      "score_linear:0.725490\n",
      "score_poly:0.803922\n",
      "\n",
      "The range of test data is [50,100]:\n",
      "score_rbf:0.666667\n",
      "score_linear:0.686275\n",
      "score_poly:0.666667\n",
      "\n",
      "The range of test data is [100,150]:\n",
      "score_rbf:0.588235\n",
      "score_linear:0.764706\n"
     ]
    },
    {
     "name": "stderr",
     "output_type": "stream",
     "text": [
      "/home/jiading/.conda/envs/nn/lib/python3.7/site-packages/sklearn/svm/base.py:193: FutureWarning: The default value of gamma will change from 'auto' to 'scale' in version 0.22 to account better for unscaled features. Set gamma explicitly to 'auto' or 'scale' to avoid this warning.\n",
      "  \"avoid this warning.\", FutureWarning)\n",
      "/home/jiading/.conda/envs/nn/lib/python3.7/site-packages/sklearn/svm/base.py:193: FutureWarning: The default value of gamma will change from 'auto' to 'scale' in version 0.22 to account better for unscaled features. Set gamma explicitly to 'auto' or 'scale' to avoid this warning.\n",
      "  \"avoid this warning.\", FutureWarning)\n",
      "/home/jiading/.conda/envs/nn/lib/python3.7/site-packages/sklearn/svm/base.py:193: FutureWarning: The default value of gamma will change from 'auto' to 'scale' in version 0.22 to account better for unscaled features. Set gamma explicitly to 'auto' or 'scale' to avoid this warning.\n",
      "  \"avoid this warning.\", FutureWarning)\n"
     ]
    },
    {
     "name": "stdout",
     "output_type": "stream",
     "text": [
      "score_poly:0.588235\n",
      "\n",
      "The range of test data is [150,200]:\n",
      "score_rbf:0.588235\n",
      "score_linear:0.666667\n",
      "score_poly:0.588235\n",
      "\n",
      "The range of test data is [200,250]:\n",
      "score_rbf:0.560000\n",
      "score_linear:0.660000\n",
      "score_poly:0.560000\n",
      "----------------Preprocess--------------------\n",
      "\n",
      "The range of test data is [0,50]:\n",
      "score_rbf:0.803922\n",
      "score_linear:0.705882\n",
      "score_poly:0.803922\n",
      "\n",
      "The range of test data is [50,100]:\n",
      "score_rbf:0.666667\n",
      "score_linear:0.705882\n",
      "score_poly:0.666667\n",
      "\n",
      "The range of test data is [100,150]:\n",
      "score_rbf:0.588235\n",
      "score_linear:0.764706\n",
      "score_poly:0.588235\n",
      "\n",
      "The range of test data is [150,200]:\n",
      "score_rbf:0.588235\n",
      "score_linear:0.666667\n",
      "score_poly:0.588235\n",
      "\n",
      "The range of test data is [200,250]:\n",
      "score_rbf:0.560000\n",
      "score_linear:0.660000\n",
      "score_poly:0.560000\n",
      "---------------Normalize-----------------------\n",
      "\n",
      "The range of test data is [0,50]:\n",
      "score_rbf:0.803922\n",
      "score_linear:0.784314\n",
      "score_poly:0.803922\n",
      "\n",
      "The range of test data is [50,100]:\n"
     ]
    },
    {
     "name": "stderr",
     "output_type": "stream",
     "text": [
      "/home/jiading/.conda/envs/nn/lib/python3.7/site-packages/sklearn/svm/base.py:193: FutureWarning: The default value of gamma will change from 'auto' to 'scale' in version 0.22 to account better for unscaled features. Set gamma explicitly to 'auto' or 'scale' to avoid this warning.\n",
      "  \"avoid this warning.\", FutureWarning)\n",
      "/home/jiading/.conda/envs/nn/lib/python3.7/site-packages/sklearn/svm/base.py:193: FutureWarning: The default value of gamma will change from 'auto' to 'scale' in version 0.22 to account better for unscaled features. Set gamma explicitly to 'auto' or 'scale' to avoid this warning.\n",
      "  \"avoid this warning.\", FutureWarning)\n",
      "/home/jiading/.conda/envs/nn/lib/python3.7/site-packages/sklearn/svm/base.py:193: FutureWarning: The default value of gamma will change from 'auto' to 'scale' in version 0.22 to account better for unscaled features. Set gamma explicitly to 'auto' or 'scale' to avoid this warning.\n",
      "  \"avoid this warning.\", FutureWarning)\n"
     ]
    },
    {
     "name": "stdout",
     "output_type": "stream",
     "text": [
      "score_rbf:0.666667\n",
      "score_linear:0.745098\n",
      "score_poly:0.666667\n",
      "\n",
      "The range of test data is [100,150]:\n",
      "score_rbf:0.588235\n",
      "score_linear:0.666667\n",
      "score_poly:0.588235\n",
      "\n",
      "The range of test data is [150,200]:\n",
      "score_rbf:0.588235\n",
      "score_linear:0.666667\n",
      "score_poly:0.588235\n",
      "\n",
      "The range of test data is [200,250]:\n"
     ]
    },
    {
     "name": "stderr",
     "output_type": "stream",
     "text": [
      "/home/jiading/.conda/envs/nn/lib/python3.7/site-packages/sklearn/svm/base.py:193: FutureWarning: The default value of gamma will change from 'auto' to 'scale' in version 0.22 to account better for unscaled features. Set gamma explicitly to 'auto' or 'scale' to avoid this warning.\n",
      "  \"avoid this warning.\", FutureWarning)\n",
      "/home/jiading/.conda/envs/nn/lib/python3.7/site-packages/sklearn/svm/base.py:193: FutureWarning: The default value of gamma will change from 'auto' to 'scale' in version 0.22 to account better for unscaled features. Set gamma explicitly to 'auto' or 'scale' to avoid this warning.\n",
      "  \"avoid this warning.\", FutureWarning)\n",
      "/home/jiading/.conda/envs/nn/lib/python3.7/site-packages/sklearn/svm/base.py:193: FutureWarning: The default value of gamma will change from 'auto' to 'scale' in version 0.22 to account better for unscaled features. Set gamma explicitly to 'auto' or 'scale' to avoid this warning.\n",
      "  \"avoid this warning.\", FutureWarning)\n"
     ]
    },
    {
     "name": "stdout",
     "output_type": "stream",
     "text": [
      "score_rbf:0.560000\n",
      "score_linear:0.580000\n",
      "score_poly:0.560000\n",
      "---------------Preprocess and Normalize-----------------------\n",
      "\n",
      "The range of test data is [0,50]:\n",
      "score_rbf:0.803922\n",
      "score_linear:0.647059\n",
      "score_poly:0.803922\n",
      "\n",
      "The range of test data is [50,100]:\n",
      "score_rbf:0.666667\n",
      "score_linear:0.647059\n",
      "score_poly:0.666667\n",
      "\n",
      "The range of test data is [100,150]:\n"
     ]
    },
    {
     "name": "stderr",
     "output_type": "stream",
     "text": [
      "/home/jiading/.conda/envs/nn/lib/python3.7/site-packages/sklearn/svm/base.py:193: FutureWarning: The default value of gamma will change from 'auto' to 'scale' in version 0.22 to account better for unscaled features. Set gamma explicitly to 'auto' or 'scale' to avoid this warning.\n",
      "  \"avoid this warning.\", FutureWarning)\n",
      "/home/jiading/.conda/envs/nn/lib/python3.7/site-packages/sklearn/svm/base.py:193: FutureWarning: The default value of gamma will change from 'auto' to 'scale' in version 0.22 to account better for unscaled features. Set gamma explicitly to 'auto' or 'scale' to avoid this warning.\n",
      "  \"avoid this warning.\", FutureWarning)\n",
      "/home/jiading/.conda/envs/nn/lib/python3.7/site-packages/sklearn/svm/base.py:193: FutureWarning: The default value of gamma will change from 'auto' to 'scale' in version 0.22 to account better for unscaled features. Set gamma explicitly to 'auto' or 'scale' to avoid this warning.\n",
      "  \"avoid this warning.\", FutureWarning)\n"
     ]
    },
    {
     "name": "stdout",
     "output_type": "stream",
     "text": [
      "score_rbf:0.588235\n",
      "score_linear:0.725490\n",
      "score_poly:0.588235\n",
      "\n",
      "The range of test data is [150,200]:\n",
      "score_rbf:0.588235\n",
      "score_linear:0.627451\n",
      "score_poly:0.588235\n",
      "\n",
      "The range of test data is [200,250]:\n",
      "score_rbf:0.560000\n",
      "score_linear:0.700000\n",
      "score_poly:0.560000\n",
      "############Gamma now is 24###############\n",
      "--------Without Normalize or preprocess-------\n",
      "\n",
      "The range of test data is [0,50]:\n"
     ]
    },
    {
     "name": "stderr",
     "output_type": "stream",
     "text": [
      "/home/jiading/.conda/envs/nn/lib/python3.7/site-packages/sklearn/svm/base.py:193: FutureWarning: The default value of gamma will change from 'auto' to 'scale' in version 0.22 to account better for unscaled features. Set gamma explicitly to 'auto' or 'scale' to avoid this warning.\n",
      "  \"avoid this warning.\", FutureWarning)\n",
      "/home/jiading/.conda/envs/nn/lib/python3.7/site-packages/sklearn/svm/base.py:193: FutureWarning: The default value of gamma will change from 'auto' to 'scale' in version 0.22 to account better for unscaled features. Set gamma explicitly to 'auto' or 'scale' to avoid this warning.\n",
      "  \"avoid this warning.\", FutureWarning)\n",
      "/home/jiading/.conda/envs/nn/lib/python3.7/site-packages/sklearn/svm/base.py:193: FutureWarning: The default value of gamma will change from 'auto' to 'scale' in version 0.22 to account better for unscaled features. Set gamma explicitly to 'auto' or 'scale' to avoid this warning.\n",
      "  \"avoid this warning.\", FutureWarning)\n"
     ]
    },
    {
     "name": "stdout",
     "output_type": "stream",
     "text": [
      "score_rbf:0.803922\n",
      "score_linear:0.725490\n",
      "score_poly:0.803922\n",
      "\n",
      "The range of test data is [50,100]:\n",
      "score_rbf:0.666667\n",
      "score_linear:0.686275\n",
      "score_poly:0.666667\n",
      "\n",
      "The range of test data is [100,150]:\n",
      "score_rbf:0.588235\n",
      "score_linear:0.764706\n"
     ]
    },
    {
     "name": "stderr",
     "output_type": "stream",
     "text": [
      "/home/jiading/.conda/envs/nn/lib/python3.7/site-packages/sklearn/svm/base.py:193: FutureWarning: The default value of gamma will change from 'auto' to 'scale' in version 0.22 to account better for unscaled features. Set gamma explicitly to 'auto' or 'scale' to avoid this warning.\n",
      "  \"avoid this warning.\", FutureWarning)\n",
      "/home/jiading/.conda/envs/nn/lib/python3.7/site-packages/sklearn/svm/base.py:193: FutureWarning: The default value of gamma will change from 'auto' to 'scale' in version 0.22 to account better for unscaled features. Set gamma explicitly to 'auto' or 'scale' to avoid this warning.\n",
      "  \"avoid this warning.\", FutureWarning)\n",
      "/home/jiading/.conda/envs/nn/lib/python3.7/site-packages/sklearn/svm/base.py:193: FutureWarning: The default value of gamma will change from 'auto' to 'scale' in version 0.22 to account better for unscaled features. Set gamma explicitly to 'auto' or 'scale' to avoid this warning.\n",
      "  \"avoid this warning.\", FutureWarning)\n"
     ]
    },
    {
     "name": "stdout",
     "output_type": "stream",
     "text": [
      "score_poly:0.588235\n",
      "\n",
      "The range of test data is [150,200]:\n",
      "score_rbf:0.588235\n",
      "score_linear:0.666667\n",
      "score_poly:0.588235\n",
      "\n",
      "The range of test data is [200,250]:\n",
      "score_rbf:0.560000\n",
      "score_linear:0.660000\n",
      "score_poly:0.560000\n",
      "----------------Preprocess--------------------\n",
      "\n",
      "The range of test data is [0,50]:\n",
      "score_rbf:0.803922\n",
      "score_linear:0.705882\n",
      "score_poly:0.803922\n",
      "\n",
      "The range of test data is [50,100]:\n",
      "score_rbf:0.666667\n",
      "score_linear:0.705882\n",
      "score_poly:0.666667\n",
      "\n",
      "The range of test data is [100,150]:\n",
      "score_rbf:0.588235\n",
      "score_linear:0.764706\n",
      "score_poly:0.588235\n",
      "\n",
      "The range of test data is [150,200]:\n",
      "score_rbf:0.588235\n",
      "score_linear:0.666667\n",
      "score_poly:0.588235\n",
      "\n",
      "The range of test data is [200,250]:\n",
      "score_rbf:0.560000\n",
      "score_linear:0.660000\n",
      "score_poly:0.560000\n",
      "---------------Normalize-----------------------\n",
      "\n",
      "The range of test data is [0,50]:\n",
      "score_rbf:0.803922\n",
      "score_linear:0.784314\n",
      "score_poly:0.803922\n",
      "\n",
      "The range of test data is [50,100]:\n",
      "score_rbf:0.666667\n",
      "score_linear:0.745098\n",
      "score_poly:0.666667\n",
      "\n",
      "The range of test data is [100,150]:\n",
      "score_rbf:0.588235\n",
      "score_linear:0.666667\n",
      "score_poly:0.588235\n",
      "\n",
      "The range of test data is [150,200]:\n"
     ]
    },
    {
     "name": "stderr",
     "output_type": "stream",
     "text": [
      "/home/jiading/.conda/envs/nn/lib/python3.7/site-packages/sklearn/svm/base.py:193: FutureWarning: The default value of gamma will change from 'auto' to 'scale' in version 0.22 to account better for unscaled features. Set gamma explicitly to 'auto' or 'scale' to avoid this warning.\n",
      "  \"avoid this warning.\", FutureWarning)\n",
      "/home/jiading/.conda/envs/nn/lib/python3.7/site-packages/sklearn/svm/base.py:193: FutureWarning: The default value of gamma will change from 'auto' to 'scale' in version 0.22 to account better for unscaled features. Set gamma explicitly to 'auto' or 'scale' to avoid this warning.\n",
      "  \"avoid this warning.\", FutureWarning)\n",
      "/home/jiading/.conda/envs/nn/lib/python3.7/site-packages/sklearn/svm/base.py:193: FutureWarning: The default value of gamma will change from 'auto' to 'scale' in version 0.22 to account better for unscaled features. Set gamma explicitly to 'auto' or 'scale' to avoid this warning.\n",
      "  \"avoid this warning.\", FutureWarning)\n"
     ]
    },
    {
     "name": "stdout",
     "output_type": "stream",
     "text": [
      "score_rbf:0.588235\n",
      "score_linear:0.666667\n",
      "score_poly:0.588235\n",
      "\n",
      "The range of test data is [200,250]:\n",
      "score_rbf:0.560000\n",
      "score_linear:0.580000\n",
      "score_poly:0.560000\n",
      "---------------Preprocess and Normalize-----------------------\n",
      "\n",
      "The range of test data is [0,50]:\n",
      "score_rbf:0.803922\n",
      "score_linear:0.647059\n",
      "score_poly:0.803922\n",
      "\n",
      "The range of test data is [50,100]:\n"
     ]
    },
    {
     "name": "stderr",
     "output_type": "stream",
     "text": [
      "/home/jiading/.conda/envs/nn/lib/python3.7/site-packages/sklearn/svm/base.py:193: FutureWarning: The default value of gamma will change from 'auto' to 'scale' in version 0.22 to account better for unscaled features. Set gamma explicitly to 'auto' or 'scale' to avoid this warning.\n",
      "  \"avoid this warning.\", FutureWarning)\n",
      "/home/jiading/.conda/envs/nn/lib/python3.7/site-packages/sklearn/svm/base.py:193: FutureWarning: The default value of gamma will change from 'auto' to 'scale' in version 0.22 to account better for unscaled features. Set gamma explicitly to 'auto' or 'scale' to avoid this warning.\n",
      "  \"avoid this warning.\", FutureWarning)\n",
      "/home/jiading/.conda/envs/nn/lib/python3.7/site-packages/sklearn/svm/base.py:193: FutureWarning: The default value of gamma will change from 'auto' to 'scale' in version 0.22 to account better for unscaled features. Set gamma explicitly to 'auto' or 'scale' to avoid this warning.\n",
      "  \"avoid this warning.\", FutureWarning)\n"
     ]
    },
    {
     "name": "stdout",
     "output_type": "stream",
     "text": [
      "score_rbf:0.666667\n",
      "score_linear:0.647059\n",
      "score_poly:0.666667\n",
      "\n",
      "The range of test data is [100,150]:\n",
      "score_rbf:0.588235\n",
      "score_linear:0.725490\n",
      "score_poly:0.588235\n",
      "\n",
      "The range of test data is [150,200]:\n",
      "score_rbf:0.588235\n",
      "score_linear:0.627451\n",
      "score_poly:0.588235\n",
      "\n",
      "The range of test data is [200,250]:\n"
     ]
    },
    {
     "name": "stderr",
     "output_type": "stream",
     "text": [
      "/home/jiading/.conda/envs/nn/lib/python3.7/site-packages/sklearn/svm/base.py:193: FutureWarning: The default value of gamma will change from 'auto' to 'scale' in version 0.22 to account better for unscaled features. Set gamma explicitly to 'auto' or 'scale' to avoid this warning.\n",
      "  \"avoid this warning.\", FutureWarning)\n",
      "/home/jiading/.conda/envs/nn/lib/python3.7/site-packages/sklearn/svm/base.py:193: FutureWarning: The default value of gamma will change from 'auto' to 'scale' in version 0.22 to account better for unscaled features. Set gamma explicitly to 'auto' or 'scale' to avoid this warning.\n",
      "  \"avoid this warning.\", FutureWarning)\n",
      "/home/jiading/.conda/envs/nn/lib/python3.7/site-packages/sklearn/svm/base.py:193: FutureWarning: The default value of gamma will change from 'auto' to 'scale' in version 0.22 to account better for unscaled features. Set gamma explicitly to 'auto' or 'scale' to avoid this warning.\n",
      "  \"avoid this warning.\", FutureWarning)\n"
     ]
    },
    {
     "name": "stdout",
     "output_type": "stream",
     "text": [
      "score_rbf:0.560000\n",
      "score_linear:0.700000\n",
      "score_poly:0.560000\n",
      "############Gamma now is 25###############\n",
      "--------Without Normalize or preprocess-------\n",
      "\n",
      "The range of test data is [0,50]:\n",
      "score_rbf:0.803922\n",
      "score_linear:0.725490\n",
      "score_poly:0.803922\n",
      "\n",
      "The range of test data is [50,100]:\n",
      "score_rbf:0.666667\n",
      "score_linear:0.686275\n",
      "score_poly:0.666667\n",
      "\n",
      "The range of test data is [100,150]:\n"
     ]
    },
    {
     "name": "stderr",
     "output_type": "stream",
     "text": [
      "/home/jiading/.conda/envs/nn/lib/python3.7/site-packages/sklearn/svm/base.py:193: FutureWarning: The default value of gamma will change from 'auto' to 'scale' in version 0.22 to account better for unscaled features. Set gamma explicitly to 'auto' or 'scale' to avoid this warning.\n",
      "  \"avoid this warning.\", FutureWarning)\n",
      "/home/jiading/.conda/envs/nn/lib/python3.7/site-packages/sklearn/svm/base.py:193: FutureWarning: The default value of gamma will change from 'auto' to 'scale' in version 0.22 to account better for unscaled features. Set gamma explicitly to 'auto' or 'scale' to avoid this warning.\n",
      "  \"avoid this warning.\", FutureWarning)\n",
      "/home/jiading/.conda/envs/nn/lib/python3.7/site-packages/sklearn/svm/base.py:193: FutureWarning: The default value of gamma will change from 'auto' to 'scale' in version 0.22 to account better for unscaled features. Set gamma explicitly to 'auto' or 'scale' to avoid this warning.\n",
      "  \"avoid this warning.\", FutureWarning)\n"
     ]
    },
    {
     "name": "stdout",
     "output_type": "stream",
     "text": [
      "score_rbf:0.588235\n",
      "score_linear:0.764706\n",
      "score_poly:0.588235\n",
      "\n",
      "The range of test data is [150,200]:\n",
      "score_rbf:0.588235\n",
      "score_linear:0.666667\n",
      "score_poly:0.588235\n",
      "\n",
      "The range of test data is [200,250]:\n",
      "score_rbf:0.560000\n",
      "score_linear:0.660000\n"
     ]
    },
    {
     "name": "stderr",
     "output_type": "stream",
     "text": [
      "/home/jiading/.conda/envs/nn/lib/python3.7/site-packages/sklearn/svm/base.py:193: FutureWarning: The default value of gamma will change from 'auto' to 'scale' in version 0.22 to account better for unscaled features. Set gamma explicitly to 'auto' or 'scale' to avoid this warning.\n",
      "  \"avoid this warning.\", FutureWarning)\n",
      "/home/jiading/.conda/envs/nn/lib/python3.7/site-packages/sklearn/svm/base.py:193: FutureWarning: The default value of gamma will change from 'auto' to 'scale' in version 0.22 to account better for unscaled features. Set gamma explicitly to 'auto' or 'scale' to avoid this warning.\n",
      "  \"avoid this warning.\", FutureWarning)\n",
      "/home/jiading/.conda/envs/nn/lib/python3.7/site-packages/sklearn/svm/base.py:193: FutureWarning: The default value of gamma will change from 'auto' to 'scale' in version 0.22 to account better for unscaled features. Set gamma explicitly to 'auto' or 'scale' to avoid this warning.\n",
      "  \"avoid this warning.\", FutureWarning)\n"
     ]
    },
    {
     "name": "stdout",
     "output_type": "stream",
     "text": [
      "score_poly:0.560000\n",
      "----------------Preprocess--------------------\n",
      "\n",
      "The range of test data is [0,50]:\n",
      "score_rbf:0.803922\n",
      "score_linear:0.705882\n",
      "score_poly:0.803922\n",
      "\n",
      "The range of test data is [50,100]:\n",
      "score_rbf:0.666667\n",
      "score_linear:0.705882\n",
      "score_poly:0.666667\n",
      "\n",
      "The range of test data is [100,150]:\n",
      "score_rbf:0.588235\n",
      "score_linear:0.764706\n",
      "score_poly:0.588235\n",
      "\n",
      "The range of test data is [150,200]:\n",
      "score_rbf:0.588235\n",
      "score_linear:0.666667\n",
      "score_poly:0.588235\n",
      "\n",
      "The range of test data is [200,250]:\n",
      "score_rbf:0.560000\n",
      "score_linear:0.660000\n",
      "score_poly:0.560000\n",
      "---------------Normalize-----------------------\n",
      "\n",
      "The range of test data is [0,50]:\n",
      "score_rbf:0.803922\n",
      "score_linear:0.784314\n",
      "score_poly:0.803922\n",
      "\n",
      "The range of test data is [50,100]:\n",
      "score_rbf:0.666667\n",
      "score_linear:0.745098\n",
      "score_poly:0.666667\n",
      "\n",
      "The range of test data is [100,150]:\n"
     ]
    },
    {
     "name": "stderr",
     "output_type": "stream",
     "text": [
      "/home/jiading/.conda/envs/nn/lib/python3.7/site-packages/sklearn/svm/base.py:193: FutureWarning: The default value of gamma will change from 'auto' to 'scale' in version 0.22 to account better for unscaled features. Set gamma explicitly to 'auto' or 'scale' to avoid this warning.\n",
      "  \"avoid this warning.\", FutureWarning)\n",
      "/home/jiading/.conda/envs/nn/lib/python3.7/site-packages/sklearn/svm/base.py:193: FutureWarning: The default value of gamma will change from 'auto' to 'scale' in version 0.22 to account better for unscaled features. Set gamma explicitly to 'auto' or 'scale' to avoid this warning.\n",
      "  \"avoid this warning.\", FutureWarning)\n",
      "/home/jiading/.conda/envs/nn/lib/python3.7/site-packages/sklearn/svm/base.py:193: FutureWarning: The default value of gamma will change from 'auto' to 'scale' in version 0.22 to account better for unscaled features. Set gamma explicitly to 'auto' or 'scale' to avoid this warning.\n",
      "  \"avoid this warning.\", FutureWarning)\n"
     ]
    },
    {
     "name": "stdout",
     "output_type": "stream",
     "text": [
      "score_rbf:0.588235\n",
      "score_linear:0.666667\n",
      "score_poly:0.588235\n",
      "\n",
      "The range of test data is [150,200]:\n",
      "score_rbf:0.588235\n",
      "score_linear:0.666667\n",
      "score_poly:0.588235\n",
      "\n",
      "The range of test data is [200,250]:\n",
      "score_rbf:0.560000\n",
      "score_linear:0.580000\n",
      "score_poly:0.560000\n",
      "---------------Preprocess and Normalize-----------------------\n",
      "\n",
      "The range of test data is [0,50]:\n"
     ]
    },
    {
     "name": "stderr",
     "output_type": "stream",
     "text": [
      "/home/jiading/.conda/envs/nn/lib/python3.7/site-packages/sklearn/svm/base.py:193: FutureWarning: The default value of gamma will change from 'auto' to 'scale' in version 0.22 to account better for unscaled features. Set gamma explicitly to 'auto' or 'scale' to avoid this warning.\n",
      "  \"avoid this warning.\", FutureWarning)\n",
      "/home/jiading/.conda/envs/nn/lib/python3.7/site-packages/sklearn/svm/base.py:193: FutureWarning: The default value of gamma will change from 'auto' to 'scale' in version 0.22 to account better for unscaled features. Set gamma explicitly to 'auto' or 'scale' to avoid this warning.\n",
      "  \"avoid this warning.\", FutureWarning)\n",
      "/home/jiading/.conda/envs/nn/lib/python3.7/site-packages/sklearn/svm/base.py:193: FutureWarning: The default value of gamma will change from 'auto' to 'scale' in version 0.22 to account better for unscaled features. Set gamma explicitly to 'auto' or 'scale' to avoid this warning.\n",
      "  \"avoid this warning.\", FutureWarning)\n"
     ]
    },
    {
     "name": "stdout",
     "output_type": "stream",
     "text": [
      "score_rbf:0.803922\n",
      "score_linear:0.647059\n",
      "score_poly:0.803922\n",
      "\n",
      "The range of test data is [50,100]:\n",
      "score_rbf:0.666667\n",
      "score_linear:0.647059\n",
      "score_poly:0.666667\n",
      "\n",
      "The range of test data is [100,150]:\n",
      "score_rbf:0.588235\n",
      "score_linear:0.725490\n",
      "score_poly:0.588235\n",
      "\n",
      "The range of test data is [150,200]:\n"
     ]
    },
    {
     "name": "stderr",
     "output_type": "stream",
     "text": [
      "/home/jiading/.conda/envs/nn/lib/python3.7/site-packages/sklearn/svm/base.py:193: FutureWarning: The default value of gamma will change from 'auto' to 'scale' in version 0.22 to account better for unscaled features. Set gamma explicitly to 'auto' or 'scale' to avoid this warning.\n",
      "  \"avoid this warning.\", FutureWarning)\n",
      "/home/jiading/.conda/envs/nn/lib/python3.7/site-packages/sklearn/svm/base.py:193: FutureWarning: The default value of gamma will change from 'auto' to 'scale' in version 0.22 to account better for unscaled features. Set gamma explicitly to 'auto' or 'scale' to avoid this warning.\n",
      "  \"avoid this warning.\", FutureWarning)\n",
      "/home/jiading/.conda/envs/nn/lib/python3.7/site-packages/sklearn/svm/base.py:193: FutureWarning: The default value of gamma will change from 'auto' to 'scale' in version 0.22 to account better for unscaled features. Set gamma explicitly to 'auto' or 'scale' to avoid this warning.\n",
      "  \"avoid this warning.\", FutureWarning)\n"
     ]
    },
    {
     "name": "stdout",
     "output_type": "stream",
     "text": [
      "score_rbf:0.588235\n",
      "score_linear:0.627451\n",
      "score_poly:0.588235\n",
      "\n",
      "The range of test data is [200,250]:\n",
      "score_rbf:0.560000\n",
      "score_linear:0.700000\n",
      "score_poly:0.560000\n",
      "############Gamma now is 26###############\n",
      "--------Without Normalize or preprocess-------\n",
      "\n",
      "The range of test data is [0,50]:\n",
      "score_rbf:0.803922\n",
      "score_linear:0.725490\n",
      "score_poly:0.803922\n",
      "\n",
      "The range of test data is [50,100]:\n"
     ]
    },
    {
     "name": "stderr",
     "output_type": "stream",
     "text": [
      "/home/jiading/.conda/envs/nn/lib/python3.7/site-packages/sklearn/svm/base.py:193: FutureWarning: The default value of gamma will change from 'auto' to 'scale' in version 0.22 to account better for unscaled features. Set gamma explicitly to 'auto' or 'scale' to avoid this warning.\n",
      "  \"avoid this warning.\", FutureWarning)\n",
      "/home/jiading/.conda/envs/nn/lib/python3.7/site-packages/sklearn/svm/base.py:193: FutureWarning: The default value of gamma will change from 'auto' to 'scale' in version 0.22 to account better for unscaled features. Set gamma explicitly to 'auto' or 'scale' to avoid this warning.\n",
      "  \"avoid this warning.\", FutureWarning)\n",
      "/home/jiading/.conda/envs/nn/lib/python3.7/site-packages/sklearn/svm/base.py:193: FutureWarning: The default value of gamma will change from 'auto' to 'scale' in version 0.22 to account better for unscaled features. Set gamma explicitly to 'auto' or 'scale' to avoid this warning.\n",
      "  \"avoid this warning.\", FutureWarning)\n"
     ]
    },
    {
     "name": "stdout",
     "output_type": "stream",
     "text": [
      "score_rbf:0.666667\n",
      "score_linear:0.686275\n",
      "score_poly:0.666667\n",
      "\n",
      "The range of test data is [100,150]:\n",
      "score_rbf:0.588235\n",
      "score_linear:0.764706\n",
      "score_poly:0.588235\n",
      "\n",
      "The range of test data is [150,200]:\n",
      "score_rbf:0.588235\n",
      "score_linear:0.666667\n"
     ]
    },
    {
     "name": "stderr",
     "output_type": "stream",
     "text": [
      "/home/jiading/.conda/envs/nn/lib/python3.7/site-packages/sklearn/svm/base.py:193: FutureWarning: The default value of gamma will change from 'auto' to 'scale' in version 0.22 to account better for unscaled features. Set gamma explicitly to 'auto' or 'scale' to avoid this warning.\n",
      "  \"avoid this warning.\", FutureWarning)\n",
      "/home/jiading/.conda/envs/nn/lib/python3.7/site-packages/sklearn/svm/base.py:193: FutureWarning: The default value of gamma will change from 'auto' to 'scale' in version 0.22 to account better for unscaled features. Set gamma explicitly to 'auto' or 'scale' to avoid this warning.\n",
      "  \"avoid this warning.\", FutureWarning)\n",
      "/home/jiading/.conda/envs/nn/lib/python3.7/site-packages/sklearn/svm/base.py:193: FutureWarning: The default value of gamma will change from 'auto' to 'scale' in version 0.22 to account better for unscaled features. Set gamma explicitly to 'auto' or 'scale' to avoid this warning.\n",
      "  \"avoid this warning.\", FutureWarning)\n"
     ]
    },
    {
     "name": "stdout",
     "output_type": "stream",
     "text": [
      "score_poly:0.588235\n",
      "\n",
      "The range of test data is [200,250]:\n",
      "score_rbf:0.560000\n",
      "score_linear:0.660000\n",
      "score_poly:0.560000\n",
      "----------------Preprocess--------------------\n",
      "\n",
      "The range of test data is [0,50]:\n",
      "score_rbf:0.803922\n",
      "score_linear:0.705882\n",
      "score_poly:0.803922\n",
      "\n",
      "The range of test data is [50,100]:\n",
      "score_rbf:0.666667\n",
      "score_linear:0.705882\n",
      "score_poly:0.666667\n",
      "\n",
      "The range of test data is [100,150]:\n",
      "score_rbf:0.588235\n",
      "score_linear:0.764706\n",
      "score_poly:0.588235\n",
      "\n",
      "The range of test data is [150,200]:\n",
      "score_rbf:0.588235\n",
      "score_linear:0.666667\n",
      "score_poly:0.588235\n",
      "\n",
      "The range of test data is [200,250]:\n",
      "score_rbf:0.560000\n",
      "score_linear:0.660000\n",
      "score_poly:0.560000\n",
      "---------------Normalize-----------------------\n",
      "\n",
      "The range of test data is [0,50]:\n",
      "score_rbf:0.803922\n",
      "score_linear:0.784314\n",
      "score_poly:0.803922\n",
      "\n",
      "The range of test data is [50,100]:\n"
     ]
    },
    {
     "name": "stderr",
     "output_type": "stream",
     "text": [
      "/home/jiading/.conda/envs/nn/lib/python3.7/site-packages/sklearn/svm/base.py:193: FutureWarning: The default value of gamma will change from 'auto' to 'scale' in version 0.22 to account better for unscaled features. Set gamma explicitly to 'auto' or 'scale' to avoid this warning.\n",
      "  \"avoid this warning.\", FutureWarning)\n",
      "/home/jiading/.conda/envs/nn/lib/python3.7/site-packages/sklearn/svm/base.py:193: FutureWarning: The default value of gamma will change from 'auto' to 'scale' in version 0.22 to account better for unscaled features. Set gamma explicitly to 'auto' or 'scale' to avoid this warning.\n",
      "  \"avoid this warning.\", FutureWarning)\n",
      "/home/jiading/.conda/envs/nn/lib/python3.7/site-packages/sklearn/svm/base.py:193: FutureWarning: The default value of gamma will change from 'auto' to 'scale' in version 0.22 to account better for unscaled features. Set gamma explicitly to 'auto' or 'scale' to avoid this warning.\n",
      "  \"avoid this warning.\", FutureWarning)\n"
     ]
    },
    {
     "name": "stdout",
     "output_type": "stream",
     "text": [
      "score_rbf:0.666667\n",
      "score_linear:0.745098\n",
      "score_poly:0.666667\n",
      "\n",
      "The range of test data is [100,150]:\n",
      "score_rbf:0.588235\n",
      "score_linear:0.666667\n",
      "score_poly:0.588235\n",
      "\n",
      "The range of test data is [150,200]:\n",
      "score_rbf:0.588235\n",
      "score_linear:0.666667\n",
      "score_poly:0.588235\n",
      "\n",
      "The range of test data is [200,250]:\n"
     ]
    },
    {
     "name": "stderr",
     "output_type": "stream",
     "text": [
      "/home/jiading/.conda/envs/nn/lib/python3.7/site-packages/sklearn/svm/base.py:193: FutureWarning: The default value of gamma will change from 'auto' to 'scale' in version 0.22 to account better for unscaled features. Set gamma explicitly to 'auto' or 'scale' to avoid this warning.\n",
      "  \"avoid this warning.\", FutureWarning)\n",
      "/home/jiading/.conda/envs/nn/lib/python3.7/site-packages/sklearn/svm/base.py:193: FutureWarning: The default value of gamma will change from 'auto' to 'scale' in version 0.22 to account better for unscaled features. Set gamma explicitly to 'auto' or 'scale' to avoid this warning.\n",
      "  \"avoid this warning.\", FutureWarning)\n",
      "/home/jiading/.conda/envs/nn/lib/python3.7/site-packages/sklearn/svm/base.py:193: FutureWarning: The default value of gamma will change from 'auto' to 'scale' in version 0.22 to account better for unscaled features. Set gamma explicitly to 'auto' or 'scale' to avoid this warning.\n",
      "  \"avoid this warning.\", FutureWarning)\n"
     ]
    },
    {
     "name": "stdout",
     "output_type": "stream",
     "text": [
      "score_rbf:0.560000\n",
      "score_linear:0.580000\n",
      "score_poly:0.560000\n",
      "---------------Preprocess and Normalize-----------------------\n",
      "\n",
      "The range of test data is [0,50]:\n",
      "score_rbf:0.803922\n",
      "score_linear:0.647059\n",
      "score_poly:0.803922\n",
      "\n",
      "The range of test data is [50,100]:\n",
      "score_rbf:0.666667\n",
      "score_linear:0.647059\n",
      "score_poly:0.666667\n",
      "\n",
      "The range of test data is [100,150]:\n"
     ]
    },
    {
     "name": "stderr",
     "output_type": "stream",
     "text": [
      "/home/jiading/.conda/envs/nn/lib/python3.7/site-packages/sklearn/svm/base.py:193: FutureWarning: The default value of gamma will change from 'auto' to 'scale' in version 0.22 to account better for unscaled features. Set gamma explicitly to 'auto' or 'scale' to avoid this warning.\n",
      "  \"avoid this warning.\", FutureWarning)\n",
      "/home/jiading/.conda/envs/nn/lib/python3.7/site-packages/sklearn/svm/base.py:193: FutureWarning: The default value of gamma will change from 'auto' to 'scale' in version 0.22 to account better for unscaled features. Set gamma explicitly to 'auto' or 'scale' to avoid this warning.\n",
      "  \"avoid this warning.\", FutureWarning)\n",
      "/home/jiading/.conda/envs/nn/lib/python3.7/site-packages/sklearn/svm/base.py:193: FutureWarning: The default value of gamma will change from 'auto' to 'scale' in version 0.22 to account better for unscaled features. Set gamma explicitly to 'auto' or 'scale' to avoid this warning.\n",
      "  \"avoid this warning.\", FutureWarning)\n"
     ]
    },
    {
     "name": "stdout",
     "output_type": "stream",
     "text": [
      "score_rbf:0.588235\n",
      "score_linear:0.725490\n",
      "score_poly:0.588235\n",
      "\n",
      "The range of test data is [150,200]:\n",
      "score_rbf:0.588235\n",
      "score_linear:0.627451\n",
      "score_poly:0.588235\n",
      "\n",
      "The range of test data is [200,250]:\n",
      "score_rbf:0.560000\n",
      "score_linear:0.700000\n",
      "score_poly:0.560000\n",
      "############Gamma now is 27###############\n",
      "--------Without Normalize or preprocess-------\n",
      "\n",
      "The range of test data is [0,50]:\n"
     ]
    },
    {
     "name": "stderr",
     "output_type": "stream",
     "text": [
      "/home/jiading/.conda/envs/nn/lib/python3.7/site-packages/sklearn/svm/base.py:193: FutureWarning: The default value of gamma will change from 'auto' to 'scale' in version 0.22 to account better for unscaled features. Set gamma explicitly to 'auto' or 'scale' to avoid this warning.\n",
      "  \"avoid this warning.\", FutureWarning)\n",
      "/home/jiading/.conda/envs/nn/lib/python3.7/site-packages/sklearn/svm/base.py:193: FutureWarning: The default value of gamma will change from 'auto' to 'scale' in version 0.22 to account better for unscaled features. Set gamma explicitly to 'auto' or 'scale' to avoid this warning.\n",
      "  \"avoid this warning.\", FutureWarning)\n",
      "/home/jiading/.conda/envs/nn/lib/python3.7/site-packages/sklearn/svm/base.py:193: FutureWarning: The default value of gamma will change from 'auto' to 'scale' in version 0.22 to account better for unscaled features. Set gamma explicitly to 'auto' or 'scale' to avoid this warning.\n",
      "  \"avoid this warning.\", FutureWarning)\n"
     ]
    },
    {
     "name": "stdout",
     "output_type": "stream",
     "text": [
      "score_rbf:0.803922\n",
      "score_linear:0.725490\n",
      "score_poly:0.803922\n",
      "\n",
      "The range of test data is [50,100]:\n",
      "score_rbf:0.666667\n",
      "score_linear:0.686275\n",
      "score_poly:0.666667\n",
      "\n",
      "The range of test data is [100,150]:\n",
      "score_rbf:0.588235\n",
      "score_linear:0.764706\n"
     ]
    },
    {
     "name": "stderr",
     "output_type": "stream",
     "text": [
      "/home/jiading/.conda/envs/nn/lib/python3.7/site-packages/sklearn/svm/base.py:193: FutureWarning: The default value of gamma will change from 'auto' to 'scale' in version 0.22 to account better for unscaled features. Set gamma explicitly to 'auto' or 'scale' to avoid this warning.\n",
      "  \"avoid this warning.\", FutureWarning)\n",
      "/home/jiading/.conda/envs/nn/lib/python3.7/site-packages/sklearn/svm/base.py:193: FutureWarning: The default value of gamma will change from 'auto' to 'scale' in version 0.22 to account better for unscaled features. Set gamma explicitly to 'auto' or 'scale' to avoid this warning.\n",
      "  \"avoid this warning.\", FutureWarning)\n",
      "/home/jiading/.conda/envs/nn/lib/python3.7/site-packages/sklearn/svm/base.py:193: FutureWarning: The default value of gamma will change from 'auto' to 'scale' in version 0.22 to account better for unscaled features. Set gamma explicitly to 'auto' or 'scale' to avoid this warning.\n",
      "  \"avoid this warning.\", FutureWarning)\n"
     ]
    },
    {
     "name": "stdout",
     "output_type": "stream",
     "text": [
      "score_poly:0.588235\n",
      "\n",
      "The range of test data is [150,200]:\n",
      "score_rbf:0.588235\n",
      "score_linear:0.666667\n",
      "score_poly:0.588235\n",
      "\n",
      "The range of test data is [200,250]:\n",
      "score_rbf:0.560000\n",
      "score_linear:0.660000\n",
      "score_poly:0.560000\n",
      "----------------Preprocess--------------------\n",
      "\n",
      "The range of test data is [0,50]:\n",
      "score_rbf:0.803922\n",
      "score_linear:0.705882\n",
      "score_poly:0.803922\n",
      "\n",
      "The range of test data is [50,100]:\n",
      "score_rbf:0.666667\n",
      "score_linear:0.705882\n",
      "score_poly:0.666667\n",
      "\n",
      "The range of test data is [100,150]:\n",
      "score_rbf:0.588235\n",
      "score_linear:0.764706\n",
      "score_poly:0.588235\n",
      "\n",
      "The range of test data is [150,200]:\n",
      "score_rbf:0.588235\n",
      "score_linear:0.666667\n",
      "score_poly:0.588235\n",
      "\n",
      "The range of test data is [200,250]:\n",
      "score_rbf:0.560000\n",
      "score_linear:0.660000\n",
      "score_poly:0.560000\n",
      "---------------Normalize-----------------------\n",
      "\n",
      "The range of test data is [0,50]:\n",
      "score_rbf:0.803922\n",
      "score_linear:0.784314\n",
      "score_poly:0.803922\n",
      "\n",
      "The range of test data is [50,100]:\n",
      "score_rbf:0.666667\n",
      "score_linear:0.745098\n",
      "score_poly:0.666667\n",
      "\n",
      "The range of test data is [100,150]:\n",
      "score_rbf:0.588235\n",
      "score_linear:0.666667\n",
      "score_poly:0.588235\n",
      "\n",
      "The range of test data is [150,200]:\n"
     ]
    },
    {
     "name": "stderr",
     "output_type": "stream",
     "text": [
      "/home/jiading/.conda/envs/nn/lib/python3.7/site-packages/sklearn/svm/base.py:193: FutureWarning: The default value of gamma will change from 'auto' to 'scale' in version 0.22 to account better for unscaled features. Set gamma explicitly to 'auto' or 'scale' to avoid this warning.\n",
      "  \"avoid this warning.\", FutureWarning)\n",
      "/home/jiading/.conda/envs/nn/lib/python3.7/site-packages/sklearn/svm/base.py:193: FutureWarning: The default value of gamma will change from 'auto' to 'scale' in version 0.22 to account better for unscaled features. Set gamma explicitly to 'auto' or 'scale' to avoid this warning.\n",
      "  \"avoid this warning.\", FutureWarning)\n",
      "/home/jiading/.conda/envs/nn/lib/python3.7/site-packages/sklearn/svm/base.py:193: FutureWarning: The default value of gamma will change from 'auto' to 'scale' in version 0.22 to account better for unscaled features. Set gamma explicitly to 'auto' or 'scale' to avoid this warning.\n",
      "  \"avoid this warning.\", FutureWarning)\n"
     ]
    },
    {
     "name": "stdout",
     "output_type": "stream",
     "text": [
      "score_rbf:0.588235\n",
      "score_linear:0.666667\n",
      "score_poly:0.588235\n",
      "\n",
      "The range of test data is [200,250]:\n",
      "score_rbf:0.560000\n",
      "score_linear:0.580000\n",
      "score_poly:0.560000\n",
      "---------------Preprocess and Normalize-----------------------\n",
      "\n",
      "The range of test data is [0,50]:\n",
      "score_rbf:0.803922\n",
      "score_linear:0.647059\n",
      "score_poly:0.803922\n",
      "\n",
      "The range of test data is [50,100]:\n"
     ]
    },
    {
     "name": "stderr",
     "output_type": "stream",
     "text": [
      "/home/jiading/.conda/envs/nn/lib/python3.7/site-packages/sklearn/svm/base.py:193: FutureWarning: The default value of gamma will change from 'auto' to 'scale' in version 0.22 to account better for unscaled features. Set gamma explicitly to 'auto' or 'scale' to avoid this warning.\n",
      "  \"avoid this warning.\", FutureWarning)\n",
      "/home/jiading/.conda/envs/nn/lib/python3.7/site-packages/sklearn/svm/base.py:193: FutureWarning: The default value of gamma will change from 'auto' to 'scale' in version 0.22 to account better for unscaled features. Set gamma explicitly to 'auto' or 'scale' to avoid this warning.\n",
      "  \"avoid this warning.\", FutureWarning)\n",
      "/home/jiading/.conda/envs/nn/lib/python3.7/site-packages/sklearn/svm/base.py:193: FutureWarning: The default value of gamma will change from 'auto' to 'scale' in version 0.22 to account better for unscaled features. Set gamma explicitly to 'auto' or 'scale' to avoid this warning.\n",
      "  \"avoid this warning.\", FutureWarning)\n"
     ]
    },
    {
     "name": "stdout",
     "output_type": "stream",
     "text": [
      "score_rbf:0.666667\n",
      "score_linear:0.647059\n",
      "score_poly:0.666667\n",
      "\n",
      "The range of test data is [100,150]:\n",
      "score_rbf:0.588235\n",
      "score_linear:0.725490\n",
      "score_poly:0.588235\n",
      "\n",
      "The range of test data is [150,200]:\n",
      "score_rbf:0.588235\n",
      "score_linear:0.627451\n",
      "score_poly:0.588235\n",
      "\n",
      "The range of test data is [200,250]:\n"
     ]
    },
    {
     "name": "stderr",
     "output_type": "stream",
     "text": [
      "/home/jiading/.conda/envs/nn/lib/python3.7/site-packages/sklearn/svm/base.py:193: FutureWarning: The default value of gamma will change from 'auto' to 'scale' in version 0.22 to account better for unscaled features. Set gamma explicitly to 'auto' or 'scale' to avoid this warning.\n",
      "  \"avoid this warning.\", FutureWarning)\n",
      "/home/jiading/.conda/envs/nn/lib/python3.7/site-packages/sklearn/svm/base.py:193: FutureWarning: The default value of gamma will change from 'auto' to 'scale' in version 0.22 to account better for unscaled features. Set gamma explicitly to 'auto' or 'scale' to avoid this warning.\n",
      "  \"avoid this warning.\", FutureWarning)\n",
      "/home/jiading/.conda/envs/nn/lib/python3.7/site-packages/sklearn/svm/base.py:193: FutureWarning: The default value of gamma will change from 'auto' to 'scale' in version 0.22 to account better for unscaled features. Set gamma explicitly to 'auto' or 'scale' to avoid this warning.\n",
      "  \"avoid this warning.\", FutureWarning)\n"
     ]
    },
    {
     "name": "stdout",
     "output_type": "stream",
     "text": [
      "score_rbf:0.560000\n",
      "score_linear:0.700000\n",
      "score_poly:0.560000\n",
      "############Gamma now is 28###############\n",
      "--------Without Normalize or preprocess-------\n",
      "\n",
      "The range of test data is [0,50]:\n",
      "score_rbf:0.803922\n",
      "score_linear:0.725490\n",
      "score_poly:0.803922\n",
      "\n",
      "The range of test data is [50,100]:\n",
      "score_rbf:0.666667\n",
      "score_linear:0.686275\n",
      "score_poly:0.666667\n",
      "\n",
      "The range of test data is [100,150]:\n"
     ]
    },
    {
     "name": "stderr",
     "output_type": "stream",
     "text": [
      "/home/jiading/.conda/envs/nn/lib/python3.7/site-packages/sklearn/svm/base.py:193: FutureWarning: The default value of gamma will change from 'auto' to 'scale' in version 0.22 to account better for unscaled features. Set gamma explicitly to 'auto' or 'scale' to avoid this warning.\n",
      "  \"avoid this warning.\", FutureWarning)\n",
      "/home/jiading/.conda/envs/nn/lib/python3.7/site-packages/sklearn/svm/base.py:193: FutureWarning: The default value of gamma will change from 'auto' to 'scale' in version 0.22 to account better for unscaled features. Set gamma explicitly to 'auto' or 'scale' to avoid this warning.\n",
      "  \"avoid this warning.\", FutureWarning)\n",
      "/home/jiading/.conda/envs/nn/lib/python3.7/site-packages/sklearn/svm/base.py:193: FutureWarning: The default value of gamma will change from 'auto' to 'scale' in version 0.22 to account better for unscaled features. Set gamma explicitly to 'auto' or 'scale' to avoid this warning.\n",
      "  \"avoid this warning.\", FutureWarning)\n"
     ]
    },
    {
     "name": "stdout",
     "output_type": "stream",
     "text": [
      "score_rbf:0.588235\n",
      "score_linear:0.764706\n",
      "score_poly:0.588235\n",
      "\n",
      "The range of test data is [150,200]:\n",
      "score_rbf:0.588235\n",
      "score_linear:0.666667\n",
      "score_poly:0.588235\n",
      "\n",
      "The range of test data is [200,250]:\n",
      "score_rbf:0.560000\n",
      "score_linear:0.660000\n"
     ]
    },
    {
     "name": "stderr",
     "output_type": "stream",
     "text": [
      "/home/jiading/.conda/envs/nn/lib/python3.7/site-packages/sklearn/svm/base.py:193: FutureWarning: The default value of gamma will change from 'auto' to 'scale' in version 0.22 to account better for unscaled features. Set gamma explicitly to 'auto' or 'scale' to avoid this warning.\n",
      "  \"avoid this warning.\", FutureWarning)\n",
      "/home/jiading/.conda/envs/nn/lib/python3.7/site-packages/sklearn/svm/base.py:193: FutureWarning: The default value of gamma will change from 'auto' to 'scale' in version 0.22 to account better for unscaled features. Set gamma explicitly to 'auto' or 'scale' to avoid this warning.\n",
      "  \"avoid this warning.\", FutureWarning)\n",
      "/home/jiading/.conda/envs/nn/lib/python3.7/site-packages/sklearn/svm/base.py:193: FutureWarning: The default value of gamma will change from 'auto' to 'scale' in version 0.22 to account better for unscaled features. Set gamma explicitly to 'auto' or 'scale' to avoid this warning.\n",
      "  \"avoid this warning.\", FutureWarning)\n"
     ]
    },
    {
     "name": "stdout",
     "output_type": "stream",
     "text": [
      "score_poly:0.560000\n",
      "----------------Preprocess--------------------\n",
      "\n",
      "The range of test data is [0,50]:\n",
      "score_rbf:0.803922\n",
      "score_linear:0.705882\n",
      "score_poly:0.803922\n",
      "\n",
      "The range of test data is [50,100]:\n",
      "score_rbf:0.666667\n",
      "score_linear:0.705882\n",
      "score_poly:0.666667\n",
      "\n",
      "The range of test data is [100,150]:\n",
      "score_rbf:0.588235\n",
      "score_linear:0.764706\n",
      "score_poly:0.588235\n",
      "\n",
      "The range of test data is [150,200]:\n",
      "score_rbf:0.588235\n",
      "score_linear:0.666667\n",
      "score_poly:0.588235\n",
      "\n",
      "The range of test data is [200,250]:\n",
      "score_rbf:0.560000\n",
      "score_linear:0.660000\n",
      "score_poly:0.560000\n",
      "---------------Normalize-----------------------\n",
      "\n",
      "The range of test data is [0,50]:\n",
      "score_rbf:0.803922\n",
      "score_linear:0.784314\n",
      "score_poly:0.803922\n",
      "\n",
      "The range of test data is [50,100]:\n",
      "score_rbf:0.666667\n",
      "score_linear:0.745098\n",
      "score_poly:0.666667\n",
      "\n",
      "The range of test data is [100,150]:\n"
     ]
    },
    {
     "name": "stderr",
     "output_type": "stream",
     "text": [
      "/home/jiading/.conda/envs/nn/lib/python3.7/site-packages/sklearn/svm/base.py:193: FutureWarning: The default value of gamma will change from 'auto' to 'scale' in version 0.22 to account better for unscaled features. Set gamma explicitly to 'auto' or 'scale' to avoid this warning.\n",
      "  \"avoid this warning.\", FutureWarning)\n",
      "/home/jiading/.conda/envs/nn/lib/python3.7/site-packages/sklearn/svm/base.py:193: FutureWarning: The default value of gamma will change from 'auto' to 'scale' in version 0.22 to account better for unscaled features. Set gamma explicitly to 'auto' or 'scale' to avoid this warning.\n",
      "  \"avoid this warning.\", FutureWarning)\n",
      "/home/jiading/.conda/envs/nn/lib/python3.7/site-packages/sklearn/svm/base.py:193: FutureWarning: The default value of gamma will change from 'auto' to 'scale' in version 0.22 to account better for unscaled features. Set gamma explicitly to 'auto' or 'scale' to avoid this warning.\n",
      "  \"avoid this warning.\", FutureWarning)\n"
     ]
    },
    {
     "name": "stdout",
     "output_type": "stream",
     "text": [
      "score_rbf:0.588235\n",
      "score_linear:0.666667\n",
      "score_poly:0.588235\n",
      "\n",
      "The range of test data is [150,200]:\n",
      "score_rbf:0.588235\n",
      "score_linear:0.666667\n",
      "score_poly:0.588235\n",
      "\n",
      "The range of test data is [200,250]:\n",
      "score_rbf:0.560000\n",
      "score_linear:0.580000\n",
      "score_poly:0.560000\n",
      "---------------Preprocess and Normalize-----------------------\n",
      "\n",
      "The range of test data is [0,50]:\n"
     ]
    },
    {
     "name": "stderr",
     "output_type": "stream",
     "text": [
      "/home/jiading/.conda/envs/nn/lib/python3.7/site-packages/sklearn/svm/base.py:193: FutureWarning: The default value of gamma will change from 'auto' to 'scale' in version 0.22 to account better for unscaled features. Set gamma explicitly to 'auto' or 'scale' to avoid this warning.\n",
      "  \"avoid this warning.\", FutureWarning)\n",
      "/home/jiading/.conda/envs/nn/lib/python3.7/site-packages/sklearn/svm/base.py:193: FutureWarning: The default value of gamma will change from 'auto' to 'scale' in version 0.22 to account better for unscaled features. Set gamma explicitly to 'auto' or 'scale' to avoid this warning.\n",
      "  \"avoid this warning.\", FutureWarning)\n",
      "/home/jiading/.conda/envs/nn/lib/python3.7/site-packages/sklearn/svm/base.py:193: FutureWarning: The default value of gamma will change from 'auto' to 'scale' in version 0.22 to account better for unscaled features. Set gamma explicitly to 'auto' or 'scale' to avoid this warning.\n",
      "  \"avoid this warning.\", FutureWarning)\n"
     ]
    },
    {
     "name": "stdout",
     "output_type": "stream",
     "text": [
      "score_rbf:0.803922\n",
      "score_linear:0.647059\n",
      "score_poly:0.803922\n",
      "\n",
      "The range of test data is [50,100]:\n",
      "score_rbf:0.666667\n",
      "score_linear:0.647059\n",
      "score_poly:0.666667\n",
      "\n",
      "The range of test data is [100,150]:\n",
      "score_rbf:0.588235\n",
      "score_linear:0.725490\n",
      "score_poly:0.588235\n",
      "\n",
      "The range of test data is [150,200]:\n"
     ]
    },
    {
     "name": "stderr",
     "output_type": "stream",
     "text": [
      "/home/jiading/.conda/envs/nn/lib/python3.7/site-packages/sklearn/svm/base.py:193: FutureWarning: The default value of gamma will change from 'auto' to 'scale' in version 0.22 to account better for unscaled features. Set gamma explicitly to 'auto' or 'scale' to avoid this warning.\n",
      "  \"avoid this warning.\", FutureWarning)\n",
      "/home/jiading/.conda/envs/nn/lib/python3.7/site-packages/sklearn/svm/base.py:193: FutureWarning: The default value of gamma will change from 'auto' to 'scale' in version 0.22 to account better for unscaled features. Set gamma explicitly to 'auto' or 'scale' to avoid this warning.\n",
      "  \"avoid this warning.\", FutureWarning)\n",
      "/home/jiading/.conda/envs/nn/lib/python3.7/site-packages/sklearn/svm/base.py:193: FutureWarning: The default value of gamma will change from 'auto' to 'scale' in version 0.22 to account better for unscaled features. Set gamma explicitly to 'auto' or 'scale' to avoid this warning.\n",
      "  \"avoid this warning.\", FutureWarning)\n"
     ]
    },
    {
     "name": "stdout",
     "output_type": "stream",
     "text": [
      "score_rbf:0.588235\n",
      "score_linear:0.627451\n",
      "score_poly:0.588235\n",
      "\n",
      "The range of test data is [200,250]:\n",
      "score_rbf:0.560000\n",
      "score_linear:0.700000\n",
      "score_poly:0.560000\n",
      "############Gamma now is 29###############\n",
      "--------Without Normalize or preprocess-------\n",
      "\n",
      "The range of test data is [0,50]:\n",
      "score_rbf:0.803922\n",
      "score_linear:0.725490\n",
      "score_poly:0.803922\n",
      "\n",
      "The range of test data is [50,100]:\n"
     ]
    },
    {
     "name": "stderr",
     "output_type": "stream",
     "text": [
      "/home/jiading/.conda/envs/nn/lib/python3.7/site-packages/sklearn/svm/base.py:193: FutureWarning: The default value of gamma will change from 'auto' to 'scale' in version 0.22 to account better for unscaled features. Set gamma explicitly to 'auto' or 'scale' to avoid this warning.\n",
      "  \"avoid this warning.\", FutureWarning)\n",
      "/home/jiading/.conda/envs/nn/lib/python3.7/site-packages/sklearn/svm/base.py:193: FutureWarning: The default value of gamma will change from 'auto' to 'scale' in version 0.22 to account better for unscaled features. Set gamma explicitly to 'auto' or 'scale' to avoid this warning.\n",
      "  \"avoid this warning.\", FutureWarning)\n",
      "/home/jiading/.conda/envs/nn/lib/python3.7/site-packages/sklearn/svm/base.py:193: FutureWarning: The default value of gamma will change from 'auto' to 'scale' in version 0.22 to account better for unscaled features. Set gamma explicitly to 'auto' or 'scale' to avoid this warning.\n",
      "  \"avoid this warning.\", FutureWarning)\n"
     ]
    },
    {
     "name": "stdout",
     "output_type": "stream",
     "text": [
      "score_rbf:0.666667\n",
      "score_linear:0.686275\n",
      "score_poly:0.666667\n",
      "\n",
      "The range of test data is [100,150]:\n",
      "score_rbf:0.588235\n",
      "score_linear:0.764706\n",
      "score_poly:0.588235\n",
      "\n",
      "The range of test data is [150,200]:\n",
      "score_rbf:0.588235\n",
      "score_linear:0.666667\n"
     ]
    },
    {
     "name": "stderr",
     "output_type": "stream",
     "text": [
      "/home/jiading/.conda/envs/nn/lib/python3.7/site-packages/sklearn/svm/base.py:193: FutureWarning: The default value of gamma will change from 'auto' to 'scale' in version 0.22 to account better for unscaled features. Set gamma explicitly to 'auto' or 'scale' to avoid this warning.\n",
      "  \"avoid this warning.\", FutureWarning)\n",
      "/home/jiading/.conda/envs/nn/lib/python3.7/site-packages/sklearn/svm/base.py:193: FutureWarning: The default value of gamma will change from 'auto' to 'scale' in version 0.22 to account better for unscaled features. Set gamma explicitly to 'auto' or 'scale' to avoid this warning.\n",
      "  \"avoid this warning.\", FutureWarning)\n",
      "/home/jiading/.conda/envs/nn/lib/python3.7/site-packages/sklearn/svm/base.py:193: FutureWarning: The default value of gamma will change from 'auto' to 'scale' in version 0.22 to account better for unscaled features. Set gamma explicitly to 'auto' or 'scale' to avoid this warning.\n",
      "  \"avoid this warning.\", FutureWarning)\n"
     ]
    },
    {
     "name": "stdout",
     "output_type": "stream",
     "text": [
      "score_poly:0.588235\n",
      "\n",
      "The range of test data is [200,250]:\n",
      "score_rbf:0.560000\n",
      "score_linear:0.660000\n",
      "score_poly:0.560000\n",
      "----------------Preprocess--------------------\n",
      "\n",
      "The range of test data is [0,50]:\n",
      "score_rbf:0.803922\n",
      "score_linear:0.705882\n",
      "score_poly:0.803922\n",
      "\n",
      "The range of test data is [50,100]:\n",
      "score_rbf:0.666667\n",
      "score_linear:0.705882\n",
      "score_poly:0.666667\n",
      "\n",
      "The range of test data is [100,150]:\n",
      "score_rbf:0.588235\n",
      "score_linear:0.764706\n",
      "score_poly:0.588235\n",
      "\n",
      "The range of test data is [150,200]:\n",
      "score_rbf:0.588235\n",
      "score_linear:0.666667\n",
      "score_poly:0.588235\n",
      "\n",
      "The range of test data is [200,250]:\n",
      "score_rbf:0.560000\n",
      "score_linear:0.660000\n",
      "score_poly:0.560000\n",
      "---------------Normalize-----------------------\n",
      "\n",
      "The range of test data is [0,50]:\n",
      "score_rbf:0.803922\n",
      "score_linear:0.784314\n",
      "score_poly:0.803922\n",
      "\n",
      "The range of test data is [50,100]:\n"
     ]
    },
    {
     "name": "stderr",
     "output_type": "stream",
     "text": [
      "/home/jiading/.conda/envs/nn/lib/python3.7/site-packages/sklearn/svm/base.py:193: FutureWarning: The default value of gamma will change from 'auto' to 'scale' in version 0.22 to account better for unscaled features. Set gamma explicitly to 'auto' or 'scale' to avoid this warning.\n",
      "  \"avoid this warning.\", FutureWarning)\n",
      "/home/jiading/.conda/envs/nn/lib/python3.7/site-packages/sklearn/svm/base.py:193: FutureWarning: The default value of gamma will change from 'auto' to 'scale' in version 0.22 to account better for unscaled features. Set gamma explicitly to 'auto' or 'scale' to avoid this warning.\n",
      "  \"avoid this warning.\", FutureWarning)\n",
      "/home/jiading/.conda/envs/nn/lib/python3.7/site-packages/sklearn/svm/base.py:193: FutureWarning: The default value of gamma will change from 'auto' to 'scale' in version 0.22 to account better for unscaled features. Set gamma explicitly to 'auto' or 'scale' to avoid this warning.\n",
      "  \"avoid this warning.\", FutureWarning)\n"
     ]
    },
    {
     "name": "stdout",
     "output_type": "stream",
     "text": [
      "score_rbf:0.666667\n",
      "score_linear:0.745098\n",
      "score_poly:0.666667\n",
      "\n",
      "The range of test data is [100,150]:\n",
      "score_rbf:0.588235\n",
      "score_linear:0.666667\n",
      "score_poly:0.588235\n",
      "\n",
      "The range of test data is [150,200]:\n",
      "score_rbf:0.588235\n",
      "score_linear:0.666667\n",
      "score_poly:0.588235\n",
      "\n",
      "The range of test data is [200,250]:\n"
     ]
    },
    {
     "name": "stderr",
     "output_type": "stream",
     "text": [
      "/home/jiading/.conda/envs/nn/lib/python3.7/site-packages/sklearn/svm/base.py:193: FutureWarning: The default value of gamma will change from 'auto' to 'scale' in version 0.22 to account better for unscaled features. Set gamma explicitly to 'auto' or 'scale' to avoid this warning.\n",
      "  \"avoid this warning.\", FutureWarning)\n",
      "/home/jiading/.conda/envs/nn/lib/python3.7/site-packages/sklearn/svm/base.py:193: FutureWarning: The default value of gamma will change from 'auto' to 'scale' in version 0.22 to account better for unscaled features. Set gamma explicitly to 'auto' or 'scale' to avoid this warning.\n",
      "  \"avoid this warning.\", FutureWarning)\n",
      "/home/jiading/.conda/envs/nn/lib/python3.7/site-packages/sklearn/svm/base.py:193: FutureWarning: The default value of gamma will change from 'auto' to 'scale' in version 0.22 to account better for unscaled features. Set gamma explicitly to 'auto' or 'scale' to avoid this warning.\n",
      "  \"avoid this warning.\", FutureWarning)\n"
     ]
    },
    {
     "name": "stdout",
     "output_type": "stream",
     "text": [
      "score_rbf:0.560000\n",
      "score_linear:0.580000\n",
      "score_poly:0.560000\n",
      "---------------Preprocess and Normalize-----------------------\n",
      "\n",
      "The range of test data is [0,50]:\n",
      "score_rbf:0.803922\n",
      "score_linear:0.647059\n",
      "score_poly:0.803922\n",
      "\n",
      "The range of test data is [50,100]:\n",
      "score_rbf:0.666667\n",
      "score_linear:0.647059\n",
      "score_poly:0.666667\n",
      "\n",
      "The range of test data is [100,150]:\n"
     ]
    },
    {
     "name": "stderr",
     "output_type": "stream",
     "text": [
      "/home/jiading/.conda/envs/nn/lib/python3.7/site-packages/sklearn/svm/base.py:193: FutureWarning: The default value of gamma will change from 'auto' to 'scale' in version 0.22 to account better for unscaled features. Set gamma explicitly to 'auto' or 'scale' to avoid this warning.\n",
      "  \"avoid this warning.\", FutureWarning)\n",
      "/home/jiading/.conda/envs/nn/lib/python3.7/site-packages/sklearn/svm/base.py:193: FutureWarning: The default value of gamma will change from 'auto' to 'scale' in version 0.22 to account better for unscaled features. Set gamma explicitly to 'auto' or 'scale' to avoid this warning.\n",
      "  \"avoid this warning.\", FutureWarning)\n",
      "/home/jiading/.conda/envs/nn/lib/python3.7/site-packages/sklearn/svm/base.py:193: FutureWarning: The default value of gamma will change from 'auto' to 'scale' in version 0.22 to account better for unscaled features. Set gamma explicitly to 'auto' or 'scale' to avoid this warning.\n",
      "  \"avoid this warning.\", FutureWarning)\n"
     ]
    },
    {
     "name": "stdout",
     "output_type": "stream",
     "text": [
      "score_rbf:0.588235\n",
      "score_linear:0.725490\n",
      "score_poly:0.588235\n",
      "\n",
      "The range of test data is [150,200]:\n",
      "score_rbf:0.588235\n",
      "score_linear:0.627451\n",
      "score_poly:0.588235\n",
      "\n",
      "The range of test data is [200,250]:\n",
      "score_rbf:0.560000\n",
      "score_linear:0.700000\n",
      "score_poly:0.560000\n"
     ]
    },
    {
     "name": "stderr",
     "output_type": "stream",
     "text": [
      "/home/jiading/.conda/envs/nn/lib/python3.7/site-packages/sklearn/svm/base.py:193: FutureWarning: The default value of gamma will change from 'auto' to 'scale' in version 0.22 to account better for unscaled features. Set gamma explicitly to 'auto' or 'scale' to avoid this warning.\n",
      "  \"avoid this warning.\", FutureWarning)\n"
     ]
    }
   ],
   "source": [
    "from sklearn.svm import SVC\n",
    "from sklearn import preprocessing\n",
    "import numpy as np\n",
    "def loadDataSet(fileName,fromLine,toLine,avoidFrom=0,avoidTo=0,ifPreprocess=False,ifNormalize=False):\n",
    "    dataMat=[]\n",
    "    labelMat=[]\n",
    "    inFile=open(fileName)\n",
    "    inFile.readline()\n",
    "    lineNumber=0\n",
    "    for line in inFile.readlines():\n",
    "        if(avoidFrom!=avoidTo):\n",
    "            if((lineNumber<=toLine and lineNumber>=fromLine) and (lineNumber<avoidFrom or lineNumber>avoidTo)):\n",
    "                tempMat=[]\n",
    "                lineArr=line.split(',')\n",
    "                labelMat.append(float(lineArr[1]))\n",
    "                for element in lineArr[2:]:\n",
    "                    tempMat.append(float(element))\n",
    "                dataMat.append(tempMat)\n",
    "                lineNumber+=1\n",
    "            elif(lineNumber>toLine):\n",
    "                break\n",
    "            else:\n",
    "                lineNumber+=1\n",
    "                continue\n",
    "        else:\n",
    "            if(lineNumber<=toLine and lineNumber>=fromLine):\n",
    "                tempMat=[]\n",
    "                lineArr=line.split(',')\n",
    "                labelMat.append(float(lineArr[1]))\n",
    "                for element in lineArr[2:]:\n",
    "                    tempMat.append(float(element))\n",
    "                dataMat.append(tempMat)\n",
    "                lineNumber+=1\n",
    "            elif(lineNumber<toLine):\n",
    "                lineNumber+=1\n",
    "                continue\n",
    "            else:\n",
    "                break\n",
    "    if(ifPreprocess):\n",
    "        dataMat=preprocessing.scale(dataMat)\n",
    "    if(ifNormalize):\n",
    "        normalizer = preprocessing.Normalizer().fit(dataMat)\n",
    "        dataMat=normalizer.transform(dataMat)\n",
    "    return dataMat,labelMat\n",
    "def main():\n",
    "    print(\"Trying gamma from 1 to 30\")\n",
    "    gammaList=list(range(1,30,1))\n",
    "    for gammaE in gammaList:\n",
    "        print(\"############Gamma now is %d###############\"%gammaE)\n",
    "        print(\"--------Without Normalize or preprocess-------\")\n",
    "        #choose the best part of testing\n",
    "        Testsize=50\n",
    "        testRange=list(range(0,250,Testsize))\n",
    "        for begin in testRange:\n",
    "            print(\"\\nThe range of test data is [%d,%d]:\"%(begin,begin+Testsize))\n",
    "            X,y=loadDataSet(\"train.csv\",0,249,begin,begin+Testsize)\n",
    "            Xtest,ytest=loadDataSet(\"train.csv\",begin,begin+Testsize)\n",
    "            clf_rbf=SVC(kernel='rbf',gamma=gammaE)#use the  rbf kernel function\n",
    "            clf_rbf.fit(X,y)\n",
    "            score_rbf=clf_rbf.score(Xtest,ytest)\n",
    "            print(\"score_rbf:%f\"%score_rbf)\n",
    "            clf_linear=SVC(kernel='linear')#use the  rbf kernel function\n",
    "            clf_linear.fit(X,y)\n",
    "            score_linear=clf_linear.score(Xtest,ytest)\n",
    "            print(\"score_linear:%f\"%score_linear)\n",
    "            clf_poly=SVC(kernel='poly')#use the  rbf kernel function\n",
    "            clf_poly.fit(X,y)\n",
    "            score_poly=clf_poly.score(Xtest,ytest)\n",
    "            print(\"score_poly:%f\"%score_poly)\n",
    "        print(\"----------------Preprocess--------------------\")\n",
    "        #choose the best part of testing\n",
    "        Testsize=50\n",
    "        testRange=list(range(0,250,Testsize))\n",
    "        for begin in testRange:\n",
    "            print(\"\\nThe range of test data is [%d,%d]:\"%(begin,begin+Testsize))\n",
    "            X,y=loadDataSet(\"train.csv\",0,249,begin,begin+Testsize,True)\n",
    "            Xtest,ytest=loadDataSet(\"train.csv\",begin,begin+Testsize,True)\n",
    "            clf_rbf=SVC(kernel='rbf',gamma=gammaE)#use the  rbf kernel function\n",
    "            clf_rbf.fit(X,y)\n",
    "            score_rbf=clf_rbf.score(Xtest,ytest)\n",
    "            print(\"score_rbf:%f\"%score_rbf)\n",
    "            clf_linear=SVC(kernel='linear')#use the  rbf kernel function\n",
    "            clf_linear.fit(X,y)\n",
    "            score_linear=clf_linear.score(Xtest,ytest)\n",
    "            print(\"score_linear:%f\"%score_linear)\n",
    "            clf_poly=SVC(kernel='poly')#use the  rbf kernel function\n",
    "            clf_poly.fit(X,y)\n",
    "            score_poly=clf_poly.score(Xtest,ytest)\n",
    "            print(\"score_poly:%f\"%score_poly)\n",
    "        print(\"---------------Normalize-----------------------\")\n",
    "        Testsize=50\n",
    "        testRange=list(range(0,250,Testsize))\n",
    "        for begin in testRange:\n",
    "            print(\"\\nThe range of test data is [%d,%d]:\"%(begin,begin+Testsize))\n",
    "            X,y=loadDataSet(\"train.csv\",0,249,begin,begin+Testsize,ifNormalize=True)\n",
    "            Xtest,ytest=loadDataSet(\"train.csv\",begin,begin+Testsize,ifNormalize=True)\n",
    "            clf_rbf=SVC(kernel='rbf',gamma=gammaE)#use the  rbf kernel function\n",
    "            clf_rbf.fit(X,y)\n",
    "            score_rbf=clf_rbf.score(Xtest,ytest)\n",
    "            print(\"score_rbf:%f\"%score_rbf)\n",
    "            clf_linear=SVC(kernel='linear')#use the  rbf kernel function\n",
    "            clf_linear.fit(X,y)\n",
    "            score_linear=clf_linear.score(Xtest,ytest)\n",
    "            print(\"score_linear:%f\"%score_linear)\n",
    "            clf_poly=SVC(kernel='poly')#use the  rbf kernel function\n",
    "            clf_poly.fit(X,y)\n",
    "            score_poly=clf_poly.score(Xtest,ytest)\n",
    "            print(\"score_poly:%f\"%score_poly)\n",
    "        print(\"---------------Preprocess and Normalize-----------------------\")\n",
    "        Testsize=50\n",
    "        testRange=list(range(0,250,Testsize))\n",
    "        for begin in testRange:\n",
    "            print(\"\\nThe range of test data is [%d,%d]:\"%(begin,begin+Testsize))\n",
    "            X,y=loadDataSet(\"train.csv\",0,249,begin,begin+Testsize,True,True)\n",
    "            Xtest,ytest=loadDataSet(\"train.csv\",begin,begin+Testsize,True,True)\n",
    "            clf_rbf=SVC(kernel='rbf',gamma=gammaE)#use the  rbf kernel function\n",
    "            clf_rbf.fit(X,y)\n",
    "            score_rbf=clf_rbf.score(Xtest,ytest)\n",
    "            print(\"score_rbf:%f\"%score_rbf)\n",
    "            clf_linear=SVC(kernel='linear')#use the  rbf kernel function\n",
    "            clf_linear.fit(X,y)\n",
    "            score_linear=clf_linear.score(Xtest,ytest)\n",
    "            print(\"score_linear:%f\"%score_linear)\n",
    "            clf_poly=SVC(kernel='poly')#use the  rbf kernel function\n",
    "            clf_poly.fit(X,y)\n",
    "            score_poly=clf_poly.score(Xtest,ytest)\n",
    "            print(\"score_poly:%f\"%score_poly)\n",
    "main()"
   ]
  },
  {
   "cell_type": "markdown",
   "metadata": {},
   "source": [
    "SVM模型有两个非常重要的参数C与gamma。\n",
    "\n",
    "其中 C是惩罚系数，即对误差的宽容度。c越高，说明越不能容忍出现误差,容易过拟合。C越小，容易欠拟合。C过大或过小，泛化能力变差\n",
    "\n",
    "gamma是选择RBF函数作为kernel后，该函数自带的一个参数。隐含地决定了数据映射到新的特征空间后的分布，gamma越大，支持向量越少，gamma值越小，支持向量越多。支持向量的个数影响训练与预测的速度。"
   ]
  },
  {
   "cell_type": "code",
   "execution_count": 1,
   "metadata": {},
   "outputs": [],
   "source": [
    "#A test\n",
    "#use rbf and preprocess\n",
    "from sklearn.svm import SVC\n",
    "from sklearn import preprocessing\n",
    "import numpy as np\n",
    "def loadDataSet(fileName,fromLine,toLine,avoidFrom=0,avoidTo=0,ifPreprocess=False,ifNormalize=False):\n",
    "    dataMat=[]\n",
    "    labelMat=[]\n",
    "    inFile=open(fileName)\n",
    "    inFile.readline()\n",
    "    lineNumber=0\n",
    "    for line in inFile.readlines():\n",
    "        if(avoidFrom!=avoidTo):\n",
    "            if((lineNumber<=toLine and lineNumber>=fromLine) and (lineNumber<avoidFrom or lineNumber>avoidTo)):\n",
    "                tempMat=[]\n",
    "                lineArr=line.split(',')\n",
    "                labelMat.append(float(lineArr[1]))\n",
    "                for element in lineArr[2:]:\n",
    "                    tempMat.append(float(element))\n",
    "                dataMat.append(tempMat)\n",
    "                lineNumber+=1\n",
    "            elif(lineNumber>toLine):\n",
    "                break\n",
    "            else:\n",
    "                lineNumber+=1\n",
    "                continue\n",
    "        else:\n",
    "            if(lineNumber<=toLine and lineNumber>=fromLine):\n",
    "                tempMat=[]\n",
    "                lineArr=line.split(',')\n",
    "                labelMat.append(float(lineArr[1]))\n",
    "                for element in lineArr[2:]:\n",
    "                    tempMat.append(float(element))\n",
    "                dataMat.append(tempMat)\n",
    "                lineNumber+=1\n",
    "            elif(lineNumber<toLine):\n",
    "                lineNumber+=1\n",
    "                continue\n",
    "            else:\n",
    "                break\n",
    "    if(ifPreprocess):\n",
    "        dataMat=preprocessing.scale(dataMat)\n",
    "    if(ifNormalize):\n",
    "        normalizer = preprocessing.Normalizer().fit(dataMat)\n",
    "        dataMat=normalizer.transform(dataMat)\n",
    "    return dataMat,labelMat\n",
    "def loadTestData(fileName):\n",
    "    dataMat=[]\n",
    "    inFile=open(fileName)\n",
    "    inFile.readline()\n",
    "    for line in inFile.readlines():\n",
    "        tempMat=[]\n",
    "        lineArr=line.split(',')\n",
    "        for element in lineArr[1:]:\n",
    "            tempMat.append(float(element))\n",
    "        dataMat.append(tempMat)\n",
    "    return dataMat\n",
    "def writeTestData(fileName,y):\n",
    "    file=open(fileName,'w')\n",
    "    index=250\n",
    "    for i in y:\n",
    "        file.write(\"%d,%d\\n\"%(index,i))\n",
    "        index+=1\n",
    "    file.close()\n",
    "def main():\n",
    "    #choose the best part of testing\n",
    "    X,y=loadDataSet(\"train.csv\",0,249,0,50,ifPreprocess=True)\n",
    "    Xtest,ytest=loadDataSet(\"train.csv\",0,50,ifPreprocess=True)\n",
    "    clf_rbf=SVC(kernel='rbf')#use the  rbf kernel function\n",
    "    clf_rbf.fit(X,y)\n",
    "    yAns=clf_rbf.predict(Xtest)\n",
    "    writeTestData(\"RBF_Test.csv\",yAns)\n",
    "main()"
   ]
  },
  {
   "cell_type": "code",
   "execution_count": 2,
   "metadata": {},
   "outputs": [],
   "source": [
    "#A submit\n",
    "#use rbf and preprocess\n",
    "from sklearn.svm import SVC\n",
    "from sklearn import preprocessing\n",
    "import numpy as np\n",
    "def loadDataSet(fileName,fromLine,toLine,avoidFrom=0,avoidTo=0,ifPreprocess=False,ifNormalize=False):\n",
    "    dataMat=[]\n",
    "    labelMat=[]\n",
    "    inFile=open(fileName)\n",
    "    inFile.readline()\n",
    "    lineNumber=0\n",
    "    for line in inFile.readlines():\n",
    "        if(avoidFrom!=avoidTo):\n",
    "            if((lineNumber<=toLine and lineNumber>=fromLine) and (lineNumber<avoidFrom or lineNumber>avoidTo)):\n",
    "                tempMat=[]\n",
    "                lineArr=line.split(',')\n",
    "                labelMat.append(float(lineArr[1]))\n",
    "                for element in lineArr[2:]:\n",
    "                    tempMat.append(float(element))\n",
    "                dataMat.append(tempMat)\n",
    "                lineNumber+=1\n",
    "            elif(lineNumber>toLine):\n",
    "                break\n",
    "            else:\n",
    "                lineNumber+=1\n",
    "                continue\n",
    "        else:\n",
    "            if(lineNumber<=toLine and lineNumber>=fromLine):\n",
    "                tempMat=[]\n",
    "                lineArr=line.split(',')\n",
    "                labelMat.append(float(lineArr[1]))\n",
    "                for element in lineArr[2:]:\n",
    "                    tempMat.append(float(element))\n",
    "                dataMat.append(tempMat)\n",
    "                lineNumber+=1\n",
    "            elif(lineNumber<toLine):\n",
    "                lineNumber+=1\n",
    "                continue\n",
    "            else:\n",
    "                break\n",
    "    if(ifPreprocess):\n",
    "        dataMat=preprocessing.scale(dataMat)\n",
    "    if(ifNormalize):\n",
    "        normalizer = preprocessing.Normalizer().fit(dataMat)\n",
    "        dataMat=normalizer.transform(dataMat)\n",
    "    return dataMat,labelMat\n",
    "def loadTestData(fileName):\n",
    "    dataMat=[]\n",
    "    inFile=open(fileName)\n",
    "    inFile.readline()\n",
    "    for line in inFile.readlines():\n",
    "        tempMat=[]\n",
    "        lineArr=line.split(',')\n",
    "        for element in lineArr[1:]:\n",
    "            tempMat.append(float(element))\n",
    "        dataMat.append(tempMat)\n",
    "    return dataMat\n",
    "def writeTestData(fileName,y):\n",
    "    file=open(fileName,'w')\n",
    "    index=250\n",
    "    for i in y:\n",
    "        file.write(\"%d,%d\\n\"%(index,i))\n",
    "        index+=1\n",
    "    file.close()\n",
    "def main():\n",
    "    #choose the best part of testing\n",
    "    X,y=loadDataSet(\"train.csv\",0,249,ifPreprocess=True)\n",
    "    Xtest=loadTestData(\"test.csv\")\n",
    "    clf_rbf=SVC(kernel='rbf')#use the  rbf kernel function\n",
    "    clf_rbf.fit(X,y)\n",
    "    yAns=clf_rbf.predict(Xtest)\n",
    "    writeTestData(\"submission.csv\",yAns)\n",
    "#main()"
   ]
  },
  {
   "cell_type": "code",
   "execution_count": 10,
   "metadata": {},
   "outputs": [
    {
     "name": "stdout",
     "output_type": "stream",
     "text": [
      "Trying coef from 0.01 to 20\n"
     ]
    }
   ],
   "source": [
    "import matplotlib.pyplot as plt\n",
    "#使用rbf,选择不同的正则化系数，比较准确率,只进行preprocess\n",
    "def process(accurancyAll,coefList):\n",
    "    Testsize=50\n",
    "    testRange=list(range(0,250,Testsize))\n",
    "    for begin in testRange:\n",
    "        accuracytemp=[]\n",
    "        for icoef in coefList:\n",
    "            #choose the best part of testing\n",
    "            X,y=loadDataSet(\"train.csv\",0,249,begin,begin+Testsize,True)\n",
    "            Xtest,ytest=loadDataSet(\"train.csv\",begin,begin+Testsize,True)\n",
    "            clf_rbf=SVC(kernel='rbf',coef0=icoef)#use the  rbf kernel function\n",
    "            clf_rbf.fit(X,y)\n",
    "            score_rbf=clf_rbf.score(Xtest,ytest)\n",
    "            accuracytemp.append(score_rbf)\n",
    "        accurancyAll.append(accuracytemp)\n",
    "print(\"Trying coef from 0.01 to 20\")\n",
    "coefList=np.arange(0.00,20,0.01).tolist()\n",
    "accurancyAll=[]\n",
    "process(accurancyAll,coefList)"
   ]
  },
  {
   "cell_type": "code",
   "execution_count": 18,
   "metadata": {},
   "outputs": [
    {
     "name": "stdout",
     "output_type": "stream",
     "text": [
      "(5, 1)\n",
      "(1, 2000)\n",
      "(2000,)\n",
      "(1, 2000)\n",
      "(2000, 1)\n"
     ]
    }
   ],
   "source": [
    "coefList=np.arange(0.00,20,0.01).tolist()\n",
    "accuncy=np.array(accurancyAll)\n",
    "coefNum=np.array(coefList)\n",
    "print(np.shape(accuncy[:,0:1]))\n",
    "print(np.shape(accuncy[0:1,:]))\n",
    "print(np.shape(coefNum))\n",
    "nc=accuncy[0:1,:]\n",
    "print(np.shape(nc))\n",
    "nc=np.transpose(nc)\n",
    "print(np.shape(nc))"
   ]
  },
  {
   "cell_type": "code",
   "execution_count": 19,
   "metadata": {},
   "outputs": [
    {
     "data": {
      "text/plain": [
       "Text(0, 0.5, 'accuracy')"
      ]
     },
     "execution_count": 19,
     "metadata": {},
     "output_type": "execute_result"
    },
    {
     "data": {
      "image/png": "[encoded data removed]",
      "text/plain": [
       "<Figure size 432x288 with 1 Axes>"
      ]
     },
     "metadata": {
      "needs_background": "light"
     },
     "output_type": "display_data"
    }
   ],
   "source": [
    "#画图\n",
    "%matplotlib inline\n",
    "plt.plot(coefNum,nc)\n",
    "plt.xlabel('coef')\n",
    "plt.ylabel('accuracy')"
   ]
  },
  {
   "cell_type": "code",
   "execution_count": 20,
   "metadata": {},
   "outputs": [
    {
     "data": {
      "text/plain": [
       "Text(0, 0.5, 'accuracy')"
      ]
     },
     "execution_count": 20,
     "metadata": {},
     "output_type": "execute_result"
    },
    {
     "data": {
      "image/png": "[encoded data removed]",
      "text/plain": [
       "<Figure size 432x288 with 1 Axes>"
      ]
     },
     "metadata": {
      "needs_background": "light"
     },
     "output_type": "display_data"
    }
   ],
   "source": [
    "nc=accuncy[1:2,:]\n",
    "nc=np.transpose(nc)\n",
    "#画图\n",
    "%matplotlib inline\n",
    "plt.plot(coefNum,nc)\n",
    "plt.xlabel('coef')\n",
    "plt.ylabel('accuracy')"
   ]
  },
  {
   "cell_type": "code",
   "execution_count": 21,
   "metadata": {},
   "outputs": [
    {
     "data": {
      "text/plain": [
       "Text(0, 0.5, 'accuracy')"
      ]
     },
     "execution_count": 21,
     "metadata": {},
     "output_type": "execute_result"
    },
    {
     "data": {
      "image/png": "[encoded data removed]",
      "text/plain": [
       "<Figure size 432x288 with 1 Axes>"
      ]
     },
     "metadata": {
      "needs_background": "light"
     },
     "output_type": "display_data"
    }
   ],
   "source": [
    "nc=accuncy[2:3,:]\n",
    "nc=np.transpose(nc)\n",
    "#画图\n",
    "%matplotlib inline\n",
    "plt.plot(coefNum,nc)\n",
    "plt.xlabel('coef')\n",
    "plt.ylabel('accuracy')"
   ]
  },
  {
   "cell_type": "code",
   "execution_count": 22,
   "metadata": {},
   "outputs": [
    {
     "data": {
      "text/plain": [
       "Text(0, 0.5, 'accuracy')"
      ]
     },
     "execution_count": 22,
     "metadata": {},
     "output_type": "execute_result"
    },
    {
     "data": {
      "image/png": "[encoded data removed]",
      "text/plain": [
       "<Figure size 432x288 with 1 Axes>"
      ]
     },
     "metadata": {
      "needs_background": "light"
     },
     "output_type": "display_data"
    }
   ],
   "source": [
    "nc=accuncy[3:4,:]\n",
    "nc=np.transpose(nc)\n",
    "#画图\n",
    "%matplotlib inline\n",
    "plt.plot(coefNum,nc)\n",
    "plt.xlabel('coef')\n",
    "plt.ylabel('accuracy')"
   ]
  },
  {
   "cell_type": "code",
   "execution_count": 23,
   "metadata": {},
   "outputs": [
    {
     "data": {
      "text/plain": [
       "Text(0, 0.5, 'accuracy')"
      ]
     },
     "execution_count": 23,
     "metadata": {},
     "output_type": "execute_result"
    },
    {
     "data": {
      "image/png": "[encoded data removed]",
      "text/plain": [
       "<Figure size 432x288 with 1 Axes>"
      ]
     },
     "metadata": {
      "needs_background": "light"
     },
     "output_type": "display_data"
    }
   ],
   "source": [
    "nc=accuncy[4:5,:]\n",
    "nc=np.transpose(nc)\n",
    "#画图\n",
    "%matplotlib inline\n",
    "plt.plot(coefNum,nc)\n",
    "plt.xlabel('coef')\n",
    "plt.ylabel('accuracy')"
   ]
  },
  {
   "cell_type": "code",
   "execution_count": null,
   "metadata": {},
   "outputs": [],
   "source": []
  }
 ],
 "metadata": {
  "kernelspec": {
   "display_name": "Python 3",
   "language": "python",
   "name": "python3"
  },
  "language_info": {
   "codemirror_mode": {
    "name": "ipython",
    "version": 3
   },
   "file_extension": ".py",
   "mimetype": "text/x-python",
   "name": "python",
   "nbconvert_exporter": "python",
   "pygments_lexer": "ipython3",
   "version": "3.7.5"
  },
  "toc": {
   "base_numbering": 1,
   "nav_menu": {},
   "number_sections": true,
   "sideBar": true,
   "skip_h1_title": false,
   "title_cell": "Table of Contents",
   "title_sidebar": "Contents",
   "toc_cell": false,
   "toc_position": {},
   "toc_section_display": true,
   "toc_window_display": false
  }
 },
 "nbformat": 4,
 "nbformat_minor": 2
}
